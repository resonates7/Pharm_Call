{
 "cells": [
  {
   "cell_type": "markdown",
   "id": "df6137e6",
   "metadata": {},
   "source": [
    "[EDA TODO:](https://docs.google.com/document/d/1N711UXfrLI09kV_NdWNkG6TK677rAHMHuH_gMttfxRs/edit)\n",
    "- MOST COMMON TERMS\n",
    "   - overall\n",
    "   - By brand\n",
    "   - By Contact type (HCP vs Patient) – assuming CONTACT_TYPE US Consumer = HCP\n",
    "   - IVR Reason\n",
    "   - By call type – transfer vs regular\n",
    "   - By call duration (short, long calls – what are they about?)\n",
    "- MOST COMMON MEDICAL TERMS\n",
    "   - overall\n",
    "   - By brand\n",
    "   - By Contact type (HCP vs Patient) – assuming CONTACT_TYPE US Consumer = HCP\n",
    "   - IVR Reason\n",
    "   - By call type – transfer vs regular\n",
    "   - By call duration (short, long calls – what are they about?)\n",
    "- SENTIMENT\n",
    "   - overall\n",
    "   - By brand\n",
    "   - By Contact type (HCP vs Patient) – assuming CONTACT_TYPE US Consumer = HCP\n",
    "   - IVR Reason\n",
    "   - By call type – transfer vs regular\n",
    "   - By call duration (short, long calls – what are they about?)"
   ]
  },
  {
   "cell_type": "code",
   "execution_count": 117,
   "id": "d05a94d2",
   "metadata": {},
   "outputs": [],
   "source": [
    "import pandas as pd\n",
    "import numpy as np\n",
    "\n",
    "df = {'ts_md': pd.read_csv('df/ts_md.csv', index_col = 0, parse_dates = ['CREATED_DATE_TIME']),\n",
    "      'md_ent': pd.read_csv('df/md_ent.csv', index_col = 0),\n",
    "      'ts_ent': pd.read_csv('df/ts_ent.csv', index_col = 0),\n",
    "      'ts_sent': pd.read_csv('df/ts_sent.csv', index_col = 0),\n",
    "      'rep_sent': pd.read_csv('df/rep_sent.csv', index_col = 0),\n",
    "      'cus_sent': pd.read_csv('df/cus_sent.csv', index_col = 0),\n",
    "     }\n",
    "\n",
    "def get_sent_type(mag, score):\n",
    "    '''\n",
    "     Create sentiment categories. n.b. pd.qcut vs. pd.cut below!\n",
    "    '''\n",
    "    sent_type = {'l-': 'maybe negative', 'ln': 'neutral', 'l+': 'maybe positive',\n",
    "                 'm-': 'negative', 'mn': 'mixed', 'm+': 'positive',\n",
    "                 'h-': 'very negative', 'hn': 'very mixed', 'h+': 'very positive'}\n",
    "    return [sent_type[x] for x in pd.qcut(mag, 3, labels = ['l', 'm', 'h']).astype(str) + \n",
    "                                  pd.cut(score, [-1, -0.1, 0.1, 1], labels = ['-', 'n', '+']).astype(str)]\n",
    "\n",
    "df['ts_sent']['sent_type'] = get_sent_type(df['ts_sent']['magnitude'], df['ts_sent']['score'])"
   ]
  },
  {
   "cell_type": "markdown",
   "id": "268c920c",
   "metadata": {},
   "source": [
    "Documentation\n",
    "- Entity: https://cloud.google.com/natural-language/docs/reference/rest/v1/Entity#Type\n",
    "- Sentiment: https://cloud.google.com/natural-language/docs/basics#interpreting_sentiment_analysis_values"
   ]
  },
  {
   "cell_type": "markdown",
   "id": "0f35d48c",
   "metadata": {},
   "source": [
    "# 7/8/2022"
   ]
  },
  {
   "cell_type": "code",
   "execution_count": 3,
   "id": "2aecc724",
   "metadata": {},
   "outputs": [
    {
     "data": {
      "text/plain": [
       "94"
      ]
     },
     "execution_count": 3,
     "metadata": {},
     "output_type": "execute_result"
    }
   ],
   "source": [
    "df['ts_md']['IVR_REASON'].nunique()"
   ]
  },
  {
   "cell_type": "code",
   "execution_count": 4,
   "id": "fdbc3305",
   "metadata": {},
   "outputs": [
    {
     "data": {
      "text/plain": [
       "<AxesSubplot:>"
      ]
     },
     "execution_count": 4,
     "metadata": {},
     "output_type": "execute_result"
    },
    {
     "data": {
      "image/png": "[encoded data removed]",
      "text/plain": [
       "<Figure size 432x288 with 1 Axes>"
      ]
     },
     "metadata": {
      "needs_background": "light"
     },
     "output_type": "display_data"
    }
   ],
   "source": [
    "df['ts_md']['IVR_REASON'].value_counts().hist()"
   ]
  },
  {
   "cell_type": "code",
   "execution_count": 5,
   "id": "e837619c",
   "metadata": {},
   "outputs": [
    {
     "data": {
      "text/plain": [
       "count    4127.000000\n",
       "mean        0.049624\n",
       "std         0.102225\n",
       "min        -0.700000\n",
       "25%         0.000000\n",
       "50%         0.000000\n",
       "75%         0.100000\n",
       "max         0.800000\n",
       "Name: score, dtype: float64"
      ]
     },
     "execution_count": 5,
     "metadata": {},
     "output_type": "execute_result"
    }
   ],
   "source": [
    "df['ts_sent']['score'].describe()"
   ]
  },
  {
   "cell_type": "code",
   "execution_count": 6,
   "id": "1bc1dfca",
   "metadata": {
    "scrolled": true
   },
   "outputs": [
    {
     "data": {
      "text/plain": [
       "<AxesSubplot:xlabel='score', ylabel='magnitude'>"
      ]
     },
     "execution_count": 6,
     "metadata": {},
     "output_type": "execute_result"
    },
    {
     "data": {
      "image/png": "[encoded data removed]",
      "text/plain": [
       "<Figure size 432x288 with 1 Axes>"
      ]
     },
     "metadata": {
      "needs_background": "light"
     },
     "output_type": "display_data"
    }
   ],
   "source": [
    "df['ts_sent'].plot.scatter('score', 'magnitude')"
   ]
  },
  {
   "cell_type": "markdown",
   "id": "f51d521a",
   "metadata": {},
   "source": [
    "| Score, Magnitude:  | Low  | Medium | High |\n",
    "|---|---|---|---|\n",
    "| Negative | Maybe negative | Negative | Very negative |\n",
    "| Zero | Neutral | Mixed | Very mixed |\n",
    "| Positive | Maybe positive | Positive | Very positive |"
   ]
  },
  {
   "cell_type": "markdown",
   "id": "079c321c",
   "metadata": {},
   "source": [
    "| Score, Magnitude:  | Low  | Medium | High | Total |\n",
    "|---|---|---|---|---|\n",
    "| Negative | 262 (maybe negative) | 20 (negative) | 14 (very negative) | **296** | \n",
    "| Zero | 908 (neutral) | 1176 (mixed) | 1267 (very mixed) | **3351** | \n",
    "| Positive | 216 (maybe positive) | 170 (positive) | 94 (very positive) | **480** | \n",
    "| **Total** | **1386** | **1375** | **1366** | **4127** | "
   ]
  },
  {
   "cell_type": "code",
   "execution_count": null,
   "id": "b82019bd",
   "metadata": {},
   "outputs": [],
   "source": [
    "# mark Q: months and \n",
    "# wordcloud for negative sentiment calls (so we can correlate it to https://docs.google.com/presentation/d/1gWxoouBanQOkFCfNGvZBFyooH2XEkwsZDp3eXznamKI/)\n",
    "# align this with deck (do it by word clouds, topic analysis, extracting '$' entity etc.)\n",
    "\n",
    "# sentiment between categories (slide 7):\n",
    "#    https://docs.google.com/presentation/d/1gWxoouBanQOkFCfNGvZBFyooH2XEkwsZDp3eXznamKI/edit#slide=id.gf4f734b47b_0_19\n",
    "# emotional response: \"here's what your customers are upset about,\" \"here's what they are happy about :)\"\n"
   ]
  },
  {
   "cell_type": "code",
   "execution_count": 11,
   "id": "b932fac4",
   "metadata": {
    "scrolled": true
   },
   "outputs": [
    {
     "name": "stdout",
     "output_type": "stream",
     "text": [
      "\n",
      "very negative:\n",
      "[\". Thank you for calling the response center . My name is shinter . How may I assist you today ?. All right .  I am trying to reach , uh , the executive assistant of em a long sleeve . Can you please connect me.  Um , and , sir , unfortunately , I won't be able to do that , because I can't place , uh , transpontin and then I'll call.  Oh , but she said not in the United States.  I don't believe so , no , sir ..  Okay . Who's the most seeing your person that , uh , that , uh , takes , uh , a feedback from your customers.  How have they listed ?.  ..  So , , I , I don't have senior level names in my directory that , that they're not listed that way , sir , but every feedback that we get from a customer , every feedback that we get from a customer , we knowtate it on the account , and it goes to a corporate office .  Okay .  But I don't have a name of who it goes to . . .  No , no , no , no , no , no .  No . There's got to be , there's got to be a customer relations office . Come on . This is a big company.  Don't , don't ,.  Sir , our headquarters are in England . We answer for sites and Pennsylvania , and , um , North Carolina .. .  Well , I'm looking at a photo of your building . It looks rather meant , and it says walnuts , streets , philosophia . And then , there's also research triangle in North Carolina , and there's also consumer healthcare and [##redacted##] New Jersey . And , uh , so , with all of those buildings , all of those campuses in the United States , I would think that there's somebody senior , running them. .  Okay ..  And again , sir , I don't have a name . I just have sight information . I don't have a name of who runs all of those facilities. .  Well , are there any departments , that's the old , are there any departments that , that , uh , are concerned with consumer relations.  Well , what , are you , are you , um , uh , inquiring about a particular product of GlaxoSmithKline.  Okay ..  Yes , and I'm giving feedback . So , it's , it's a particular product to precise precisely . Ugly , why would I be calling black , GlaxoSmithKline if I were complaining about a product of another company . So , I'm calling about.  I was asking if you had a specific , I understand . I'm trying to help you . What is the product ? And maybe I can get , uh , a nurse or a pharmacist to assist you with the feedback. . .  No .  Okay , but I , I , you know , I don't , I , I don't want to speak to an underlying . I want to speak with someone , an upper management at the very least , because I want my opinion to be her.  I don't have a name of anybody , sir .  Okay .  What's the product ? . .  Uh , Breo Ellipta. .  Yes .  No , well.  Okay , uh , , as I said , I can let you speak to a nurse or a pharmacist , and they can pass on the feedback , but I don't , I'm , I apologize , I'm sorry , are , are structure isn't built that way , where we have the names of senior level officers . We , if you had a name , I could transfer you , but I don't have a name for you ,. . .  I see . Is that , is that because the , I see . Is that , is that the , well , I gave you a name , and you said you couldn't connect me , so , is that because they don't want to deal with the , the Publix ? Is that what it is ?.  Okay.  I'm , I'm , I'm pretty sure that's not the case , and like I said , if you wanted to give me feedback , I'll be glad to notate it on an account for you with , okay.  No , no , no , no , no , please , please , don't insult my intelligence . Connect me to someone.  I'm not insulting your intelligence . I'm just telling you what processed we have in place , sir . That's , that's all I can say.  All right . Why don't you connect me to someone else.  Why too ?.  You just said that there was somebody who could connect me to . Didn't you ?.  Okay , I'll connect you to a nurse or a pharmacist . Is there anything else.  Okay , try a pharmacist.  Well , I , they're in a call rotation center . I , I saw apologized , but we are in a call center . So , I never know who I'm going to get . It's who's available . So , let's see , and.  Oh , so you're not even in the location . You're in the call center.  You're in a cool center . You're not even in the corporate office ..  But you're saying you're in a cool center.  Hi , . I can connect you to a nurse or a pharmacist . , the corporate office is in London.  Well , then , what am I seeing online.  I am , sir . We're independent contr.  In a cough center . We're all , I mean , I'm in North Carolina . I don't , I , so , you know , that's what I can tell you . I'll be.  Do you , do you recognize , uh , have you ever , have you ever looked at your own company ? There's an immense campus in Philadelphia . So , so I thought I was calling Philadelphia.  Okay ..  Sir , like I said , I know , we answered telephone calls for sites and Philadelphia and North Carolina . My nurses and my pharmacists are spread from North Carolina to Pennsylvania , and I'll be glad to let you speak to one of them.  So let's , let's , let's get one of them.  Okay . That's fine . Thanks for calling.  Okay , one moment .\"\n",
      " \"Thank you for calling the response center . My name is that and then I'm a registered nurse . How am I going to assist you today ? . . Oh , at them . You have Mister Anonymous on the line . He wants to speak to someone about a Breo . He doesn't want to talk to , he wanted a pharmacist . I told him I couldn't guarantee you a pharmacist , but he's not a very pleasant gentleman.  Lucky you ..  Not so far . I don't mind that . What , what kind of , what's he , , what's he need ? I mean , what's he trying to get ? .  Okay .. . .  He , he just wanted information about Breo . And then , he said he wanted to get feedback about Breo , and I told him I would be glad to take any information that he had , on Breo , and he said , no , I want to talk to someone else , and I said , all I have are pharmacists in the nurses . He said , I'll be glad to speak to one of them.  .  Okay , me too . I'll take it ..  Thanks at them.  Thank you ..  Hello , my name is at him . I'm a registered nurse with , uh , GSK response center . Uh , I was just speaking with the previous agents . She mentioned that you had some questions about Breo . Uh , how can I help you today ? . . . .  Um-hum .. .  Well , I've been attempting to reach somebody to give some feedback , because I , um , I have this , because of my current health status , I was prescribed Breo Ellipta , and I was told by the pharmacist , because I was shocked when I found out what , what it cost , and so the pharmacist said , well , they have some kind of a program or a GlaxoSmithKline , and you have coupons , whatever , to reduce the price , and , um , but the pharmacist can't do it , , the patient has to call . So I called . They took all sorts of information , and then they told me they couldn't help me . Um , and , of course , that's infuriating , in addition to the fact that this is a medication that I , my doctor says. . . . . . . . .  Need , and so I was trying to give feedback and complain that that's not right , that you have coupons for , like , two items . I mean , in this time , with inflation , the way it is , and the expense of the item , I mean , the , there's anybody at that company , does the , does the , does the damn , uh , alarms lead ? Does , I mean , does , does anybody listen ? I mean , what if it were , what if it were your mother , or her mother , that needed this medication . There are people out there who are going through difficult times , and , and , uh , I mean , uh , uh , uh , why don't you , why don't you make some discounts available to people ? What is this ? I mean , how great are you going to accompany be ? I mean , you haven't the pharmaceutical companies made out like bandits or nothing the last couple of years ?  .  It's just , it's unreasonable , and on top of it , I'm 65. Uh , closer to 66 than 65. So , you know , there's , there's a , a , a limited amount of money that I've dispensed for this stuff . , it's just unreasonable . And nobody. . . .  Any help ? Nobody knows anything . Every , uh , every number you call goes to a call center , okay ? That , nobody's accountable . They just send it to people like you . That's not the field calls like this . And all the people that are making the millions , hide behind their desks , it's outrageous . I mean , all you have to do is put a human element on it , pretend it was your sister , your mother , your father , your uncle , or you.  Very , very simple , and then you can understand what other people are going through.  Okay ..  .. .  .. .  .  Yeah , yes , sir , I can certainly identify with , uh , your Synthroid , and I understand how you feel . I will be happy to capture this in a patient feed back the case . Uh , the other thing I could suggest , sir , is there is an , an apt to call survey , and I know many people don't care for after call surveys , but this particular one , if you score out a certain way by your answers , then it is automatically reviewed by GSK , uh , the higher level . So I would , uh , highly encourage you to , to take the Asacol survey . Part of it will be , you know , how did I treat you on this call , but the rest of it is , like , you know , how , how , how do you feel about GSK ? How do you feel about our products , and I would , uh , definitely encourage you to take that , and that way you could speak to GSK in your own voice , if that makes sense .. .  .  I see . So they're going to take a recording of my own voice.  .  Well , I mean , it's , uh , you , you , you're , you're , uh , basically the first half of the call.  Okay .  In other words , you can't just perspect , press one for a very dissatisfied . They , they , they record your voice.  You , you can do that as , you can do that as well , but then there's also an option that , uh , at the end of it , to , to leave comments , uh , if you , if you would like , not required , though. . .  Hum .. .  I see . I love the , I love these companies . Don't you ? They , they , they take surveys . They , they , the first questions they ask are how you did , the , the , the , the , the , the , the , the functionary who's getting paid a , immediately little salary , and then they never want to hear a feedback on their lousy policies that all these people making multi millions of dollars at high , behind their den titles , like , name and alarms lakes , okay , who worked for an alcohol company , and now is in charge of a , of a pharmaceutical company , go figure , right ? I wish I , I , uh , made it in classics and mod , modern languages like she did . Um , and , and , uh , what , what , what , what had poker received . They don't want to get any criticism of themselves . They just want to dump it on you , the underlying , who's got a field calls like this . It's just ridiculous . It's insulting . We're all getting screwed and , and , and , and , and , and they're getting richer by the minute , and I'm no socialist , but this is outrageous . Four hundred fifty dollars for this stupid thing , you got to be credit , kid.  Yes , sir . I , I can't , uh. . . . .  .  Yeah , I'm.  Is , is there anybody , is there anybody , I know , I , I , I hear in your voice that you know exactly what I'm talking about . There's a limited amount that you could say , because you work for the stupid company , but you know very well what I'm saying is true . And it's outrageous , okay ? And to do this to people that need medication , it's not like I'm , I'm , I'm , I'm having a trip to heat , to heat hey or something , which is completely optional , okay ? This is a medication , just , these people should be in prison . Is there anybody at a higher level that I can actually speak to in person , because calling this number goes nowhere as you may know . It goes to the cold centers , because they're all hiding under their desks , or hiding under their yachts or something . Um , I mean , there's no , I looked online . There's just no number where you can actually call where somebody works . It's just , it just fumbles it out to call centers . How would I reach any of these people that are upper level management ? Where , where are they hiding ? .  On , on . Yeah . Unfortunately , you have about as much access to that information as I do , so I really don't have anything to offer as far as , you know , what you're seeking . Unfortunately . As much as I'd love to give it to you , I , I just don't have access to that information at either . . . . .  All right .  Is it , what , what , what a world . I just wonder when everybody's going to rehab , you know , and we have a , a Marriott when that part , too . It's just outrageous . It's just outrageous . These people hide behind their walls . Oh , but don't , don't come by wrong , we all know that walls don't work , but they hide behind their walls , somehow they build their walls , and everybody else has got to deal with every , all the other garbage . And we're left holding the bag . It's just , I'm so tired of holding the bag . That's the problem . I'm really tired of holding the bag . And when I saw this , it was literally sticker shock . I thought , I , I thought when , when they told me what the , what the , what the copay was , I thought that he didn't understand . And , uh , and I thought , I said , that was the full price , and then he told me the full price was $400 . 00 for something like $450 . 00 or $470 , 000.  .  Roughly , yes .. .  .  ?  Yeah .. .  Okay .  Like that . Uh , if , outrageous , and , and aren't , and I'm a musician in a church , how much do you think people like me make , and this thing , 75 bucks a month , okay ? Just unbelievable , just unbelievable . That's the copay from , from , with , with my lousy insurance , that's the copay , and go call their stupid Lyme there with their patients assistant program . The moment you say that you have some kind of insurance , any kind of insurance . You could get the insurance from the Botox on the corner . It doesn't matter . The moment you mentioned that you have some , it doesn't matter if the world's crepitus insurance . The moment you use the word insurance , they're like , sorry , goodbye . And , , what happened to the coupons ? Oh , we used to have a coupon . Now , we only have two combo , two coupons . Do you take this medi , well , I'll tell you what . I'll change my medication just so I can get a coupon . Just as crazy . Just as crazy . I mean , it's , it's , it's a crazy , it's insulting , and , and it's , and it backbreaking , and it's wallopbreaking , and it's just , it , I , I don't know what , what could possibly. .  Also this much that they do . And it's all made. .  Uh-huh ..  Yes , sir , I do.  So sick people , it's , that's , that's the flying thing of it all . I mean , this , these companies , they're , they're making money off sick people . Okay , all right . Uh , I , I've sent it enough , and I've wasted enough of your time , I know , I know you're sympathized , and I can hear in your voice that you understand what I'm saying . It's just very , very freaking frustrating.  I do , and I do understand , and I'm going to offer you that after call surveys as soon as we conclude , okay ? .  Yeah , I'll , I'll give him an earful , but I'll , I'll , I'll , I'll give you good marks.  . Very good . . Yes , sir . Have a great day . Thank you for calling you . Okay ..  All right . So I just told , uh , I just told on the line.  I just hold on the line , is that what it is ?  Yeah .  Okay ..  Yes , sir . I'll , uh , just hold one moment . I'll transfer you right now ..  .  Okay , thank you . ..  Yes\"\n",
      " \"..  Hum. Thank you for calling the response center . My name is shinter . How may I assist you today ?. . . .  Yeah .  Okay , Miss Banner ? Okay , Miss , no , ma'am.  .  Yes , good morning . My name is , isn't Banner . Uh , I've been calling for days to try and find out where I can get a , uh , an over the counter medication . That's made by your company . Uh , I keep being given numbers where there is no one study answers . We're unable to answer your phone call . Today , but it's every day . So it's obviously some kind of codependency .  I , I , you know , I'm trying to buy , hold on , I'm trying to buy . No , ma'am . I'm sorry . What did you say ?. .  That's fine , but I need an answer . That's the problem.  I was going to tell you that they are splitting off to become another company , so there have been intermittent times in this past week , that , yes , ma'am , they have been closed , so I , I apologize for the inconvenience for you , but we don't support that platform . We can only transfer you to the only number that we have . Now , , that is the consumer helped department . It's separate from what we do here at the response center , which is pulmonary drugs and oncology . So , I apologize , I don't have any better thing to tell you or offer you.  Well.  Okay . Okay , so what can I do for you ?.  Well , I mean , do I need to call the President of the company ? I mean , I understand . That , that's not your thing . I get that . I understand that . I , I'm a business woman myself , but what I don't like , with a company that tries , that just gives you numbers that don't answer . I need a number , that's going to answer , and tell me.  Well , like I said , it's , it's becoming a separate company.  It's becoming.  Okay ..  Well , then that's not going to help me at all . I , that's not , I know that . I understand what you're saying . But that's not an , an answer that's helpful . In fact , it's even more confusing . ..  I , I , that's all I have , because it's not our company anymore . So , I'm sorry ..  Well , who can you give me too ? But who can use them ?  Who can you give me to then , then can , who can , eventually , get me an answer . That's the question ..  Those are the answers . Uh , that's the number we have . What's your specific , uh , uh , products , Miss Banner.  It's Gaviscon . Well , you don't , uh , deal with that , so.  I still have numbers for it.  So , I was just going to see.  Yes .  Um-hum.  Um-hum . Well , I was given cucumbers , and , uh , the one for the Gaviscon numbers is 8:00 , 8:00 , 8:00 , 3:00 , 6:00 , 7:00 , 6:00 , 4:00 , 7:00 , 1:00 . Is that the number you're going to give me ?.  Hi .  Okay , so it's Gaviscon . It's bad .  Um-hum.  I don't know . I have to look it up for you . Gaviscon is 8:00 , 8:00 AM , 3:00 , 6:00 , 7:00 , 6:00 , 4:00 , 7:00 , 1:00.  Yes , no answer ..  I just read it . I just called it . I just called ..  Okay . Well , let's try it today , because I haven't gotten any communication that they're close today . Okay . Okay . I'm sorry . That's the only number I have to offer.  It's in London . It's in London.  I.  Okay . Is , do you have a corporate number ? Do you have a corporate at the office there ? I can speak with the corporate office .  .  Uh-huh . What's the number in London ?  No , you have one in Pennsylvania . You have it .  Oh , okay . .  Yes , but they don't answer ..  ..  Um-hum ..  , uh , ma'am , I'm , I'm not disputing . We have sites , three or , three sites in Pennsylvania , and we have sites , but they're not corporate offices . So , the number for the consumer help is the $800 245 , 1040. And , like I said , you know , I understand it's frustrating for you , and that's because their transitioning to be their own company , and I'm sorry it's inconvenient , and you , I really am , but the numbers that I've given you are all that I have.  Oh , you are . I understand . I , and I understand you .. . .   I appreciate that , but , but I don't want to do it at your , uh , , I guess you don't , I'm not making myself clear . I understand what you're saying .  Okay .  So those numbers , can I think for a moment , so those numbers are not going to help me . I get that . I need a number that I can give me some other information , so it's in a completely different department . I will need a number . I need a number that overseas , , those kinds of departments.  Well , it's another company now . So , unfortunately , I don't have any more numbers . Uh , that's all I have.  So , GlaxoSmithKline does no longer.  Gaviscon ? Is that what you're saying ?.  Okay ..  I'm saying that it's becoming another company split off from GSK . I haven't been privy to the name of the company . We haven't been privy to any of the other telephone number.  Okay .  That may I speak to someone , and she S , uh , then I need to speak to somebody in , well , actually , one ..  I don't know who to give you to . I , I apologize , but I don't know who to give you to ..  Well , I'll tell you what . If you can give me a couple of , uh , uh , different departments , I can tell you which one would probably be able to help me. .  May , I , I , my , my directory is not\"\n",
      " \"Thank you for calling no response , sir . My name is . How may I help you. . . .  . Yeah , no , sir . I've been taking this medication called Trulicity , and , um , I was given a one year trial , or a , no out of pocket , and zero payments.  How do I get back on that , his own payment program ?.  Um , there is my multi , no payment for a while.  I can't hear you . What's going , you got something going on in the back ?.  The day , there is no no payment program . No , there is nothing going on in the bag . There is no , no payment program . I'm a little confused about what it is , what they're speaking about.  , and there's , uh , you can't extend it for a longer period ?. .  Well , what are you referring to ? What do you mean no payment program ? There is no , no payment program.  All right , . I , I , the medicine called Trulicity . Are , are you familiar with that ?.  Yes , I know what that is . I'm just asking about the no payment program . I'm , I'm confused on what he , what you're talking about.  .  . Okay , uh , . Okay , I have health insurance through my employer.  Um-hum .. . .  didn't , when I submit the [##redacted##] , well , when I , uh , get the prescription , they said you can pay up to 0 coupons , you can pay up the $0 . 00 with the coupon . So , I will give them a coupon , and I pay $0 . 00 for one year . Well , my year's up , , now they want me to pay a copay , , of , of $100 . 00 . How do I get around not paying the copay ?.  All right , let me get a little information so I can document the call . Can I have your first and last name , please ?.  , can you more M O R E. . .  And the phone number for you.  315 , 412 , 71 , 61..  And the zip code.  I want you to 0-6 ..  All right , do you mind if I place a call on how I do a little research for you ?.  Go ahead .. .  Thank you . All right , thank you for holding , okay . So , um , so in order to get a new coupon , you will need to go to the website , and do the application online and the coupon of the e-mail to you , so you will need to go to this website , right ?.  .  , okay , and then this acts for the coupon.  .  Yes ..  Uh , to see , when I fill it , I , when I got the coupon , and I fill it out , it says I already previously submitted a coupon last year , and this is a new year .  Um-hum.  What website are you going to ? They , because they shouldn't say that.  I , I'm just.  . Um , when I , well , the , my , my , my lung doctor gave me the coupon , and I filled that out , and I turned it in to my , uh , pharmacy , . And when they called , he said , , that when I called , they said that I ,.  Okay , but I did that.  .  Okay ..  I understand that , but the coupon is only for a year . The coupon expires every year in December , and then you have to get a new coupon . So you will have to go to that website . So you , I'm , I'm confused . . I'm confused . You've been , when did you get , when did you go online to get the coupon ? Because the coupon , if you went online this year and got the coupon , it shouldn't be expired . It doesn't expire until the end of this year ..  , okay , so I'm , I'm going to try it again . See , my doctor handed me the coupon , and I , and then I went to the website and called it in.  .  . So , actually , just try it again ..  Whatever once I. . .  You went to what , what , uh , what , what , okay , I'm confused . When you say you went to the website and called it in , you called what in ? I'm , I'm confused.  .  Um-hum .. .  When I called in on the , um , hang on , let me pull it out . When I called in the website , when I went to the website , I tied my mind information , and I said , okay , I'm not holding it in . But then when my pharmacist , by the process it , they said , it's not working , because I had already previously.  Hum .  That shouldn't matter.  .  All right .  No ..  Um , got this medication , , rashes , and not this year . So , you , is this the one , uh , it does , is this a one time deal ? You can only do it just once ? .  No , you get a coupon every year in that coupon lasts for a year , so I don't know what they're speaking of.  Okay , if I give you the number.  told you the number of the coupons ?. .  ..  And if you just got that , if you just got that coupon this year , it should be . Okay , let me transfer you over to my counselor , and they're the ones that handles our coupons , so they'll be able to check their numbers for you . Let me give you that phone number before I transfer the card . .  Okay , hang on , let me get a pen .. . .  Okay , what's the number ?.  All right , so , so the , I'm giving , the person , the number that I'm giving you , um , is , is to meclizine.  MC , [##redacted##][##redacted##][##redacted##] , E , F , F , F , F , F , F , F , O , N.  Okay . E.  , and three , okay , and.  SS O N.  Okay ?.  The phone number is 866. .  Seven , four , seven.  7:00 , 4:00 , 7:00 ..  One , one , seven , zero. .  Hum.  .  . Okay . Air code 8:00 , 6:00 , 6:00 , phone number is 4:00 , 7:00 , I mean , correction . The air control is 8:00 , 6:00 , 6:00 . The number is 7:00 , 4:00 , 7:00 , 1:00 , 7 , 0 ..  Okay .. .  Correct .  And they'll be able to check them numbers for you . Let me get some transferred over to that Department of Missouri , so they can assist you with that coupon.  Okay .. .  I'll write , is there anything else I can assist you with before I transfer ?.  .  Uh , no , thank you ..  Okay ..  All right . Well , thank you for contacting GSK , [##redacted##] for the transfer , okay ?  Okay . \"\n",
      " \"Thank you for calling the response there . My name is registered nurse . How can I help you today ?. Uh , hello . Yes , hi . Hey , uh , I called yesterday about , uh , the Flovent , uh , HFA , that I have.  .  Okay . Yes .. . .  Hello ? Can you hear me ? And , uh , uh , the nurse , I , I talked to , he told me to , to clean the head , because what happened , uh , most of the medication , instead of coming to the mouthpiece , it goes up . And he asked me to , to clean the , you know , the mouthpiece inside , and see if he still happens , so it looks like , you know , still a lot of , a lot of medication goes up and very little comes to my mouth.  .  Okay , um , so you did say you called yesterday. . .  ?  Yes , I did call yesterday , but I don't have a case number because I was driving , I wasn't able to , to write it down . And he said , we'll associate it with my phone number . So , I'll , if you want , I can give you my phone number and check.  Um , yes , but did they give you a case number.  Uh , uh , okay .. .  That's what I'm telling you . I was driving at that time . And he didn't give me the case number because I couldn't write it down . So , uh , he said when I called , when I called , you know , he , somehow you will find me , you know , giving you the phone number.  .  Okay , and , um , um , can you give me your name.  Yes , lastly , bowel movements , A L B U , as far as the NicoDerm.  .  Okay ..  And the phone number if you need it. .  Okay . I think I found it . Okay . So , you were driving and you can't get it to spray , um , but you weren't able to clean the device at the time either. .  Okay . So , uh.  Yeah , I wasn't able to heal , and then when I went home , I did clean it , but , uh , you know , still , uh , a lot of medication comes , you know , goes up . I don't think that's normal , you know . I think the medication should , should come to the mouthpiece , not go up. .  Okay . If it's going up through the top , then that means , is this the first time you've ever used this device.  What is the first time I ever used the disk device , the Flovent , but I use another device , it's similar.  .  Okay . So , um , if the medication is actually coming up in exiting out to the top , that means that the full dose is not being inhaled , okay , so , um , that's that issue , but is , did , is the device working now that it's , that it got cleaned ? .  .  Well , no , it's not working . It's still the same issue as I had before . Even if I cleaned it.  .  Okay . So , how did you clean it. . .  With the problems of the , the way that the guy told me yesterday , you know , take , uh , gotten swollen , was inside , uh , with a little bit of water , including the hand over there , and then , you know , with the other part of , of , of the dry one , cleaning.  Okay .  Okay . So , what is the issue. . . .  Okay ,.  And , uh , this is not normal . I mean , this is , you know , uh , right now , I have , uh , one on 109 , because I think two or three parts , you know , I , I lost , uh , cleaning it and doing the , so I use it only for three days , and this is not normal , you know , even , I mean , you clean it , okay , I , , I cleaned it after two days . But , uh , it did the , it did , uh , this thing , uh , you know , since the beginning , since I took it . So , I don't think this is , uh , this is . Yes ..  Okay . So , what it , so , the issue is , is that there's medication coming out the top of the device.  ?  Yeah .. .  Okay . So , , come in , like I said , if it's exiting out the top , then that means that when you go to take this medication , what happens if you , if , if you don't inhale the full dose of medication , it is going to escape out the top.  Well , that's , that's why I'm calling , you know , because I'm not able to get the full dose of medication.  Right , so what happens is that , so when you put the , so when you put the device in your mouth , what you want to do is you want to press down and you want to in , take a deep inhalation at that same time . .  Yes , I'm doing that now , but when I push down , the medication goes up . What's so hard to , to understand ?. .  Okay . Uh , that's what I'm saying , sir , is if the medication goes up out , if it is going up out of the top of the device , then.  Uh.  .  . Listen , listen , the , the , the device that you gave me is not working properly , you know . So , what is so hard to understand ? When I push down , when I push down , the medication goes up.  Okay . So , . Okay . So.  Instead of coming to my mouth . So you're saying that my fault or what do you think ?.  So , so if you have the device right now , do you have the device in front of you.  Yes , I have the device in my , my hand.  Okay . So , what I want you to do without , without it being in your mouth.  I just want you to , to , this spray it.  Facing away from you . Don't , don't spray it towards you . You just spray it facing away from you ..  .  Yes , and you'd come , you'd come both ways . It comes up and in front . I did that. . .  Okay , so it's coming up and out the front .  .  So , are you sure it's the medication coming up out of the top or is it just , like , air ?. .  Okay ..  Listen now . How can I , where can I take this , uh , this device to a professional , to check , you know , because I'm not going to stay all day on the phone to explain it to you , what happens , okay ? I got it from the pharmacy , the pharmacy won't take you back . Where can I give it back and , and forget about it ? You know , do you have my motor home , send the money back to the , the , the insurance or whatever it is , or don't even tell them , but , you know , just tell me what to do with the medication , because I'm not going to say one hour will be two on the phone . To explain to you what happened .. .  Okay . Just.  Yesterday , hello . Yesterday I was told that if it really happens , you're going to replace it with a better one , with a new one . So , now you are , you know , keeping me on the phone for half an hour. .  I'm telling you , this is what happened . The medication goes up inside of coming to my mouth. . .  Okay . So , how do you want me to prove that ? Do you want me to , to , uh , to make a video to show it , or how , how do you want me to do that ? You want me to go to a certain place ? I go to the pharmacy and they , they check it . What do you want me to do ?  .  It's wrong , the medication , the vitamin you gave me is wrong . You have to replace it , , okay ?.  .  . All right , just one minute , sir.  ..  All right . ..  Okay ?  Okay ..  Yes , so , um , I was just , um , checking with some other agents to see how I handle this , because , um , when , like I said , when it comes out the top , it's not usually a product issue with a , um , uh , it's an issue with just not inhaling the dose completely . Now , prior to you using the , um , medication , the , the first time , um , did you prime this device ? .  He has ma'am , I do have a problem with his divorce , has had the fracture of his hip four times , four times.  Okay , so you , um , so you shake it for about five seconds , spray it , shake it for five seconds , spray it.  .  Exactly . Exactly ..  Okay , and then you shake it prior to , um , you shake it for five seconds prior to taking the dose of medication as well.  .  Yes , ma'am , every time when I take the medication , I , I shake it for five seconds.  Okay . So , but the medication is coming out of the mouthpiece as well , correct ? So the medication is drying out.  . It , it , it , it's a little bit comes to the mouthpiece , but it also goes up. . . .  Okay . And , um , you said that , um , when you , so when you push it down , do you , do you , um , do you , do you push it down and hold the canister.  Down for a few seconds. .  Okay , lithium , lithium , lithium . Yesterday , I spoke with the person , you know , I explained to him everything , but he told me to clean the , the , the mouthpiece . I did it , and now I have to go through again , and he said if it happens , you're going to replace it . No , I have to go through all this again with you , and you probably going to say that it is not your fault , it's my fault , so forget it about it , I'm going to hang up and goodbye .\"\n",
      " \"Thank you for calling the response on her . My name is lids . I'm a nurse . I may help you today .. , highest.  You have my name up there ?.  When the pendulum wrapped.  Oh , god , you sound so happy . Yes , that's who I am . That's who I am . Yes , it is ..  .  . Is that you ? Okay . How can I.  Okay , so , um , um , um , I haven't.  Yes , ma'am . And I recognize your name.  I've spoken to you before ..  Um-hum ..  Um-hum ..  Um-hum .. .  Um-hum. .  .  Right . Yeah ..  Okay , so , I'm taking care of . Yeah , but let me tell you something . Tell your people , okay ? I never knew that there would be any side effects from this vaccine . The doctor never said , oh , but if you , you know what I mean ? Like , they , they sent me this percentage of people that may have of that adverse reaction to the vaccine , to the shingles vaccine , right ? They sent me after the fact . Don't you think that when a doctor says , don't you think you want to get the shingles vaccine , ? Please say , what do I need that for ? I'm healthy , because you don't want to get shingles . Never told me that there could be a side effect , nothing . She was a woman . I trusted her . You know , she's , I was a woman internist doctor . Nobody said anything when I got it at the drugstore where I got it . Nobody said , well , you know that there is , uh , risk with this , you could come down with it . Nobody said it , because she said that , oh , you wouldn't come down with it , because they don't have the live , you know , vaccine in it . So , I said , well , how does the body identify with it when it has to have something to identify with it , to bring it on , because it was some type of protein . I went to a urolog. .  It's a PhD . A friend of mine . He went and did research on it . He said there was something in there that did this to you . I mean , the thing is , it's so painful that I can't even function , and here I am two and a half years later , and now I got to bring a wall suit , and I got to do it , because someone said this morning , well , nobody would have taken this . How does he know nobody would take it.  You , you're , this morning.  Because you were sent in the 80s and don't you think people should , yeah ? Go ahead ..  This morning , you spoke to someone here ? And they said that ?  ?  Oh ..  They did not speak to someone there . I did , did not speak to someone there.  Okay ..  Um-hum ..  Um-hum. . .  Okay .  Yeah ..  Um-hum . ..  I just know it .  Okay .  Uh , because I'm representing myself , and I only have six months to , to bring this against them . I mean , it's not their fault , but who's full is it ? How do they expect me to live with this kind of pain every day ? For the rest of my life . You know , uh , they should have said there's a risk , and then I would have said , well , no , I wouldn't not have gotten it . You know , somebody had Tysabri responsibility for this . I cannot live like this . We live in a very narrow society that's based upon the physical . Everything gets physical . And women at the age are throwing out mis society . You've got to have all your faculties , to exist in to , to , to , to live . Do you know what I mean ? And I come up sick , because you sent me after the fact . I read all your literature . I saw it's 6% that may have not had a good response . Don't you think that's responsibility of the doctor telling you ? You know , I won't even get the damn pneumonia shot now . I didn't have to get the shingles shot . Because of what's in my head . But even that shingles shot , they're not responsible . They're supposed 10 years down the line . They fuck with your B , sorry . God forgive me for the cursing . You know , those bright proteins go in into your GNA . You know. .  Suppose people are going to have to come down with shit ..  I do . Walk away ?.  Okay , so mispanogram . What , what can I do for you today , ma'am ?.  I know it sounds chorea . They had set up a fun . Yeah . I'm sorry . I just want you to let.  What I'm saying to you , you make sure it gets to the right people.  .  . Okay .\"\n",
      " \"To call on GSK , my name is Miss [##redacted##] , and I am a nurse , I may as well today. Uh , I got a couple of questions about the shingles vaccine. .  Okay .. . .  Uh , I , I've got , uh , occasions shingles . It's been going on for two and a half years . Uh , I've talked to , uh , seven doctors , and , uh , uh , pretty general practitioners and , uh , four neurologists , uh , six of them say , uh , won't help . Um , if I get a , uh , go get a shingles vaccine now , one says it may be , uh , maybe I'm getting a re-infection , and this might cigarette reinfection , um. .  One says that , uh , uh , getting your shingles vaccine now , while I have the shingles , may make it worse.  Okay.  Uh , which of those opinions was , uh , uh , agreeing with , uh , your research.  Uh.  Okay . Um , uh , uh , none fully . Okay , so the first thing is that shingles will not help , which occurs shingles outbreak . It's only to prevent possible further recurrences . So , no , it won't help with the current outbreak that you have . Um , the other thing is , is that you cannot receive the shingles vaccine while you have an active outbreak . You have to be beyond that outbreak in order to receive it , so it can't be administered during an active outbreak . Um , the doctor that told you that it may actually prevent reinfection , that is possibly true , uh , well , partially true , so it , once you get over this active infection , if you do decide to get it , it will lower your risk for reinforcement , . You can only get it after your active infection has resolved .. . . .  So , uh , uh , are , are you saying that , uh , uh , there's , uh , no , you're scheduling the vaccine then at this point , or that I should go , uh.  Uh , exactly , , uh , no , sir , while you have an active infection , you should not receive the shingles vaccine.  Exactly . That's correct ..  I should not get it . It says I've already got it . . Is that what you're saying ? Okay . Well , do you , uh , uh , uh , uh , uh , uh , uh , just offhand , uh , do you have any idea , uh , none of these doctors seem to , uh , know anything about shingles ? Uh , do you have any idea , uh. .  .  Uh ..  Um.  Uh , uh , who am I contact , or is there any organization of shingles sufferers or anything like that ? Certainly , there's someplace that , uh , a doctor , uh , knows what to do about this , uh , shingles , it's been going on for hundreds of years , by now , they should have thought of something that , uh , might help it . Uh , do you know of anything that we might contact.  Uh , um , I , it , I don't know . Uh , it's , uh , that you've seen so many doctors , and they haven't prescribed anything that's been of assistance. . . .  No , uh , uh , oh , well , you know , they , they prescribed , the usual creams and salves and all that . Uh , Lidocaine patches and whatnot . I've tried all those things , and , uh , uh , they , you know , said they might relieve the , uh , a little bit of the itching and the soreness for a few hours , but , uh , the , the , none of them have offered anything in the way of a cure.  Okay , . Now , I have any of those doctors in a dermatologist. .  Yeah , uh , uh , the first time we talked to her was that a dermatologist , and , uh , but , uh , he said that , uh.  Okay , well , , I , I know that they're , oh , go ahead .. .  Uh , he , he prescribed , uh , you know , some salve , uh , the , uh , smeared on it , but like I say , it lasts , uh , it might give a little relief for just a few hours , but , uh , had no long term effects ..  And , uh.  Uh , .  Okay , um , uh , well , that's usually the recommendation for shingles is that you see a dermatologist . Um.  Yeah.  I , I don't , I don't know . I don't have any additional recommendations . I mean , uh , being that the dermatologist didn't work , I would suggest maybe trying a second dermatologist or possibly a neurologist . Have you seen a neurologist ? . .  .  .  Yeah , I've seen , uh , um , let's see , how many of these for a neurologist , I think , uh , three of them were neurologists , and , uh , uh.  They were not able to operate any help either . Um.  Uh. . .  .  Um.  One of them I seem to be really confident and , uh , um , uh , that I've been inspired confidence in me that , uh , uh , they knew what they were talking about , but essentially , it all came down to the fact that they're , uh , they could not offer any cure for a day also , prescribed another kind of , of the , of the support% lighter chain roll on , but , uh , that just lasted a couple of hours , too . Uh , , I'd , uh , just , uh , uh. .  And I , I , I , I , in fact , just , uh , last week , I went to see another doctor , uh , he was a general practitioner , supposed to be a geriatric doctor . This seems to be , uh , shingles affects older people . I don't know , maybe he might know , of course , I'm an older person to do on 91 , uh.  .  Okay .. .  .  Um.  Um-hum .  ..  All right.  But , uh , I , I , uh , he , he wasn't able to come up with any help . Um , but , uh , there must be somebody somewhere , though , and , uh , so , uh , but I appreciate your listening to my long sense story here , and , uh , uh , it's just kind of a question of straws , I thought maybe , uh , might start goals earlier or something , so.  .  Right . Um , I , I don't know . I mean , I would say reach out to the CDC , but I'm not sure that they'll be able to help you find somebody that can help you locally . I mean , they may be able to discuss , um , treatments with you or successful treatments , but I'm not sure if they'd be able to find someone like an actual doctor to help you out locally , but , I mean , they might be in sending you more information , or , or treatment options for it .. .  And , and , uh , so your suggestion , uh , uh , is that I just , people looking for a doctor.  Oh , I mean , , uh , right , they , I mean , because , like I said , I could give you the phone number to the CVC , but basically , they would just be able to probably give you more information than possibly options for treatment , but I don't think they'd be able to help you locate a local doctor.  Okay . All right . Well , we'll just keep trying , uh , uh , to the neurologist and , and see where we can , uh.  Okay.  .  Well , actually , if , if , uh , , uh , if , if I were you , sir , I would kind of focus on dermatologists , because in my experience , it's typically the dermatologists that treat the shingles outbreak . So , I would maybe focus on the dermatologists. . .  .  Wow ..  Okay . Well , that's , uh , that's what we'll do . And , uh , I , the , the neurologist that I did go to see was a , uh , uh , a group of , uh , uh , neurology , uh , doctors , and , uh , two of them participated in , uh , examinations and so on , uh , in fact I thought I was , uh , uh , so sore on the front of the chest , I thought I was having a heart attack and , uh , sent me to the hospital . . But , uh , uh , it was not a heart attack . It was just the shingles soreness.  Hum . Yeah ..  Uh , but anyway , uh , there has to be a , uh , uh , like I said , there has to be some more neurologists here in this , uh , I'm in the candidate city area , and , uh , so I'll just , uh , uh , look up another , uh , neurologist and , and give that a shot.  Uh , but.  .  Right , and , and , and again , if I were you , I , I soak this on . Not the neurologist , but the dermatologist . . Right , the .  Uh , dermatologist , I mean , yeah , excuse me , yeah , yeah . Um , okay , yeah , well , that's , uh , that's what I'll do , and , um , and , uh , thanks again for your advice . I appreciate it ..  .  Oh , yes , sir . You're welcome , and I hope you can find someone that can give you an answer , because that sounds extremely painful.  Okay . Well ,.  You have a nice day now.  And thanks again.  .  ?  Yes , sir . You was well , and thank you ..  And thanks again for your help . Bye.  Yes , sir . You're welcome . Bye bye .. \"\n",
      " \"Um-hum .  Thank you for calling the GSK response center . My name is [##redacted##] , um , the pharmacist , comma , assisted today .. Well , I hope so . I had more than one address here . Uh , I had gotten one of the things you were around your neck , you know , in case you have a fall.  .  ?  Yeah. .  And it's one that only works inside the house , so if I wanted to go outside , they wouldn't do me any good , so I just got the new one a couple of days ago , and this one does work outside the house . . But , uh , to pay , send back the old one , which was prior to the , uh , store , and they packed it up , and , and they sent it back , but I had to pay for the shipping . So yesterday , I got the shipping label with , uh , it doesn't , doesn't do any good , because it was already sent back . ..  , uh , and , and , and you're , you're calling a , a , a drug manufacturer . Do you realize that ? Did you get that from GSK ?. .  I think maybe you might have the wrong number.  Look , whoever I was talking before , they said they'd transfer , they said they would transfer me , and I have no idea what's going on at the end of the country . I'm just doing away with what they told me to do.  Okay . Uh , who , who , who ,.  They knew I was , what I was talking about , so why would they transfer me there ? That doesn't make sense. .  .  . I'm not sure . Uh , I'm not sure . We don't , we don't sell any life alerts , though . We , we sell drugs , um , you know , like inhalers and stuff , uh. .  We're , we're a , we're a drug manufacturer.  Okay . Is there a number or something.  Well , why would they transfer me there ? That doesn't make sense.  Yeah ..  Yeah , it doesn't make sense at all . That's why I'm , I was a little bit , be fuddled . I thought that maybe what you were talking about around your neck had something to do with one of our drugs , but , um , I think you have the wrong number , okay ? I'm , I'm sorry , I can't help you on that ..  Okay ?. .  Well , I don't know what I'm supposed to do now . I , uh , talk to one person , and they give me another person , and this person that gave me you ..  Okay , well maybe they weren't sure what , what , if , if there was some , uh , thing , but I don't , I don't think this is at all connected with , with GSK , the manufacturer . Where did you get our number from ? .  No , I want to.  From , uh , whoever I was talking to.  Okay . All right ..  She didn't give me the number if you just transferred me. .  I don't either . ..  Okay , I , I'm , I'm not sure , I'm not sure why they would transfer you here . Um , I , I would , I would find out , , yeah , there , there's probably a phone number on your , on your necklace for you to call if there's something malfunctioning or on that paperwork you received , okay ? .  And then.  Well , that's what I started out with , and then this is the , this is the third person I've talked to , I want a lifeline . ..  Okay . All right . Um.  And I got.  I , I'm not sure how , you know , , you're not , but I , I , I don't have any way to help you , because we do not , we do not tell until I fill out , okay ?.  All right .. .  Okay ..  I suppose I got to hang up and start all over again.  Uh , uh , uh , uh , I'm thinking , uh , uh , maybe that you'd have to run a number or something like that . I'm not sure.  .  Hum.  No , I didn't , I didn't , I didn't have this number at all . The person I was talking to about lifeline is the one that connected me to you , so now I've got to start all over again . ..  I don't know if she got that number . She knew what I wanted.  .  ..  Okay , all right , well , tell them when you call them that they , they , they , , yeah , she must have taken the wrong number then . Okay . . But , yeah , no , I , we're , we're , we're not , we're not the correct company , okay ?.  All right . All right . I , I hope you get the right number . No problem ..  . Okay . I'm not sure about that , but I'll just start from the beginning , and I'll start from the beginning again . . Thank you ..  Okay . All right . Um , bye , bye ..  Right\"\n",
      " \"Good morning . Thank you for calling the response sooner . My name is oddly . How may I ask this you ?. Yeah , I thought I was just wanting to know if , is there a shortage on drowsy , Ellipta.  Oh , what kind is that ?.  , uh , sir , not that we are aware of . How can we assess you today ?. .  Well , I'm , I'm in Indianapolis , and I called CVS , which is a large pharmacy , and cross country , and they said they don't have any tragedy , elliptical , uh , within 50 miles of Indianapolis. .  Now , you said there's a nationwide shortage or something.  So , I'm trying to find out if that's true or not.  Well , sir , I'll be more than happy to research your inquiry . Um , may I collect your contraceptive information , or are you trying to get some Trulicity ? .  Yes ..  All right , sir , and I had.  I had a prescription called , called in for , uh , a year's worth of Dilaudid at a CVS in Avon , Indiana , and they said they just can't get any .  Hum.  All right , so I'll be happy to research your inquiry . We may have your name.  Is Rich web.  That's the webMA . Is that web with two Bs or one B ?.  Two Bs.  May I have your telephone number , please ?.  , three , one , seven , two , seven , three , eight , five , four , five .. .  And your zip code.  Four , 6 , 2 , 3 , 4. .  Um , you said 4 , 6 , 2 , 3 , 4.  Yes ..  And you're looking for trilogy and Indianapolis.  Um-hum ..  So I didn't know if it was something that CVS wasn't thing anymore or. .  You didn't solve them or they didn't pay their bills ?  You don't give it to them anymore or what's been trying to figure out , is there anyplace else , and then anaplist that would have it , is Walgreens carried it or someplace else , but they told me they just , there's a nationwide wide shortage and I'm just trying to see if that really is true.  All right . Are you on any about programs , sir.  Uh , no , I don't think so . I'm not sure . I'm not sure what programs you're talking about . Uh.  I'm trying to think ..  Okay ? Like we have the patient , the patient assistance program that assists out patient who are 65 years old or older , or , um , the coupon program .  .  Okay . . . .  Um , 6 , 164 , taken Breo Ellipta and Spiriva right now and my doctor is trying to get me something less expensive and he said Trulicity would only be $55 . 00 a month , versus $600 . 00 a month.  Um.  , ..  .  All right , sir . I'm going to place you on hold for a moment , and I'm , and I'm going to do some research , and inquiry , and this is Indianapolis . I'm going to inquire about that . One moment , please .  .  Thank you for holding Missouri . Um , I am inquired about , uh , um , a shortage , and , um , I am not seeing any knowledge of that , . Uh , I will bring it to the attention of my supervisor ,.  Okay . And does that mean if CVS is telling me that , and they got 100 stores , and then in an apple. .  I'm trying to figure out , is , do I need to go to another pharmacy , or are you not selling the CVS , or , that's what I'm trying to figure out , but you say that there is no shortage as far as you know.  That's correct , sir . There is no shortage as far as I can see . Um , I've checked all of the , uh , updates , , and , um. . .  They even told me the salesmen don't even have any samples anymore . .  .  So that's really , that's what was concerning to me.  .  . .  Well , I will , , I am making a note of this , and , um.  Let's see , I'm checking the back order . Status ..  I don't see anything about.  And like I say , does it seem , it seems , seems strange to , you know , there's at least 100 CVS stores in 50 miles of Indianapolis . . Zero would have any.  .  That's correct , sir . I am not seeing anything on my back order about hydralazine.  I am sorry that you experienced.  Um.  Um , sure , it must be a lot of other people too , so . Okay . Well , I'll start calling other pharmacies and see if they carry it.  I , I , I think that might be a good thing , because I'm not seeing anything about it , and like I said , I will bring this to the attention of my supervisor . Is there anything else I can assist you with today ?.  No , that's it .. .  All right , miss the web . We do appreciate your calling GSK . There will be a brief option of surveillance after the call . Have a great day . .  No .  Okay\"\n",
      " \"Thank you for calling the response center . My name is that and then I'm a registered nurse . How am I going to assist you today ? . . . . . Okay . I took , I took the , the vaccine for the shingles . I've been putting it off and I was putting it off and thinking I would wait to make sure my husband did it , and then he went behind my back , and he took it . During the fall , I took , I took the flu vaccine . I'm , uh , um , 74 , or 73 again , I took the , the flu vaccine , but I didn't take the senior version about three year , two years ago , I got , took the senior version and the flu vaccine , and I got hives . So , when I took , when it , ever since then , every time I take flu vaccine , I always just take the regular one . We , it may be no help , but still , I'd just take the regular one . Okay , I've been taking the flu vaccine and the Clobex vaccine , and the shingles vaccine , and I took them , like , one month apart , bing , bing , bing , bing , bing , bing . So , and I , and when I had , and then I had , I had a reaction to the shingles vaccine , even with the first reaction I had to a vaccine , which was the flu vaccine . It took about 10 days , and all of a sudden , I had hives , and I , and , and , um , I couldn't even decide I did if it was from the vaccine or not , because I. . . . . . . Is he doing stuff , and , but , but , uh , I figured it had , it had to be , so that's when we dropped back on that . But I took the , the flu , I took the shingles vaccine , and , uh , about 10 days later , I had these , my back was killing me , it was itching so much , and , um , I had my husband look at it and he said , we've got , he took pictures of it , I can see if you want me to , you can see , give me a number , I could text him to you , but he had , it's in this little , little white pustule , slight shingles , and he looked at it and he said , that looks like shingles . So , I said , you know what , he showed me in a picture on the phone . I said , yeah , that looks like shingles . So , we called my doctor . She sent me , and she was fairly concerned . She kept asking me , are you having any pain ? And I said , no , I'm not having any pain. . . . . . . And so , um , it's just itching . So he sent me , I don't , I don't even know what he sent me , but he sent me , you know , the drug for , for shingles . And I took it and it , it calmed down and within , like , three or four days , it had gone away . But when I , when I went to do the second one , I've been kind of leery of doing the second one coming out , I don't want to go through all that itching thing again , but , or maybe I should just take that and take the pills right off the bat . I don't know what to do . So , anyway , when I talked to him about it , and I , a reminder , because he , first , she said , no , we shouldn't be any promising . I said , well , remember I got those pressure , he said , oh , yes , and so then , he said , no , don't take it . Well , both my husband and my best friend are both saying , what do you mean , don't take it ? When she first happened , we ask her , I've had shingles , like , 10 or 15 years ago , and when I took the vaccine , all of a sudden , I had this reaction , and they said , and she said , oh , it's not the vaccine , and they said , well , she said it was not the vaccine , and I said , well , yeah , everybody's going to say the first off the back . It's not the vaccine , but I said , it's , it , the fact that I got these little pustules in this itching , out of the clear blue after 15 years , you just can't look at that week to , to jump up . I said , no .. . . . Question is ?  Yeah .  I do , I've got to take , I want , I've got to take my second shot within the end of May if I'm going to , unless I can put it off . Tell me what to do . Should I , should I take this , it's not a matter of money or anything , it's just definitely , I don't want to cruck . So , I , um , uh , should I go ahead and take it or I'm , I'm pretty too far , apparently I'm trying not to , because when I saw a game where I , I thought I already had a , I lost a student , because I had a D in variety and she died , you know , she was in the hospital for two or three weeks and then she was gone . And , um , so I was , I've always kind of been leery of that . So , give me information , and it also says , we actually , the first shot , you actually are the second shot . So , I'll need to know , I guess , if I took the second shot , is it usually dosed more reaction , or less reaction , you know , because with the , with , um , with the boosters and stuff , with the pill , the youngster , I took all my clothing , I took the first one , the booster , I have not taken the second booster , but I don't think they have any problems with these new , um , you know , RDA or whatever it is that I call in the RTD2 , uh , vaccines . I don't have any problem with my culprit at. Except for the stuff like you feel miserable for a day when you take it and all that . So , give me some insight . I'm trying to decide what to do , but , uh , frankly , I'm going to , uh , I'm , I'm very nervous about taking the second shot.  Are you still there ?. Yes , ma'am , I , I'll be happy to help you with that today .  Yes , ma'am . I'm here . Uh , may I collect a small amount of contact information to document this event ? Is that okay ? .  Sure ..  May I have your first and last name and do you mind spelling it ?.  Thank you ma'am . ..   Definitely [##redacted##] . Caffeine in the old fashioned way . And laying stiff , L A N G E , sir , planning staff , L A N G E S T A S , Caffeine , laying staff.  Caffeine , lung style , thank you counseling , and catholic , you may have your mailing address , please ..  Forty , 47/19 , 103 air drive.  And your zip code ?.  Seven , eight , seven , six , seven , eight.  This man has 4.7 , 1 . 9 . Controlled air drive in the zippo is 7 . 6% is 7 . 08 . Is that correct ?. .  I think so . This is coming up , wake up.  Okay ..  .  Yes , ma'am . And caffeine may have your phone number , please ..  Okay , my ex telephone number is 5 . 2 . Forty-six , 114-77.  Okay , that's five , one , two , four , two , six , one , four , two , seven , is that correct ? . .  Yes . I went to , I'm sorry , let me repeat it back to you . Five , one , two , four , two , six , one , four , two , seven.  Thank you Jaffling . In California , when you received this vaccine , and at the facility , did they provide you with , uh , any information that might have the lot number and expiration date ?.  Um , oh , no , because see , I just had it done in the grocery store and they just , they just stuck it in my arm and that was it.  .  Okay . And caffeine , uh ,.  And if they did , I didn't think to keep it.  Sure , absolutely fine . Caffeine , do you know the , the date of the administration , when you got that , the date ? .  It was in December . It was in December . I can't remember the exact date . I know that I had to have it done by May.  Okay , December of 2012..  Yeah ..  Perfect . And you mentioned that it was in the drugstore . Do you mind shareing the name and phone number of that drug store ? .  Okay . ..  I don't know the phone number , but I've got the name at the Walgreens , but I can't even tell you what street is on , because I don't drive . I never pay attention to the addresses . If you send me , if you send me an e-mail or something back , I can , I can get all the information out for you. .  .  Sure , okay , perfect . Thank you so much counseling . Caffeine , I'd like to place while I , uh , researched this question for you , and I'll be right back to assist you , okay ?.  Okay , thanks .. .  Should I if I understood with me ?.  Um , yep ..  Perfect . Thank you so much for your patience and holding while I research this , uh , question for us . Uh , so I'd like to start with the smallest disclosure and that's all that I'm a registered nurse . I'm unable to provide medical advice for medical questions . We do refer you to your healthcare providers , your primary resource for patient care . Would that being safe , Caffeine , I have the , uh , my resource for the frequent ask questions for shingles in front of me , and the question here , kind of , relates to what your , uh , what you're asking , one of your questions anyway . It says , if a patient , 50 years are older , had a reaction to the first shingles injection , does that mean that they will have a worse reaction after the second injection . So , it states here , it says it cannot be predicted to have any patient over respond after receiving any vaccine , including the first or second dose of shingles . There are some information I can share with you from data collected with , from our clinical trials . So , caffeine , there were two clinical trials . One was individuals greater than 50 years of , of age and and 70 years of age . And in those two trials , respectively.  GSK saw that patients reported headache and shivering more frequently during the second dose compared to the first dose , as well as grade three , general adverse reactions . And that means , uh , or , or , or defined as , uh , adverse reactions that prevent normal daily activities , those adverse erections were , were reported , more frequently after those two compared to dose one , or headaches , shivering , malaise , and fatigue , um , but , and individuals , uh , , uh , patient's individual experiences may not be the same . Uh , so ultimately , yes , uh , in those trials it was reported that , uh , second dose , uh , reactions were more frequent , um , but not necessarily relating to the one that you experienced . So , um , , that's the information I have ..  Well , I hate to say this , but this is , this is , it is , you're , it's , it's disappointing . I'm trying to find out from you . I mean , if I get this in croak , then I would probably be officially after calling you . All I'm saying , I try to get some information . The , the , the , if people end up , end up , um , feeling , uh , healthcare providers.  They don't help . Um , do you have any , have you got , and tell me I'm not the first . Have you got any record of , of , of my reaction from anybody else.  MRI , the only person on the plan.  Uh , you , your information ,.  Well , uh , basically , caffeine , I'll speak to this . So the information you provided me today is healthcare for protected information . Uh , I don't see any record of you and my system as it is . Uh , and , therefore , uh , I cannot , um , see that , , anyone who has reported.  But you all can , even though you don't identify the patient , you can still not tell me if you've got anybody else . You can't say we have three people out of 100 , 000 or three people out or three million . You can't tell me if you've ever even heard of this before.  Uh , I can't speak from the , um.  From the clinical trials , and in the clinical trials , uh , the , the , uh , adverse reaction , did you , did you report it.  The.  Yes , ma'am ..   .  Um-hum . .  Okay , but , but , are , have you been doing this for , you've been , you've been doing this for , the clinical trials , uh , or clinical trials . Okay , I work at the NIH to understand about clinical trials . But you've got data , uh , but since the day this came out , you've got a cold , slew of data of things that have happened to people that the doctors had called you and said , I've got a patient who's blah , blah , blah , correct ?.  I'm sure that they did.  Uh.  At .  At . Caffeine , uh ,.  I can't believe the immediate relief you've got , if you , okay . And you can't , and from that data , you can't say to me , yes , we've had , we've had this before , and , and you can't , it's , well , my doctor says no , and I'm pretty much inclined to say no . I'm just disappointed.  Yeah , and , uh , , uh , I am unable to provide medical advice and for medical questions , we do refer you to a healthcare provider as your primary source of patient care . So , I'm a nurse , but I'm not your nurse , and I do not have information about your individual situations , so I would recommend you follow your health care providers , guidance . . . . .  Okay . This is extremely disappointing . I'm going to be not making , I'm going to be recommending everybody I mean , if they do not take the shots , because there's , because there is no follow-up , there's no help , there's no assistance . If anything happens to you , you're just on your own , okay . Thank you so much , bye .\"\n",
      " \"Thank you for calling the GSK response center . My name is Corlanor . How can I help you today ? . Cool . What a professional voice you have . You might think about doing some voiceovers professionally.  .  . Do appreciate it . I do appreciate it . . How can I help you ?.  No , I'm not kidding you . He looked , though , I'm hearing loss vigorous , and my doctor prescribed that Voltaren.  .  Yes , ma'am ..  Yes , ma'am ..   .  Excuse me ..  Arthritis pain ?  Um-hum .  I'm going to , I'm going to tell you what . I have five bulging disc in my back and C3-7 fused in my neck . I only use it now for my lower back , right ? It's prescribed for arthritis only.  .  Yes , ma'am ..  So , my insurance company won't pay it for it , for the way the doctor prescribed it , for pain . It's not arthritis.  So , that's why they won't approve it . And it's pretty expensive , but I'll tell you what . I've tried everything over the counter . I'm a commercial driver.  .  Um-hum .. .  And I'm , you're not taking any narcotics . My doctor doesn't want me taking anything that goes through the entire system such as pills and whatnot when this cream actually is right on spot.  Literally . Yesterday , this is a compliment , and some , somewhere where I can look further , uh , perhaps you could help me . But I was in Walmart yesterday to purchase this tube.  And a bunch of people were looking at all kinds of other stuff and looked all confused on this aisle. .  I pulled the Voltaren cream off . Not the generic . The brand name off the shelves . I said , here. . .  I'm a 9/11 survivor . This stuff is God . I've tried all of those . This stuff is God . And they literally , two tubes apiece . That's three customers looking at it. . . . . .  They don't even have to do their homework . Literally . I had a , uh , disk batch who was rubbing her knee . I had my prescribed one , because they only paid for it once , because it was through the ER . And she put it on , on her knee , I didn't tell her what it was , and she said , holy shit , what was that ? And I told her what it was , took a picture of it , and she wound up buying it . She goes , holy shit , this stuff works . Thank you , bingo . So , , question . I'm reading all the insides stuff , inside the thing , and it says it's only approved for arthritis and pain ..  How can we get it so it can be prescribed for other things. .  So , my insurance will pay for it . One , and two , um , I'm reading all your little prompts . I mean , you guys got coupons , uh , for. .  Um , supplies , do a doctor or , like , samples and things like that , because they say they don't have samples.  .  Oh , great , more than welcome to do some research towards going to be , uh , with to be seen if we can get some information towards , which would be the voltary and towards the , um , the prescription and as well as any financial assistance towards it . Uh , I never got your name . May I please get your first last name ? .  Oh , I'm sorry , the nice mess ..  You might fill out your first name for me.  Of what ?  D O N N A E.  Yes , ma'am , in May , please have a phone number as well. .  I don't want my phone number and your database ..  .  No , not a problem at all . It's optional , and as well as , uh , zip code. .  And then I get .  Eight , nine , zero , three , three , yeah . I get spins and I work nights and this is really in the middle of my night's sleep , but I had two days of great rest , um , because I did , I ran out and , like I said , my insurance company refuses it , uh , they said it's FDA has not approved it for , for pain . When it clearly says , it's a forearm arthritis pain.  But , it's just pain in general.  .  Oh , okay . Yes , ma'am . So I'm just going to put. .  It , um  Yeah , it was .  And that and the fact just , so you also know , I haven't see three to seven fused in my neck . So , I do have difficulty swallowing pills . It does get stuck even water . So , this , this is a , uh , an excellent alternative . It's prescribed for off of what you use it for , that is , I know doctors do do that , ? But , my insurance company is , uh , it's like a fight.  .  Okay . Yes , ma'am ..  For the last year.  Yeah ..  Oh , okay . So what I'm going to do is just put you on a brief hole , do some research , chores to be , by finding information towards would be the Voltaren , uh , photocopy of the Incivek , okay ?.  Um-hum ..  Miss Miss ? .  Yes .. .  Okay , thank you for holding . So , yes , ma'am , I did have to do some research chores to be , uh , the Voltaren . Uh , the Voltaren brand does have their own department , uh , more than welcome to provide you that number as well get you transferred . They would have more information towards it to be , uh , your increase with looking to be , um , the prescription being , uh , having it turned from was to be the prescription and as well as any financial assistance if they do have any financial assistance .. . .  Okay , what number are you going to give me before you do that and transfer me because there's a couple of them like the , uh , that's on the box , they don't answer it.  .. .  Oh , okay . Yes , ma'am . I do have the 8 . 55 , 29.7 , 3 , 0 , 3 , 1.1.  All right .  They don't answer it ..  Oh , okay . So , yes , ma'am , I'm more than welcome ..  For uncontrolled reasons , for emphysema reasons , uh , we are not available . Those are probably no disrespect . They're probably being sued this shit out of for those thoughtsy ouchies.  Just so as you know.  Okay . Well , once again.  No pun intended .  Uh , no .  Yeah , I know , my husband died last year from taking one of those poisonous toxic concoctions after I told him not to ..  .  Okay ..  Um-hum ..  Yeah , we don't do experimentals or something like that , and I told him not to . Yeah . Now I got to deal with the military.  Um. .   .  Okay . Yes , you know what ? Once again , uh , that is the department that would have that information , uh , from what's going to have , um , there is any issues towards going to be , uh , if they are not answering , uh , one , more than welcome to see if I'm able to get somebody on the other end , but that's the only , uh , which would be the department that will be able to answer those questions .. .  Well , that would be wonderful if you could stay on the line before you do that , or they could get the samples to my surgeon , my neurosurgeon . That would be fabulous.  Well , I , I ..  .  Oh , okay . And once again , more than one , we'll see if I'm able to get an agent . Uh , I'm just going to put you on a refill ..  Awesome , though . Thank you ..  Listen to me ..  Yes ..   .  Oh , okay , thank you for holding . So , yes , ma'am , I did go through the prompt and I did get that same message that I was going to be , that , um , that department is closed for , uh , on , for , uh , there could be some under circumstance and reasons . Uh , they do have looked like to be a voice-mail , uh , looking at the option for you to leave a voice-mail for them to get in contact with you when that department does open back up , but as of right now , it's the only suggestion that I do have , uh , towards the beginning of those answers , uh , torture questions ..   Okay , yeah . They're not going to answer it because it's been months . And they don't return phone calls back. .  .  Okay . Well , I'm more than welcome to get in contact with my management towards to be seen , what's going on with that department . I want to be in , uh , on , um , fortunately , I wouldn't have any answers towards looking to be , uh , the Voltaren gel because , uh , that is that department that does handle that , uh , which would be , um , product . So , um , once again , more than welcome to leave a voice-mail , but as in , uh , more than welcome to get in contact with my management to see what's going on with that department ..  Okay , it's been months , so they don't return phone calls back.  Okay .  So there is no assistance . .  .  Well , what.  And people need assistance . It's , it's not month . We're talking about six months.  Once again ,.  If you're going to do apologize for the situation it won't be on more than one getting contact with my manager and see what's going on with the situation with that department . But unfortunately , I wouldn't have any answers towards your question at that Voltaren department would have , have the answers towards the questions.  Right .  Okay . Uh , home , I'll be on hold while you contact your manager , please . Thank you .. .  Yes .. .  , do you miss me ?  .  . No , , we're holding . So , yes , ma'am , I did get in contact with my management . Um , my management is currently trying to figure out or trying to get in contact with libido department to see , uh , what's going on on that side , uh , we don't have any information towards a return time for looking to be the information , but once again , um , we wouldn't have the information on this side of looking to be the department towards answering the questions . We do apologize for the inconvenience , but we are going to investigate what's going on with that side , the consumer healthcare side , uh , looks to be , um , of that department , but once again , unfortunately , I , we don't have the answers towards your questions . It will be that voltary and , uh , department that would have those answers .. . .  Okay . I like to have samples delivered to my surgeon's office , but one , two , they say they have coupons . If they don't answer their phone in six months , or return phone calls in six months , what does that tell you ? .  And once again , I do apologize for the inconvenience , but I , I don't have any information towards it . It could be the Voltaren Gel . It would be that department.  No , not really . I understood , I wanted to talk to you about the apologize if you cannot fix it.  Okay .. .  Uh , it's , it , you don't apologize . If you cannot fix it , don't ever apologize to somebody , because most of the time , 99 . 9% of the time , people are going to get mad because it's a flakey number , please don't do that , okay ? So , otherwise , it's technically fraud . If they don't answer their phone and they don't respond. . .  Back to any , any , uh , e-mails , phone calls , nothing , zero , nada.  Now , if they consume or help , if you don't respond.  One is false advertising , fraud. .  I'm a transportation supervisor . I'm also the paralegal . So , they come to me with all their illegal advice.  Okay . . .  Contract wise , one of my specialties . And it all depends on who you ask . They might say , oh , my god , she's an F in bitch . Oh , yeah , this New Yorker can be quite the F in bitch . Being deceased , being deceasedful . Not , uh , in your control on purpose , but when they do the runaround.  And there are no answers. . .  But they have it in writing if you need , boom , boom , boom , boom , boom . Well , if I need , then I do one . Please call to none of that stuff is available for the last six months . That is unacceptable , so everything I'm writing that you have on your box is fraud. . .  Because I did do what they said , leave a message . I do every week.  For the last six months.  No we're doing phone calls . No return e-mails . Nothing .. .  Yes , ma'am ..  They all give a number that goes to  Right .  That's fraud.  Yes , ma'am , what , once again , I did get in contact with my student.  Billing , being delivered ?  .  No , I understand that . Being deliberately unavailable. .  That's , uh , speaks of volumes. .  I get to my people within 24 hours . Actually , before I go to bed , I'm up in the middle of my night sleep.  I've got five more hours of sleep , because you're on a different time zone.  To call you.  So , I actually did my sluting , and , uh , there's another number for GlaxoSmithKline . Let's call them to get the , to get the same information as to what.  You just said .  Sulfa physician has a question , getting back to them more than six months later , that's unacceptable.  So , how do we go about getting coupons and getting it delivered ? If they don't answer their phone , it's subcutaneous.  Uh , once again , . Once again , unfortunately , I don't have the answers towards that , uh , towards that question . Um , what can I do to get in contact with my supervisor towards seeing what's going on with that department that's all I can do as a right now ? Is there anything else I can help you with today ? .  Before I blast you on Facebook and every other social media and consumer , better business bureau.  Not you personally . It won't take it personally , because , like I said , it all depends on who you ask if I'm going to be the bitch.  Okay . Well , thank you for choosing GSK\"\n",
      " \"Good morning . Thank you for calling the response center . My name is odd three . I may ask this to you. . Uh , oddly my name is Wellmajones and I was wanting to get the price , uh , trailery elliptical , the $200 . 00 , uh , what's 200 mcg/62 . 5 , then MCG slash 25 , MCG . They said you can give me the , the price about , there was a mistake on , what the doctor ordered for me , they were going to help me with , anyway , it's just a big mess , so I guess I'm going to have to ask. . Pay for it . So , if you , could you give me a prize on what that would cost. All right . All right , ma'am , I'll be happy to assist you . My collection , um , connect , uh , collects your contact information . You said your name is normal ? .  Woman , W U I L M A , last name is Germans.  Date of birth.  [##redacted##][##redacted##] , may I have your telephone number ,.  Excuse me ? .  Seven , six , five , seven , six , five , six , four , zero , eight , eight , three , six.  .  .  .  . And your zip code.  Four , six , seven , one , one.  Four , 6 , 0 , 1 , 1.  Yes ..  And ma'am , tell me , um , what is the medicine that , that you're referring to.  For challenging.  It's tragic , T R E L E G Y , yes , Trileptal.  All right , ma'am , I'll , I'll be happy to assist you . Now , um , so , um , are you having some problems , uh , purchasing the trilogy , ma'am ?. . .  Yes . And , so , I went through the program , uh , that they were going to help me , and it , it took a while , and so , finally , uh , they , the doctor ordered it , but they sent me a hundred in the CG , instead of the 200 , and I could not take that , and so , I've asked them if they could replace that , , and , uh , they said , no , I have to go through the whole thing again on , uh , fill on that application , proof of out of pocket . I have to stay at $600 . 00 out of pocket , and , , the last time I did that , it just forever , but I finally got it , but then , they sent the wrong amount . They said , the doctor sent the wrong amount on the prescription . The doctor says they did not . So , I have no idea , but I have three boxes of mortality here that I can not take ..  All right , so you're in outpatient assistance program.  Yes ..  Oh , okay , ma'am . Now , outpatient assistance program does in charge you for the ..  .  . So , you're.  Well , yeah , I , I , I know , and I , I went through a , quite a while of getting in that program , and they got everything taken care of , and I spent the $600 . 00 out of pocket , and I did all that . And then , they said the wrong amount.  .  Oh ..  Well , that's been a couple , two , three months ago , and then they , the doctors tried to help me with some samples and everything , and they're running out about , I have a terrible , terrible problem with my asthma. .  All right , ma'am . So , uh , the patient assistance program sent you the 100 , and you , you need the 200..  ?  Yes.  I want , yeah , for 30 ,.  All right , ma'am , so I can tell you that the , uh , the trilogy is , um , um , this is in the price that the pharmacy will charge you , but , uh , the price of the trilogy on , that I have in my records is 619 dollars and 92 cents . . But , ma'am , if you're in the patient assistance program , , excuse me ? .  ?  Yes . .  That's for a month or 30 days of the vitality.  Yes , ma'am , for one month .. . . . . .  .. .  See , I , see , I'm on Social Security , and I'm older , you know . I'm , I'm 75 years old , and my asthma has become a horrible problem , and matology seemed to be helping more than any of the others , and I'd taken it for a while , but the doctor didn't really try to help , and then , so when I got on this program , and they said the wrong amount , and so , , they're telling me that the doctor said , , the prescription for 100 , , MCG , and my doctor is saying the , uh , pulmonary doctor saying , no , they did not . . So , , I , I don't know . So , I , I , I just gave up for a while , and they tried to have , well , help with samples , but now , , I've had to go to a different kind is not helping , and , uh , it , I'm just in a mess ..  Right.  .  . Okay . Somas wellma . Um , the patient assistance program , outpatient assistance program , provides assistance to , um , eligible patients who received Medicare and the trilogy is zero dollars . You would pay zero dollars . Are you on that program ? .  Yes ..  Okay . So , , so you're on our program , and the doctors sent the wrong prescription in.  Now , that's what they're saying to your company . My doctor , uh , pulmonary doctor said , no , they said that , they said that 200 , uh , MCG , so I , I don't know . All I know is I got the wrong amount , three boxes here that , you know , others that I can't use , my doctor said , no , I cannot use that , so , uh , I was hoping , , that they could replace them . I mean , I can see in these three boxes back , I just gave up for a while and they tried to give me some , some samples that they ran out of samples and I'm , you know , I know those Social Security and the.  Okay , okay , ma'am , did you speak to someone in outpatient assistance department ? . . . . . .  Yeah , I just spoke to someone , and they said that , uh , the doctor asked to write another prescription . I have to fill out another application . Uh , I have to spend the $600 . 00 out of pocket . Uh , and then , uh , apply in the program . Well , spitting the $600 . 00 out of pocket is , you know , I have insurance that takes care of other medication that this one is the one that's just outrageously . , what is the one that works ? . .  .  Uh , okay , Miss Journal , uh , uh , I , I totally understand what you're saying , but I'm , I'm a little loss , I'm a little loss , uh , because the patient assistance program.  Uh , are you on a different program , ma'am , ma'am ?.  Well , I , I , I don't know . I thought it was a patient assistance , because I got the three boxes free.  Oh , okay . So , you , so , so they're saying you have to reapply. . . .  Yeah , I mean , and I , you know , this has been two or three months ago , but they , they said this , and I , I want to start taking it and call my doctor . The pulmonary doctor , he said , no , no , no . You cannot take that . You have to have the 200 , well , then , uh , , nobody can see the help . The doctor gave me some samples , , that they had , and they run out , and , uh , I'm , I'm in the mess . , but I've gotten three boxes here . I can send them back to you guys , , uh , because I'm , I can't use them .. . .  But then they're telling me I've got to fill out all these , well , fill me out , all of this stuff and fitting the 600 holes . .. .  So I said spitting the $600 . 00 out of pocket , you know , if that takes a while , because , like I said , I do have insurance that takes care of other medications for me , and , uh , then I went through a program on the , uh , Xarelto , that they've given me a year's worth of helping . Anyway , I'm just in a mask , , and I was just hoping somebody could just see if would help me .. .  Uh , oh , okay , ma'am . Let me , um , let me get a representative from the patient assistance program on the phone , okay ?.  Okay ..  One moment please ..  Okay ..  Miss , well , my thank you for holding . I'm transferring you to Miss Tiffany , and our patient assistance program , and she's going to pull up your records to see what's going on , okay ?.  Thank you , Doc . I appreciate it.  Yeah , you're , you're very welcome ..  Hi.  All right , good morning . This is keeping a year of the GSK patient assistance program . I understand you have some questions in regard to neutrality , 100 that you received. . . .  Yes , uh , okay , they sent me three boxes and it was supposed to have been in the 200s . Uh , they told me that my doctor , the prescription they sent was , uh , 100 , and my doctor was saying that they ordered the 200. Anyway , I went through the program of , you know , I had to spend $6 , 000 , $600 out of pocket , and , uh ,. . .  So , the doctor and the family doctor tried to give me some samples . I , I just can't afford it . I didn't feel anything that's really helped . So , my family doctor put me on , uh , uh , another kind for now . So , I , I just kind of gave that , didn't go back , didn't know what to do , and , uh , I mean , I got the three boxes here , , that , uh , you guys sent me , but I can't take them . And , uh , so , then , whoever I talked to before , you , they said , , that I would have to have the doctor write another prescription to fill out another application in , in the $600 . 00 out of pocket at to apply to the program , . Well , that , that took quite a while when I did it the last time . And , , the $600 . 00 out of pocket , I've got insurance , and it , it really helps me with my other medications . And then , I'm on a program. \"\n",
      " \"Joints ?  Yeah .. Um , hello. .  No .  No .  Can you hear me ?. .  Well , yes . Um , I was calling because I was trying to register , uh. .  My , my doctor through the GSK for the health , healthcare professionals ?.  But the person that registered to heal a while back is no longer here , and I have no , I'm having trouble with .  Cool .  For two order stamps .  Uh-huh ..  I'm sorry , can you please repeat me ?.  So , the person  Somebody help you ?  No .  The person ? .  That I'm trying to use the doctor that'll work for . I'm trying to order samples with HIPAA account number . So , he's like .  .  But the person that registered him a while back and no longer works here , and I'm not able to order the samples , so I was wondering , like , would you go to reset it ?  Well , I'll try , because a little bit of that wants to think about , um , ..  Is , are you asking to reset the pen number.  The whole thing . I can't get into it .  Sure .  To order temples .  That's strange . I got.  More .  Uh , I'll be happy to assist you with some information then . I'm going to have you close your eyes for me , please ..  You said what ? I'm sorry ..  I do apologize . I'm unable to hear you . Uh , there's just a lot of talking or something in the background . Um , I did say that I would be happy to assist you with some information . May I have your first and last name please.  A layo , Micheloyar.  No , your person last name for me , I lay out to make sure I have that correct , ma'am.  A L A R H A Require MCG , UI , R E.  Contact phone number for you guys there now ?.  931 , 381 , 09 , 2 0.  Fax number please.  You said a fax number.  Yes , ma'am ..  Did you say fat , I can't hear you.  Maybe a fax number please. .  9:00 to 1:00 , 8:00 , 4:00 , 035 , 4:00 , 3:00 , 3:00.  Your address is there ? ..  Eleven twenty-one . Try , with Avonex , Sweet10 , Columbus Tennessee , 3A401.  Okay , let's look at your address for me .. .  Eleven twenty-one . Try with Avonex , week [##redacted##].  Is that the name of your street for me to make sure I have that correct , please ?. . .  Um-hum ..  And.   Yes ..  Can you tell the man up your street for me to make sure I have that correctly.  Uh , 11:21 , try with avenue , sweetie , 10:00 , Columbus Tennessee , 3:00 , 4:10.  Can you spell the name of your street for me , ma'am , to make sure I have that correct please ?.  Oh , T R , I can't , here , it sounds like you're , like , far away.  I do apologize . Can you hear me better now ?.  Uh , no , it still sounds the same. .  Like , I don't know if I want to speak her phone , or.  Can you spell the name of your street for me to make sure I have that correct , ma'am ?.  P R O T W O O D. . .  And is it cold , please ?.  Three , eight , four , zero , one.  That was the last name of the healthcare provider you were calling about.  Norvir , [##redacted##]. .  And the last name now.  You said his last name was ..  Worse than the last name of the healthcare provider you're calling number half of , please.  [##redacted##] , John , Michael , Norvir.  And the NPI number 3 ?.  One , five , five , eight , three , one , zero , three , six , seven. .  I need ,.  Uh , we can just reset it ..  Thank you so much for providing that information for me earlier . So the process of getting into an account , if you're unable to get into the vehicle , or you did not create the account , if you're able to get in and you just need the pin number , I can transfer you to get the phone number reset , or you can delete the entire account , or we can delete the account on our side for you , if you're unable to get in and delete it . You would have to wait 24 business hours in order for you to go back in . You can go back in and reset up an entire new account . I'm sorry ?.  You can just , like , transfer me to reset it.  Well , are you able to actually get in the account , or you cannot get in because you need a phone number reset.  I just , I personally don't know what e-mail it was you , what was used for it , because the person that did do it does no longer works here.  Right , that's what , that I understand , ma'am , but if you're , if you just need a pen reset , you wouldn't have to know some of that information . Um , but if not , I mean , I'll go ahead and transfer you to get the pen with that . If that doesn't work for you , then we can delete the account and you would have to start over again with his information and put in the license number . It takes.  So would you , would you all be able to provide me with the e-mail.  Okay ..   It , I just know.  No , ma'am , we cannot provide you with the e-mail . We can't verify the e-mail.  Um , would I be able to ask you if there's this one , and then you confirm it.  No , ma'am . We cannot confirm any inflammation on the account.  So , how come , why ? You could just reset it , and we'll wait 24 hours , because that just don't make no sense.  I thought you said I would have to wait 24 hours.  Okay , so we don't reset it , ma'am . What I'm saying to you is that we delete the accounts. .  ..  We delete the entire account . Once we delete the account , you can wait 24 hours and go back in , and you would have to reput in all of the information , including the license , and all of that information . Once you do that , it takes four to five business days to go through a verification process , and at that time , you are able to order samples online.  So that's why I was giving you the choice . We can either delete the pill.  So , the only way , the only route I can go is that one.  Okay . I'll go ahead and get that , uh , calendar made it for you , ma'am ..  Because I mean , I wouldn't be able to , I wouldn't be able to go into it to , to do all that , right ? Because you all can't give me the e-mail. .  Oh.  That is correct , unless you can get in and we just need to do the pen reset , but again , I don't really know the issues that you're having , except you can't get in to be accounted to order samples . So with that , we only have two options . We can transfer you over to our acute Pharmacy department , and they will assist you with setting that pen number , or we can delete the entire account for you , and then you would have to put all of that information in , allow it to go through the verification process , and then you can order samples.  .  It doesn't , it delays it .  Just delayed it.  Okay . I can go ahead and delete that account for you , ma'am .  Okay .  Is there anything else I can assist you with today ?.  Around.  Thank you so much for calling GlaxoSmithKline , a brief optional survey will follow\"\n",
      " \"Thank you for calling the response center . My name is Jamaica , a pharmacist . Tell me I help you today . .  Okay .. Hello , this is the erectile dysfunction reimbursement resource center . And I have a patient on the other line with a , um , possible product quality compliant for the , uh , Flovent Diskus.  All right ..  She says it has a , yeah , her name is [##redacted##] packed , [##redacted##].  Did you already get their name ?  Um-hum .  Well , go ahead . . Okay ..  Um-hum ..  Uh , phone number of two , zero , one , five , seven , three , eight , five , three , eight. .  .  Okay , the phone cut out in the middle of that there . I got 201 , 3A.  Five , seven , three.  Eight , 5 , 3 , 8.  Okay . Thank you ..  And is it occurred of zero , seven , six , four , five ?.  Zero seven , six , four , five . Okay ..  All right . And she said that it has a really , uh , it has a , uh , I guess a plastic taste to it , and it's , it feels like it's , um , I guess , disposed , dispensing too much medicine ..  Okay , all righty , I'll talk to her . Thank you ..  Sure . When do you have a , uh , um , an ID , a record number , in case somebody , yeah ..  Okay , no . , yes , it's 138.  Um-hum .  It , it'll start over . It was 138/80 , 84..  All right . Thank you very much . Here she comes ..  , thank you ..  Hi , buddy ..  Hi ..  I bet really this is jammed it . I'm one of the pharmacists here at GSK , and air Excedrin , you're calling about your Flovent Diskus , um , having a , a bad plastic taste , and you feel it's dispensing too much medication . Is that right ?.  ?  Correct ..  Okay . Um , if I'm mad , I'd like to ask a few questions about the discuss . Um , see if we can figure what's going on and what we can do to fix it for you . Um , first to begin , I just wanted , , oh , go ahead . Where are you going to say something ?. . .  Okay ..  Okay .. .  Uh-huh .. .  Okay ..  Sure . No ..  Yeah , I'm , I'm not in the fixing mode for the death , so I've called the pharmacy with it , and I said I wanted to change over to the aerosol , because there's something wrong , and , you know , whether it's made in China , I , I just don't want , you know , a disk again , but the , I've been taking this a number of years , and I , I just know when something is really wrong . I mean , I'm not a crazy person , so I , , and so I just don't want , you know.  Um-hum . Good.  Something to happen to someone who maybe is not , you know , going to follow through , that's all . But I'm , I'm not taking any more discs . Uh , that's out of the question.  So.  , ..  Okay . Um , what , okay , in that case sparingly , then , what I can do is I'll ask the questions about the diskus , and I'll file a product quality compliant , and we'll ask for the diskus to be a return to us , and , um , and then , you would have to follow-up with your doctor to get a , a new prescription for a , a different product . Um , I can't replace the diskus with a different product , . Um , does that make sense , , or do you have questions about that ?.  Um , uh-huh ..  Oh ..  Um-hum . Okay ..  Okay .. .  Um-hum ..  , I'm sure the roommate in China , and I'm sure , no matter what company , a five year old is on the assembly line , so I'm not , I , I'm not saying different , I'm saying , better , and I just , uh , uh , and I'm not , and I just don't , you know , I like to go along with the coupon part , because I've already called the doctor , too , but , um , I don't , there's a part of me that doesn't want this burritos somewhere , because if there's , this is in your lungs , and once you do this , you can't pump your stomach . It's not going to change . And , um.  Um-hum ..  Okay . And , okay . Uh , uh-huh.  It just isn't right . I don't , uh , this is not , there's something wrong with this , and I know it . After years of taking it , I'm having , uh , I'm not new to this game , so it's. . .  Yes , ma'am , and as you said , you've told me you're an experienced user , and I respect that . And as I said , I'd like to ask questions to see what is going on with the Flovent , so that it can be reported . It won't be , you know , varied . We will report it and look into it , and that's also why we ask for the Flovent to be returned to us , okay ? , um , if I may , just wanted to verify your name , the spelling of your name , [##redacted##] , and your last name is H E C , HT , is that correct ? .  Um-hum ..  Yes ..  Okay .  And your phone number.  [##redacted##] , 3 , 8.  And you're mailing address.  Yes.  . What , okay . is asking for your mailing.  Um-hum .. .  Uh , are you going to mail me something when I need something tonight ?  Well , what is , what good is it going to do me ? I mean , I'm , I have asthma . What good would it do with ? Uh , five days , I'm going to wait to get it , uh , coupon . First of all , under my coverage , maybe I can , I'll pay for it , , and I can send in my , to the FDA or so . I mean , I just , I don't necessarily , I'm not waving here , as far as days , uh , that's , uh , it was three days or whatever the mail , whatever it sends to me , a coupon . I mean , I need authorization . I mean , I have to take it tonight.  Um-hum .  .  Um-hum . Um-hum . Um-hum . Okay . And , and barely , what I'm hearing is that you , okay ..  And I , so the plan , I don't know what the plan , what , how this plan what it does with what you're doing . I mean , in other words , if the prescription is written to 30 days , then I just filled this , I just opened it , um.  Hum ..  .  Um-hum ..  Okay ..  All right . So , what are the plans going to do ? I mean , they're going to say , no , you just open it . How is the plan going to know that you sent me a coupon ? They're going to just think , I , I just doubled dipped in less than a month , no , I mean.  Okay . Okay . Never , [##redacted##] , I ask some.  Okay . You don't ,.  Okay .. .  I mean , I have to do what interests me and benefits me , because we all know the society does not benefit the people . They're the victims . So , what I want to know is how your , this call is for you to read , the purpose , correct me if I'm wrong , is to reimburse me . I'm saying to you.  .  Um-hum ..  Well , good is a coupon in the mail . When you have asthma.  Um-hum ..  So , why am I even on , I mean , I don't know , what are we doing ?.  I , I don't understand.  Okay . Okay . Well , what , what I'm doing here , and the reason you , initially to spoke with Aricept , um , about a coupon , is that correct ? The person you just spoke with , and he transferred you to me. .  Uh-huh ..  Uh-huh .  .  Okay . Okay ..  Well , that's what Wegmans said that , but you would think that you could scan Wegmans , the pharmacy , a coupon . But if you're going to put this in the mail , what I'm saying to you is I need something tonight . I don't need a coupon in the mail , so is that how you do it , if that's. .  Okay , and there are no , there are , no , there are no coupons for Flovent , so I will not be sending a coupon . There aren't any . Um , you have , you have two , , uh , a couple of options , if you're staying on the Flovent diskus , but as I understand , you said you do not want to stay on the Flovent Diskus , is that correct , [##redacted##].  Yeah . Yeah , that , that , if I said it , it's correct.  Okay . Then in that case , um , I cannot replace this for you . You will need to call your doctor to get a prescription for a different product if you do not want to be on the Flovent Diskus.  Well , I'm not paying the copay on this out of my pocket . So , understand that . So , the , if I have to go to the FDA , I'm not paying , if you send me some , if you send me a sweater without an arm on it.  Um-hum ..  Um-hum .. . .  Yeah .  Um-hum . Um-hum . Okay . And , um-hum . Okay ..  Okay ?.  I can barely . I can't barely , barely . I can't help . I.  Um-hum ..  That doesn't , uh , I'm going to send it back and the department store will credit me . They'll , there's no arm . But I am , I could have possibly , God knows what could have happened this morning with this . Could have died or could have something damaged to my lungs . And I still don't know if the next died doesn't have that , and I'm not so sure that this isn't a bad back . So , I'm not going to just let it die , no , and I'm not going to pay for this to kill me . I mean , I'm not buying my own arsenic . So , if you can't help me , , in that way , that's fine . No , that's fine . I can take it to a lab . I can do whatever I want to do , because , no . If you can only replace the disk , and these are the rules , see , that's what I'm getting at , the rules . The rules.  Um-hum .  .  Okay . Okay ..  Um-hum .  ..  Uh , the rooms change for some people , but not for others . But what I'm saying to you is I paid X for this when I picked it up at the pharmacy , because I'm not going to do this again , I being penalized , and I don't get reimbursed Xs , so why am I making the call for ? What purpose is this called ?.  Um-hum ..  I mean , I don't understand it . It's just something wrong with this.  Um-hum . Okay . And , um-hum . Um-hum ..  Um-hum ..  Yes ..  Okay . And bed really.  Yes ..   Okay . .. . .  .  Um-hum ..  It's , if you don't believe it , is Aricept doesn't believe it . It's a man in the moon does it . I don't care . It's a relevant to me . I know there's something wrong with this . And if it's a batch , then somebody can be hurt . I know what these , what the taste , and I don't know nothing , and you're not going to pay me bags , no , okay , fine , don't . You know , what I said , I'm going to answer questions for you , and tell me what my symptoms are , and you're going to say to me , no , unless you take this poison back again in a different form , I'm not going to do , I'm not going to , you know , get you a stupid money . That's all . It doesn't make sense to me . Why am I talking to you to begin with ? I might as well seem seemingly and impartial authority like an FDA thing , an arm of something , and at least let them look at what I'm saying.  Because I know for a fact there's something wrong.  On two levels , not on one.  Okay . ..  So , what I'd like to look , what are we saying to each other ? Nothing. .  So , I'm not going back to a disk . You got that one wrong wrong . I mean , that's out of the question. .  .  Okay . Okay . Okay . And by the way , you declined to answer questions about what's gone wrong with the disk you have , so that we can research it and see . Okay . No , ask . It is . Uh-huh ..  Um-hum .. . .  . And you declined and in this call should be monitored , because you declined to even give me a credit , so as , so a person in Brooklyn , an older person who has on a limited budget , you won't even give that person credit , so that person will probably finish this poisonous disc , and die , or something will happen during , and they'll say she died of a heart attack . When in fact , there may be something here . So , not I declined , you declined , doing the right thing , and the right thing is , I paid for this , it's the wrong product , and it goes into a person's lungs . This is not a sweater for an answer of policy.  So , yeah , I declined , but you declined , too . So , we.  Mutual declination. . . .  There isn't ? I don't know . I'm not going to , uh , talk about this , because I'm wasting my time . I had a whole day ahead of me . I know what path I have to take . I am not taking this again . Period . End of story . There's something wrong with that disk . . . .  Yeah , you want to have this on your conscience go ahead , have it.  ..  Do you have any other , , uh , okay ..  Um-hum .. .  So that's it . There's nothing to say . I mean , I don't know , what do you , what do we say to each other ? Nothing . You declined me . I paid for a defective product . Don't put it on me . Don't put it on the consumer . Don't put it on the victim . This is not big formed games here . This is my lungs.  You declined . You want me to. . . .  .  .  Oh .. .  Um-hum .  Copay . Okay , I can well afford it , but the next guy can't . And I want to get to the bottom of this , because you made it disgusting . I am not going to wear this sweater with one arm , so sorry , you're taking it back , and you're paying me for what I paid , to protect the next person , who can't afford this. . .  So that's it . I'm done . And if there's an old woman in Brooklyn , who dies from this , it's on your conscience . It's not on mine . Goodbye .. \"]\n"
     ]
    }
   ],
   "source": [
    "for sent_type_ in ['very negative']:\n",
    "    call_ids = df['ts_sent'][(df['ts_sent']['sent_type'] == sent_type_)].index\n",
    "    print(f'\\n{sent_type_}:')\n",
    "    print(df['ts_md'].loc[df['ts_md'].index.isin(call_ids), 'transcript'].values)"
   ]
  },
  {
   "cell_type": "markdown",
   "id": "9cedfbf4",
   "metadata": {},
   "source": [
    "# 7/12/2022"
   ]
  },
  {
   "cell_type": "raw",
   "id": "33a83f94",
   "metadata": {},
   "source": [
    "rows of data\n",
    "x_1\n",
    "x_2\n",
    "...\n",
    "x_n\n",
    "\n",
    "\n",
    "we want:\n",
    "x_1_abnormality\n",
    "x_2_abnormality\n",
    "x_3_abnormality\n",
    "x_4_abnormality\n",
    "\n",
    "\n",
    "# ^\n",
    "|\n",
    "|\n",
    "|\n",
    "abnormality\n",
    "<------ length of call --->\n",
    "|\n",
    "|\n",
    "|\n",
    "^\n",
    "\n",
    "x = [3,4,5]\n",
    "y = [6,7,8]\n",
    "\n",
    "sqrt((3 -6)^2, .....) = distance between x and y\n"
   ]
  },
  {
   "cell_type": "markdown",
   "id": "63f22129",
   "metadata": {},
   "source": [
    "distance: $\\mathbf {A} \\cdot \\mathbf {B} =\\left\\|\\mathbf {A} \\right\\|\\left\\|\\mathbf {B} \\right\\|\\cos \\theta.$\n",
    "\n",
    "\n",
    "    "
   ]
  },
  {
   "cell_type": "markdown",
   "id": "e36ed879",
   "metadata": {},
   "source": [
    "# 7/13/2022"
   ]
  },
  {
   "cell_type": "code",
   "execution_count": null,
   "id": "c8317832",
   "metadata": {},
   "outputs": [],
   "source": [
    "# TODO\n",
    "# finish encoding the vectors (DONE)\n",
    "# do corr plot of all numeric vectors against each other (DONE)"
   ]
  },
  {
   "cell_type": "code",
   "execution_count": 49,
   "id": "96b6f970",
   "metadata": {
    "scrolled": true,
    "tags": []
   },
   "outputs": [],
   "source": [
    "dist = df['ts_md'][['call_len_sec', 'CREATED_DATE_TIME', \n",
    "                    'IVR_REASON', 'INCONTACT_SKILL', 'PRODUCT_NAME', \n",
    "                    'CASE_TIER_1_GLOBAL', 'CASE_TIER_2_US', 'CASE_TIER_3_US',\n",
    "                    'transcript', 'md_desc']].copy()\n",
    "\n",
    "dist['call_len_sec'] = dist['call_len_sec'].astype(int)\n",
    "dist['call_day']  = dist['CREATED_DATE_TIME'].dt.weekday\n",
    "dist['call_hour'] = dist['CREATED_DATE_TIME'].dt.hour\n",
    "\n",
    "# Get inverse frequency score from categorical columns\n",
    "dist_dict = {}\n",
    "for col in ['IVR_REASON', 'INCONTACT_SKILL', 'PRODUCT_NAME', 'CASE_TIER_1_GLOBAL', 'CASE_TIER_2_US', 'CASE_TIER_3_US', 'call_day', 'call_hour']:\n",
    "    dist_dict[col] = (1 / dist[col].value_counts(normalize = True)).to_dict()\n",
    "    dist_dict[col][np.nan] = np.nan\n",
    "    dist[col] = [dist_dict[col][val] for val in dist[col]]\n",
    "# Drop\n",
    "dist.drop(columns = ['CREATED_DATE_TIME', 'transcript', 'md_desc'], inplace = True)\n",
    "# dist.drop(columns = ['call_day', 'call_hour'], inplace = True)\n",
    "dist = dist.astype(float)\n",
    "# Impute np.nan with mean\n",
    "dist = dist.fillna(dist.mean().to_dict())\n",
    "# Normalize\n",
    "dist = (dist - dist.mean()) / dist.std()\n",
    "# Calculate `dist`\n",
    "dist['dist'] = np.linalg.norm(dist, axis = 1)\n",
    "# Make labels\n",
    "dist['Length of call'] = pd.cut(dist['call_len_sec'], \n",
    "                             [dist['call_len_sec'].min(), \n",
    "                              dist['call_len_sec'].mean(), \n",
    "                              dist['call_len_sec'].max()], labels = ['Short', 'Long'])\n",
    "dist['Call type'] = pd.cut(dist['dist'],\n",
    "                           [dist['dist'].min(), \n",
    "                            dist['dist'].mean(), \n",
    "                            dist['dist'].max()], labels = ['Normal', 'Atypical'])\n",
    "# Merge back\n",
    "df['ts_md']['Length of call'] = dist['Length of call']\n",
    "df['ts_md']['Call type'] = dist['Call type']\n",
    "# Create `ts_md_pretty`\n",
    "ts_md_pretty = df['ts_md'][['call_len_sec', 'CREATED_DATE_TIME', \n",
    "                    'IVR_REASON', 'INCONTACT_SKILL', 'PRODUCT_NAME', \n",
    "                    'CASE_TIER_1_GLOBAL', 'CASE_TIER_2_US', 'CASE_TIER_3_US', \n",
    "                    'SUBJECT', 'transcript', 'md_desc', 'Length of call', 'Call type']].copy()\n",
    "ts_md_pretty['Length of call'] = dist['Length of call']\n",
    "ts_md_pretty['Call type'] = dist['Call type']\n",
    "\n",
    "pd.crosstab(dist['Call type'], dist['Length of call'], \n",
    "            margins = True, margins_name = 'Sum', normalize = True).round(4) * 100\n",
    "\n",
    "# Export\n",
    "ts_md_pretty.to_csv('df/ts_md_pretty.csv')\n",
    "dist.to_csv('df/dist.csv')\n",
    "\n",
    "# Calculate length of sample\n",
    "time_range_min = (df['ts_md']['CREATED_DATE_TIME'].max() - df['ts_md']['CREATED_DATE_TIME'].min()) \\\n",
    "                 .total_seconds() / 60\n",
    "# Calculate Total call volume\n",
    "total_time_min = df['ts_md']['call_len_sec'].sum() / 60"
   ]
  },
  {
   "cell_type": "code",
   "execution_count": 138,
   "id": "07467031",
   "metadata": {},
   "outputs": [
    {
     "data": {
      "text/html": [
       "<div>\n",
       "<style scoped>\n",
       "    .dataframe tbody tr th:only-of-type {\n",
       "        vertical-align: middle;\n",
       "    }\n",
       "\n",
       "    .dataframe tbody tr th {\n",
       "        vertical-align: top;\n",
       "    }\n",
       "\n",
       "    .dataframe thead th {\n",
       "        text-align: right;\n",
       "    }\n",
       "</style>\n",
       "<table border=\"1\" class=\"dataframe\">\n",
       "  <thead>\n",
       "    <tr style=\"text-align: right;\">\n",
       "      <th>Length of call</th>\n",
       "      <th>Short</th>\n",
       "      <th>Long</th>\n",
       "      <th>Sum</th>\n",
       "    </tr>\n",
       "    <tr>\n",
       "      <th>Call type</th>\n",
       "      <th></th>\n",
       "      <th></th>\n",
       "      <th></th>\n",
       "    </tr>\n",
       "  </thead>\n",
       "  <tbody>\n",
       "    <tr>\n",
       "      <th>Normal</th>\n",
       "      <td>30.07</td>\n",
       "      <td>31.24</td>\n",
       "      <td>61.31</td>\n",
       "    </tr>\n",
       "    <tr>\n",
       "      <th>Atypical</th>\n",
       "      <td>3.22</td>\n",
       "      <td>35.47</td>\n",
       "      <td>38.69</td>\n",
       "    </tr>\n",
       "    <tr>\n",
       "      <th>Sum</th>\n",
       "      <td>33.29</td>\n",
       "      <td>66.71</td>\n",
       "      <td>100.00</td>\n",
       "    </tr>\n",
       "  </tbody>\n",
       "</table>\n",
       "</div>"
      ],
      "text/plain": [
       "Length of call  Short   Long     Sum\n",
       "Call type                           \n",
       "Normal          30.07  31.24   61.31\n",
       "Atypical         3.22  35.47   38.69\n",
       "Sum             33.29  66.71  100.00"
      ]
     },
     "execution_count": 138,
     "metadata": {},
     "output_type": "execute_result"
    }
   ],
   "source": [
    "pd.crosstab(df['ts_md']['Call type'],\n",
    "            df['ts_md']['Length of call'], \n",
    "            df['ts_md']['call_len_sec'], aggfunc = sum,\n",
    "            margins = True, margins_name = 'Sum', normalize = True).round(4) * 100"
   ]
  },
  {
   "cell_type": "code",
   "execution_count": 139,
   "id": "f455c9be",
   "metadata": {},
   "outputs": [
    {
     "data": {
      "text/html": [
       "<div>\n",
       "<style scoped>\n",
       "    .dataframe tbody tr th:only-of-type {\n",
       "        vertical-align: middle;\n",
       "    }\n",
       "\n",
       "    .dataframe tbody tr th {\n",
       "        vertical-align: top;\n",
       "    }\n",
       "\n",
       "    .dataframe thead th {\n",
       "        text-align: right;\n",
       "    }\n",
       "</style>\n",
       "<table border=\"1\" class=\"dataframe\">\n",
       "  <thead>\n",
       "    <tr style=\"text-align: right;\">\n",
       "      <th>Length of call</th>\n",
       "      <th>Short</th>\n",
       "      <th>Long</th>\n",
       "      <th>Sum</th>\n",
       "    </tr>\n",
       "    <tr>\n",
       "      <th>Call type</th>\n",
       "      <th></th>\n",
       "      <th></th>\n",
       "      <th></th>\n",
       "    </tr>\n",
       "  </thead>\n",
       "  <tbody>\n",
       "    <tr>\n",
       "      <th>Normal</th>\n",
       "      <td>7.334722</td>\n",
       "      <td>7.619444</td>\n",
       "      <td>14.954167</td>\n",
       "    </tr>\n",
       "    <tr>\n",
       "      <th>Atypical</th>\n",
       "      <td>0.785069</td>\n",
       "      <td>8.650000</td>\n",
       "      <td>9.435069</td>\n",
       "    </tr>\n",
       "    <tr>\n",
       "      <th>Sum</th>\n",
       "      <td>8.119792</td>\n",
       "      <td>16.269444</td>\n",
       "      <td>24.389236</td>\n",
       "    </tr>\n",
       "  </tbody>\n",
       "</table>\n",
       "</div>"
      ],
      "text/plain": [
       "Length of call     Short       Long        Sum\n",
       "Call type                                     \n",
       "Normal          7.334722   7.619444  14.954167\n",
       "Atypical        0.785069   8.650000   9.435069\n",
       "Sum             8.119792  16.269444  24.389236"
      ]
     },
     "execution_count": 139,
     "metadata": {},
     "output_type": "execute_result"
    }
   ],
   "source": [
    "pd.crosstab(df['ts_md']['Call type'],\n",
    "            df['ts_md']['Length of call'], \n",
    "            df['ts_md']['call_len_sec'], aggfunc = sum,\n",
    "            margins = True, margins_name = 'Sum') / 60 / 60 / 24"
   ]
  },
  {
   "cell_type": "code",
   "execution_count": 140,
   "id": "0f0dc970",
   "metadata": {
    "scrolled": true
   },
   "outputs": [
    {
     "data": {
      "text/html": [
       "<div>\n",
       "<style scoped>\n",
       "    .dataframe tbody tr th:only-of-type {\n",
       "        vertical-align: middle;\n",
       "    }\n",
       "\n",
       "    .dataframe tbody tr th {\n",
       "        vertical-align: top;\n",
       "    }\n",
       "\n",
       "    .dataframe thead th {\n",
       "        text-align: right;\n",
       "    }\n",
       "</style>\n",
       "<table border=\"1\" class=\"dataframe\">\n",
       "  <thead>\n",
       "    <tr style=\"text-align: right;\">\n",
       "      <th></th>\n",
       "      <th>call_len_sec</th>\n",
       "      <th>IVR_REASON</th>\n",
       "      <th>INCONTACT_SKILL</th>\n",
       "      <th>PRODUCT_NAME</th>\n",
       "      <th>CASE_TIER_1_GLOBAL</th>\n",
       "      <th>CASE_TIER_2_US</th>\n",
       "      <th>CASE_TIER_3_US</th>\n",
       "      <th>call_day</th>\n",
       "      <th>call_hour</th>\n",
       "      <th>dist</th>\n",
       "    </tr>\n",
       "  </thead>\n",
       "  <tbody>\n",
       "    <tr>\n",
       "      <th>call_len_sec</th>\n",
       "      <td>1.000000</td>\n",
       "      <td>-0.038371</td>\n",
       "      <td>0.019021</td>\n",
       "      <td>0.056147</td>\n",
       "      <td>0.075376</td>\n",
       "      <td>0.073285</td>\n",
       "      <td>0.052337</td>\n",
       "      <td>0.032453</td>\n",
       "      <td>0.045210</td>\n",
       "      <td>0.218253</td>\n",
       "    </tr>\n",
       "    <tr>\n",
       "      <th>IVR_REASON</th>\n",
       "      <td>-0.038371</td>\n",
       "      <td>1.000000</td>\n",
       "      <td>0.270207</td>\n",
       "      <td>0.016404</td>\n",
       "      <td>-0.003192</td>\n",
       "      <td>0.051855</td>\n",
       "      <td>0.039893</td>\n",
       "      <td>0.029411</td>\n",
       "      <td>0.009101</td>\n",
       "      <td>0.430838</td>\n",
       "    </tr>\n",
       "    <tr>\n",
       "      <th>INCONTACT_SKILL</th>\n",
       "      <td>0.019021</td>\n",
       "      <td>0.270207</td>\n",
       "      <td>1.000000</td>\n",
       "      <td>0.023441</td>\n",
       "      <td>0.016046</td>\n",
       "      <td>0.057648</td>\n",
       "      <td>0.070610</td>\n",
       "      <td>0.019048</td>\n",
       "      <td>-0.005665</td>\n",
       "      <td>0.434914</td>\n",
       "    </tr>\n",
       "    <tr>\n",
       "      <th>PRODUCT_NAME</th>\n",
       "      <td>0.056147</td>\n",
       "      <td>0.016404</td>\n",
       "      <td>0.023441</td>\n",
       "      <td>1.000000</td>\n",
       "      <td>0.125556</td>\n",
       "      <td>0.072024</td>\n",
       "      <td>0.013339</td>\n",
       "      <td>-0.009852</td>\n",
       "      <td>0.012191</td>\n",
       "      <td>0.394963</td>\n",
       "    </tr>\n",
       "    <tr>\n",
       "      <th>CASE_TIER_1_GLOBAL</th>\n",
       "      <td>0.075376</td>\n",
       "      <td>-0.003192</td>\n",
       "      <td>0.016046</td>\n",
       "      <td>0.125556</td>\n",
       "      <td>1.000000</td>\n",
       "      <td>0.366174</td>\n",
       "      <td>0.027361</td>\n",
       "      <td>-0.012561</td>\n",
       "      <td>-0.000882</td>\n",
       "      <td>0.448545</td>\n",
       "    </tr>\n",
       "    <tr>\n",
       "      <th>CASE_TIER_2_US</th>\n",
       "      <td>0.073285</td>\n",
       "      <td>0.051855</td>\n",
       "      <td>0.057648</td>\n",
       "      <td>0.072024</td>\n",
       "      <td>0.366174</td>\n",
       "      <td>1.000000</td>\n",
       "      <td>0.285265</td>\n",
       "      <td>0.012332</td>\n",
       "      <td>0.072569</td>\n",
       "      <td>0.535762</td>\n",
       "    </tr>\n",
       "    <tr>\n",
       "      <th>CASE_TIER_3_US</th>\n",
       "      <td>0.052337</td>\n",
       "      <td>0.039893</td>\n",
       "      <td>0.070610</td>\n",
       "      <td>0.013339</td>\n",
       "      <td>0.027361</td>\n",
       "      <td>0.285265</td>\n",
       "      <td>1.000000</td>\n",
       "      <td>-0.001734</td>\n",
       "      <td>0.030048</td>\n",
       "      <td>0.413843</td>\n",
       "    </tr>\n",
       "    <tr>\n",
       "      <th>call_day</th>\n",
       "      <td>0.032453</td>\n",
       "      <td>0.029411</td>\n",
       "      <td>0.019048</td>\n",
       "      <td>-0.009852</td>\n",
       "      <td>-0.012561</td>\n",
       "      <td>0.012332</td>\n",
       "      <td>-0.001734</td>\n",
       "      <td>1.000000</td>\n",
       "      <td>0.006032</td>\n",
       "      <td>-0.015168</td>\n",
       "    </tr>\n",
       "    <tr>\n",
       "      <th>call_hour</th>\n",
       "      <td>0.045210</td>\n",
       "      <td>0.009101</td>\n",
       "      <td>-0.005665</td>\n",
       "      <td>0.012191</td>\n",
       "      <td>-0.000882</td>\n",
       "      <td>0.072569</td>\n",
       "      <td>0.030048</td>\n",
       "      <td>0.006032</td>\n",
       "      <td>1.000000</td>\n",
       "      <td>0.360748</td>\n",
       "    </tr>\n",
       "    <tr>\n",
       "      <th>dist</th>\n",
       "      <td>0.218253</td>\n",
       "      <td>0.430838</td>\n",
       "      <td>0.434914</td>\n",
       "      <td>0.394963</td>\n",
       "      <td>0.448545</td>\n",
       "      <td>0.535762</td>\n",
       "      <td>0.413843</td>\n",
       "      <td>-0.015168</td>\n",
       "      <td>0.360748</td>\n",
       "      <td>1.000000</td>\n",
       "    </tr>\n",
       "  </tbody>\n",
       "</table>\n",
       "</div>"
      ],
      "text/plain": [
       "                    call_len_sec  IVR_REASON  INCONTACT_SKILL  PRODUCT_NAME  \\\n",
       "call_len_sec            1.000000   -0.038371         0.019021      0.056147   \n",
       "IVR_REASON             -0.038371    1.000000         0.270207      0.016404   \n",
       "INCONTACT_SKILL         0.019021    0.270207         1.000000      0.023441   \n",
       "PRODUCT_NAME            0.056147    0.016404         0.023441      1.000000   \n",
       "CASE_TIER_1_GLOBAL      0.075376   -0.003192         0.016046      0.125556   \n",
       "CASE_TIER_2_US          0.073285    0.051855         0.057648      0.072024   \n",
       "CASE_TIER_3_US          0.052337    0.039893         0.070610      0.013339   \n",
       "call_day                0.032453    0.029411         0.019048     -0.009852   \n",
       "call_hour               0.045210    0.009101        -0.005665      0.012191   \n",
       "dist                    0.218253    0.430838         0.434914      0.394963   \n",
       "\n",
       "                    CASE_TIER_1_GLOBAL  CASE_TIER_2_US  CASE_TIER_3_US  \\\n",
       "call_len_sec                  0.075376        0.073285        0.052337   \n",
       "IVR_REASON                   -0.003192        0.051855        0.039893   \n",
       "INCONTACT_SKILL               0.016046        0.057648        0.070610   \n",
       "PRODUCT_NAME                  0.125556        0.072024        0.013339   \n",
       "CASE_TIER_1_GLOBAL            1.000000        0.366174        0.027361   \n",
       "CASE_TIER_2_US                0.366174        1.000000        0.285265   \n",
       "CASE_TIER_3_US                0.027361        0.285265        1.000000   \n",
       "call_day                     -0.012561        0.012332       -0.001734   \n",
       "call_hour                    -0.000882        0.072569        0.030048   \n",
       "dist                          0.448545        0.535762        0.413843   \n",
       "\n",
       "                    call_day  call_hour      dist  \n",
       "call_len_sec        0.032453   0.045210  0.218253  \n",
       "IVR_REASON          0.029411   0.009101  0.430838  \n",
       "INCONTACT_SKILL     0.019048  -0.005665  0.434914  \n",
       "PRODUCT_NAME       -0.009852   0.012191  0.394963  \n",
       "CASE_TIER_1_GLOBAL -0.012561  -0.000882  0.448545  \n",
       "CASE_TIER_2_US      0.012332   0.072569  0.535762  \n",
       "CASE_TIER_3_US     -0.001734   0.030048  0.413843  \n",
       "call_day            1.000000   0.006032 -0.015168  \n",
       "call_hour           0.006032   1.000000  0.360748  \n",
       "dist               -0.015168   0.360748  1.000000  "
      ]
     },
     "execution_count": 140,
     "metadata": {},
     "output_type": "execute_result"
    }
   ],
   "source": [
    "dist.corr()"
   ]
  },
  {
   "cell_type": "code",
   "execution_count": 141,
   "id": "6f43ef49",
   "metadata": {
    "scrolled": true
   },
   "outputs": [
    {
     "name": "stdout",
     "output_type": "stream",
     "text": [
      "('Short', 'Normal')\n"
     ]
    },
    {
     "data": {
      "text/html": [
       "<div>\n",
       "<style scoped>\n",
       "    .dataframe tbody tr th:only-of-type {\n",
       "        vertical-align: middle;\n",
       "    }\n",
       "\n",
       "    .dataframe tbody tr th {\n",
       "        vertical-align: top;\n",
       "    }\n",
       "\n",
       "    .dataframe thead th {\n",
       "        text-align: right;\n",
       "    }\n",
       "</style>\n",
       "<table border=\"1\" class=\"dataframe\">\n",
       "  <thead>\n",
       "    <tr style=\"text-align: right;\">\n",
       "      <th></th>\n",
       "      <th>call_len_sec</th>\n",
       "      <th>IVR_REASON</th>\n",
       "      <th>INCONTACT_SKILL</th>\n",
       "      <th>PRODUCT_NAME</th>\n",
       "      <th>CASE_TIER_1_GLOBAL</th>\n",
       "      <th>CASE_TIER_2_US</th>\n",
       "      <th>CASE_TIER_3_US</th>\n",
       "      <th>call_day</th>\n",
       "      <th>call_hour</th>\n",
       "      <th>dist</th>\n",
       "      <th>Length of call</th>\n",
       "      <th>Call type</th>\n",
       "    </tr>\n",
       "    <tr>\n",
       "      <th>call_id</th>\n",
       "      <th></th>\n",
       "      <th></th>\n",
       "      <th></th>\n",
       "      <th></th>\n",
       "      <th></th>\n",
       "      <th></th>\n",
       "      <th></th>\n",
       "      <th></th>\n",
       "      <th></th>\n",
       "      <th></th>\n",
       "      <th></th>\n",
       "      <th></th>\n",
       "    </tr>\n",
       "  </thead>\n",
       "  <tbody>\n",
       "    <tr>\n",
       "      <th>199886501750</th>\n",
       "      <td>-0.376546</td>\n",
       "      <td>-0.206794</td>\n",
       "      <td>-0.127359</td>\n",
       "      <td>-0.371262</td>\n",
       "      <td>-0.158745</td>\n",
       "      <td>-0.238371</td>\n",
       "      <td>-0.344573</td>\n",
       "      <td>0.562588</td>\n",
       "      <td>-0.041472</td>\n",
       "      <td>0.926058</td>\n",
       "      <td>Short</td>\n",
       "      <td>Normal</td>\n",
       "    </tr>\n",
       "  </tbody>\n",
       "</table>\n",
       "</div>"
      ],
      "text/plain": [
       "              call_len_sec  IVR_REASON  INCONTACT_SKILL  PRODUCT_NAME  \\\n",
       "call_id                                                                 \n",
       "199886501750     -0.376546   -0.206794        -0.127359     -0.371262   \n",
       "\n",
       "              CASE_TIER_1_GLOBAL  CASE_TIER_2_US  CASE_TIER_3_US  call_day  \\\n",
       "call_id                                                                      \n",
       "199886501750           -0.158745       -0.238371       -0.344573  0.562588   \n",
       "\n",
       "              call_hour      dist Length of call Call type  \n",
       "call_id                                                     \n",
       "199886501750  -0.041472  0.926058          Short    Normal  "
      ]
     },
     "metadata": {},
     "output_type": "display_data"
    },
    {
     "data": {
      "text/html": [
       "<div>\n",
       "<style scoped>\n",
       "    .dataframe tbody tr th:only-of-type {\n",
       "        vertical-align: middle;\n",
       "    }\n",
       "\n",
       "    .dataframe tbody tr th {\n",
       "        vertical-align: top;\n",
       "    }\n",
       "\n",
       "    .dataframe thead th {\n",
       "        text-align: right;\n",
       "    }\n",
       "</style>\n",
       "<table border=\"1\" class=\"dataframe\">\n",
       "  <thead>\n",
       "    <tr style=\"text-align: right;\">\n",
       "      <th></th>\n",
       "      <th>call_len_sec</th>\n",
       "      <th>CREATED_DATE_TIME</th>\n",
       "      <th>IVR_REASON</th>\n",
       "      <th>INCONTACT_SKILL</th>\n",
       "      <th>PRODUCT_NAME</th>\n",
       "      <th>CASE_TIER_1_GLOBAL</th>\n",
       "      <th>CASE_TIER_2_US</th>\n",
       "      <th>CASE_TIER_3_US</th>\n",
       "      <th>SUBJECT</th>\n",
       "      <th>transcript</th>\n",
       "      <th>md_desc</th>\n",
       "      <th>Length of call</th>\n",
       "      <th>Call type</th>\n",
       "    </tr>\n",
       "    <tr>\n",
       "      <th>call_id</th>\n",
       "      <th></th>\n",
       "      <th></th>\n",
       "      <th></th>\n",
       "      <th></th>\n",
       "      <th></th>\n",
       "      <th></th>\n",
       "      <th></th>\n",
       "      <th></th>\n",
       "      <th></th>\n",
       "      <th></th>\n",
       "      <th></th>\n",
       "      <th></th>\n",
       "      <th></th>\n",
       "    </tr>\n",
       "  </thead>\n",
       "  <tbody>\n",
       "    <tr>\n",
       "      <th>199886501750</th>\n",
       "      <td>330</td>\n",
       "      <td>2022-05-12 16:13:59</td>\n",
       "      <td>Coupon Max Errors</td>\n",
       "      <td>SK_GRC_Patient_Assist_Voice</td>\n",
       "      <td>TRELEGY</td>\n",
       "      <td>General Enquiry</td>\n",
       "      <td>GRC Transfer</td>\n",
       "      <td>GRC Product Team</td>\n",
       "      <td>Product Team</td>\n",
       "      <td>Good afternoon . Thank you for calling the res...</td>\n",
       "      <td>Product Team. Caller request assistance with T...</td>\n",
       "      <td>Short</td>\n",
       "      <td>Normal</td>\n",
       "    </tr>\n",
       "  </tbody>\n",
       "</table>\n",
       "</div>"
      ],
      "text/plain": [
       "              call_len_sec   CREATED_DATE_TIME         IVR_REASON  \\\n",
       "call_id                                                             \n",
       "199886501750           330 2022-05-12 16:13:59  Coupon Max Errors   \n",
       "\n",
       "                          INCONTACT_SKILL PRODUCT_NAME CASE_TIER_1_GLOBAL  \\\n",
       "call_id                                                                     \n",
       "199886501750  SK_GRC_Patient_Assist_Voice      TRELEGY    General Enquiry   \n",
       "\n",
       "             CASE_TIER_2_US    CASE_TIER_3_US       SUBJECT  \\\n",
       "call_id                                                       \n",
       "199886501750   GRC Transfer  GRC Product Team  Product Team   \n",
       "\n",
       "                                                     transcript  \\\n",
       "call_id                                                           \n",
       "199886501750  Good afternoon . Thank you for calling the res...   \n",
       "\n",
       "                                                        md_desc  \\\n",
       "call_id                                                           \n",
       "199886501750  Product Team. Caller request assistance with T...   \n",
       "\n",
       "             Length of call Call type  \n",
       "call_id                                \n",
       "199886501750          Short    Normal  "
      ]
     },
     "metadata": {},
     "output_type": "display_data"
    },
    {
     "data": {
      "text/plain": [
       "array(['Product Team. Caller request assistance with Trelegy inhaler.'],\n",
       "      dtype=object)"
      ]
     },
     "metadata": {},
     "output_type": "display_data"
    },
    {
     "data": {
      "text/plain": [
       "array([\"Good afternoon . Thank you for calling the responsibility . My name is oddly . How may I assist you ? .  Nope .  Okay . ..  . . If surgery , my name is slender well born . I'm calling from Plaquenex , and I'm on , my doctor has me on Dilaudid , Ellipta , and , uh , the last one that I got , I get one that for 30 days , and the last one that I got towards the end , it seemed like there wasn't any thing coming out , you know , there's , that residue in your mouth , you have to rinse your mouth . Well , this one , I've only had it eight days , and it's , it's gone to the red . It's , it's already out , , and , and I , I don't know , you know , if there's a , a problem with the , uh , uh , well , there , there's got to be a problem with the , with the , uh , container , you know , the , the dispenser. .  All right , ma'am , I'll be happy to assist you . You said your name is Namenda , Namenda , would you spell your last name for me ? . .  . Yes , my first name is spelled with a Y . My last name is [##redacted##]. .  .  ?  Yes , ma'am ..  [##redacted##] . And your first name limber L Y M D A ..  Yes ..  Okay .  Misundlendia . May I have your telephone number , please ? .  . Three , two , five , eight , two , nine , two , five , six , eight. .  Um-hum .  And may I have your zip code.  Seven , nine , five , one , zero. .  . Thank you ..  All right , miss will burn . Thank you so much for that information . So what I'm doing is documenting your call to , um , and then I'm going to connect you with a product team specialist , so your trilogy is not working correctly , or that's correct , right ? . .  Yes , ma'am ..  Yes , ma'am , and I have to have this every day , and it's , it's , like , $400 . 00 , and my insurance pays for it , but they won't pay for a second one.  Thank you ..  I appreciate it ..  ?  Yes.  Yes , ma'am . I do understand that .  All right .  Um-hum .  Um , I'm going to place you on hold for a moment while I document your call , all right ? One moment , please . Thank you . Thank you for holding this wellboard . I'm transferring you to Miss Virginia . She's one of our product teams specialists . She'll be happy to assist you ,.  , , thank you ..  You're very welcome ..  Hello ,. .  .  ?  Yes . . \"],\n",
       "      dtype=object)"
      ]
     },
     "metadata": {},
     "output_type": "display_data"
    },
    {
     "name": "stdout",
     "output_type": "stream",
     "text": [
      "('Short', 'Atypical')\n"
     ]
    },
    {
     "data": {
      "text/html": [
       "<div>\n",
       "<style scoped>\n",
       "    .dataframe tbody tr th:only-of-type {\n",
       "        vertical-align: middle;\n",
       "    }\n",
       "\n",
       "    .dataframe tbody tr th {\n",
       "        vertical-align: top;\n",
       "    }\n",
       "\n",
       "    .dataframe thead th {\n",
       "        text-align: right;\n",
       "    }\n",
       "</style>\n",
       "<table border=\"1\" class=\"dataframe\">\n",
       "  <thead>\n",
       "    <tr style=\"text-align: right;\">\n",
       "      <th></th>\n",
       "      <th>call_len_sec</th>\n",
       "      <th>IVR_REASON</th>\n",
       "      <th>INCONTACT_SKILL</th>\n",
       "      <th>PRODUCT_NAME</th>\n",
       "      <th>CASE_TIER_1_GLOBAL</th>\n",
       "      <th>CASE_TIER_2_US</th>\n",
       "      <th>CASE_TIER_3_US</th>\n",
       "      <th>call_day</th>\n",
       "      <th>call_hour</th>\n",
       "      <th>dist</th>\n",
       "      <th>Length of call</th>\n",
       "      <th>Call type</th>\n",
       "    </tr>\n",
       "    <tr>\n",
       "      <th>call_id</th>\n",
       "      <th></th>\n",
       "      <th></th>\n",
       "      <th></th>\n",
       "      <th></th>\n",
       "      <th></th>\n",
       "      <th></th>\n",
       "      <th></th>\n",
       "      <th></th>\n",
       "      <th></th>\n",
       "      <th></th>\n",
       "      <th></th>\n",
       "      <th></th>\n",
       "    </tr>\n",
       "  </thead>\n",
       "  <tbody>\n",
       "    <tr>\n",
       "      <th>200240112029</th>\n",
       "      <td>-0.18903</td>\n",
       "      <td>-0.213671</td>\n",
       "      <td>0.001953</td>\n",
       "      <td>0.04596</td>\n",
       "      <td>0.264795</td>\n",
       "      <td>2.811441</td>\n",
       "      <td>6.443688</td>\n",
       "      <td>1.026279</td>\n",
       "      <td>0.737003</td>\n",
       "      <td>7.153696</td>\n",
       "      <td>Short</td>\n",
       "      <td>Atypical</td>\n",
       "    </tr>\n",
       "  </tbody>\n",
       "</table>\n",
       "</div>"
      ],
      "text/plain": [
       "              call_len_sec  IVR_REASON  INCONTACT_SKILL  PRODUCT_NAME  \\\n",
       "call_id                                                                 \n",
       "200240112029      -0.18903   -0.213671         0.001953       0.04596   \n",
       "\n",
       "              CASE_TIER_1_GLOBAL  CASE_TIER_2_US  CASE_TIER_3_US  call_day  \\\n",
       "call_id                                                                      \n",
       "200240112029            0.264795        2.811441        6.443688  1.026279   \n",
       "\n",
       "              call_hour      dist Length of call Call type  \n",
       "call_id                                                     \n",
       "200240112029   0.737003  7.153696          Short  Atypical  "
      ]
     },
     "metadata": {},
     "output_type": "display_data"
    },
    {
     "data": {
      "text/html": [
       "<div>\n",
       "<style scoped>\n",
       "    .dataframe tbody tr th:only-of-type {\n",
       "        vertical-align: middle;\n",
       "    }\n",
       "\n",
       "    .dataframe tbody tr th {\n",
       "        vertical-align: top;\n",
       "    }\n",
       "\n",
       "    .dataframe thead th {\n",
       "        text-align: right;\n",
       "    }\n",
       "</style>\n",
       "<table border=\"1\" class=\"dataframe\">\n",
       "  <thead>\n",
       "    <tr style=\"text-align: right;\">\n",
       "      <th></th>\n",
       "      <th>call_len_sec</th>\n",
       "      <th>CREATED_DATE_TIME</th>\n",
       "      <th>IVR_REASON</th>\n",
       "      <th>INCONTACT_SKILL</th>\n",
       "      <th>PRODUCT_NAME</th>\n",
       "      <th>CASE_TIER_1_GLOBAL</th>\n",
       "      <th>CASE_TIER_2_US</th>\n",
       "      <th>CASE_TIER_3_US</th>\n",
       "      <th>SUBJECT</th>\n",
       "      <th>transcript</th>\n",
       "      <th>md_desc</th>\n",
       "      <th>Length of call</th>\n",
       "      <th>Call type</th>\n",
       "    </tr>\n",
       "    <tr>\n",
       "      <th>call_id</th>\n",
       "      <th></th>\n",
       "      <th></th>\n",
       "      <th></th>\n",
       "      <th></th>\n",
       "      <th></th>\n",
       "      <th></th>\n",
       "      <th></th>\n",
       "      <th></th>\n",
       "      <th></th>\n",
       "      <th></th>\n",
       "      <th></th>\n",
       "      <th></th>\n",
       "      <th></th>\n",
       "    </tr>\n",
       "  </thead>\n",
       "  <tbody>\n",
       "    <tr>\n",
       "      <th>200240112029</th>\n",
       "      <td>420</td>\n",
       "      <td>2022-05-20 17:13:20</td>\n",
       "      <td>Benlysta Promotional LASH Transfer</td>\n",
       "      <td>SK_GRC_Hub_Benlysta_Voice</td>\n",
       "      <td>BENLYSTA SC AI</td>\n",
       "      <td>Commercial Activities</td>\n",
       "      <td>GRC - Video Training</td>\n",
       "      <td>GRC Video Training Performed</td>\n",
       "      <td>Benlysta WebEx Training Performed</td>\n",
       "      <td>Thank you for calling Benlysta Cares . My name...</td>\n",
       "      <td>Benlysta WebEx Training Performed. Benlysta We...</td>\n",
       "      <td>Short</td>\n",
       "      <td>Atypical</td>\n",
       "    </tr>\n",
       "  </tbody>\n",
       "</table>\n",
       "</div>"
      ],
      "text/plain": [
       "              call_len_sec   CREATED_DATE_TIME  \\\n",
       "call_id                                          \n",
       "200240112029           420 2022-05-20 17:13:20   \n",
       "\n",
       "                                      IVR_REASON            INCONTACT_SKILL  \\\n",
       "call_id                                                                       \n",
       "200240112029  Benlysta Promotional LASH Transfer  SK_GRC_Hub_Benlysta_Voice   \n",
       "\n",
       "                PRODUCT_NAME     CASE_TIER_1_GLOBAL        CASE_TIER_2_US  \\\n",
       "call_id                                                                     \n",
       "200240112029  BENLYSTA SC AI  Commercial Activities  GRC - Video Training   \n",
       "\n",
       "                            CASE_TIER_3_US                            SUBJECT  \\\n",
       "call_id                                                                         \n",
       "200240112029  GRC Video Training Performed  Benlysta WebEx Training Performed   \n",
       "\n",
       "                                                     transcript  \\\n",
       "call_id                                                           \n",
       "200240112029  Thank you for calling Benlysta Cares . My name...   \n",
       "\n",
       "                                                        md_desc  \\\n",
       "call_id                                                           \n",
       "200240112029  Benlysta WebEx Training Performed. Benlysta We...   \n",
       "\n",
       "             Length of call Call type  \n",
       "call_id                                \n",
       "200240112029          Short  Atypical  "
      ]
     },
     "metadata": {},
     "output_type": "display_data"
    },
    {
     "data": {
      "text/plain": [
       "array(['Benlysta WebEx Training Performed. Benlysta WebEx Training Performed'],\n",
       "      dtype=object)"
      ]
     },
     "metadata": {},
     "output_type": "display_data"
    },
    {
     "data": {
      "text/plain": [
       "array([\"Thank you for calling Benlysta Cares . My name is Rounda . I'm a registered nurse . How may I help you today ?. Um , I'm sorry ..  Yes , this has been listed here . How can I help you ?.  Um-hum.  . Yeah. .  I miss that because I was .  Yes , um , I would provide this number by , um , the CVS specialty pharmacy , because they had indicated that , um , a nurse would be available to provide some training on administering the injection . I've never administered , um , , administered an injection before , and , um , I did get you samples , and I did not do with the right way . So they're both products were wasted ..  Okay . Um , we can definitely provide some.  Is there a service that's provided ?.  Okay.  ..  Yes , we can provide virtual training for you . Um , it's set up , be a video chat . Would you like to do that now , or schedule it for sometime , or we can , we can do it now ? It's up to you ..  Okay ..  Oh , no , I don't know . Um , so , is there any video ? It's not important , or.  Okay ..  We don't , we don't have video , we don't have in person training . If you want , in person training , um , then you would need to check with your doctor's office , um , and maybe have you set it up that way for your doctor's office , maybe a nurse there , that could show you , but for Benlysta cares , we do offer virtual training . It's super easy to set up and walk through the steps , um , it's done through , like , cysto websites . Um , we can't see you , but you're able to see us , and we have , like , a demo device , and , um , like a , yeah , we have , like , a skin pad . So , it's pretty , um , pretty close to in person ..  Your camera does not have to be on . Correct , exactly . It's just going to be watching us.  .  Okay . I , you know , uh , my camera doesn't have to be on . So my camera doesn't have to be on it . Okay . Why don't we , yeah , you can , I can do it . I can do it now . Yeah. .  All righty . Um , what is your first and last name ?.  Okay , and your last thing ?.  .  First set of initial out of MICH , E-L-O-V , like in victory . Last name is raw . RH-A-R-[##redacted##].  Okay . And a good phone number for you in case we're disconnected ..  [##redacted##] , 7 , 7 , 7 , 3 , 1 , 4 , 6. .  Okay , so that's 4 , 8 , 0 , 5 , 7 , 7 , 3 , 1 , 4 , 6.  Correct ..  Okay . And then , um , may I have your e-mail address , because that's where I'll send the link for you to join the chat ..  Uh-huh ..  Uh-huh ..  Okay ..  [##redacted##] at MSM . com.  Okay , so that's in the merry . Our M is a microalbumin . Um , RSN raw . And , oh , your last name , and then four or five MSN . com.  Correct ..  Okay , and then what is your zip code ? Um , microwave gloves.  Um , physical is 85/24 , 8.  All right ..  Eight , five , two , four , eight . Okay . All right . Bear with me for just a moment . Um , I just need to set up the , um , the , uh , the meeting , and I'll be right back with you , okay ? So we can get that going ..  Okay , thank you . And your name again ? Your name ?.  Okay . Thank you .  You're welcome .  .  Yeah , sure . My name is random , and I'm , my name is random , and I'm a registered nurse ..  .  Okay . Thank you , Doctor . Bye bye ..  Okay , sure . Yeah , one moment\"],\n",
       "      dtype=object)"
      ]
     },
     "metadata": {},
     "output_type": "display_data"
    },
    {
     "name": "stdout",
     "output_type": "stream",
     "text": [
      "('Long', 'Normal')\n"
     ]
    },
    {
     "data": {
      "text/html": [
       "<div>\n",
       "<style scoped>\n",
       "    .dataframe tbody tr th:only-of-type {\n",
       "        vertical-align: middle;\n",
       "    }\n",
       "\n",
       "    .dataframe tbody tr th {\n",
       "        vertical-align: top;\n",
       "    }\n",
       "\n",
       "    .dataframe thead th {\n",
       "        text-align: right;\n",
       "    }\n",
       "</style>\n",
       "<table border=\"1\" class=\"dataframe\">\n",
       "  <thead>\n",
       "    <tr style=\"text-align: right;\">\n",
       "      <th></th>\n",
       "      <th>call_len_sec</th>\n",
       "      <th>IVR_REASON</th>\n",
       "      <th>INCONTACT_SKILL</th>\n",
       "      <th>PRODUCT_NAME</th>\n",
       "      <th>CASE_TIER_1_GLOBAL</th>\n",
       "      <th>CASE_TIER_2_US</th>\n",
       "      <th>CASE_TIER_3_US</th>\n",
       "      <th>call_day</th>\n",
       "      <th>call_hour</th>\n",
       "      <th>dist</th>\n",
       "      <th>Length of call</th>\n",
       "      <th>Call type</th>\n",
       "    </tr>\n",
       "    <tr>\n",
       "      <th>call_id</th>\n",
       "      <th></th>\n",
       "      <th></th>\n",
       "      <th></th>\n",
       "      <th></th>\n",
       "      <th></th>\n",
       "      <th></th>\n",
       "      <th></th>\n",
       "      <th></th>\n",
       "      <th></th>\n",
       "      <th></th>\n",
       "      <th></th>\n",
       "      <th></th>\n",
       "    </tr>\n",
       "  </thead>\n",
       "  <tbody>\n",
       "    <tr>\n",
       "      <th>199956162969</th>\n",
       "      <td>1.436107</td>\n",
       "      <td>-0.234536</td>\n",
       "      <td>-0.04073</td>\n",
       "      <td>-0.371262</td>\n",
       "      <td>0.0934</td>\n",
       "      <td>-0.029196</td>\n",
       "      <td>-0.299808</td>\n",
       "      <td>1.026279</td>\n",
       "      <td>-0.041472</td>\n",
       "      <td>1.84698</td>\n",
       "      <td>Long</td>\n",
       "      <td>Normal</td>\n",
       "    </tr>\n",
       "  </tbody>\n",
       "</table>\n",
       "</div>"
      ],
      "text/plain": [
       "              call_len_sec  IVR_REASON  INCONTACT_SKILL  PRODUCT_NAME  \\\n",
       "call_id                                                                 \n",
       "199956162969      1.436107   -0.234536         -0.04073     -0.371262   \n",
       "\n",
       "              CASE_TIER_1_GLOBAL  CASE_TIER_2_US  CASE_TIER_3_US  call_day  \\\n",
       "call_id                                                                      \n",
       "199956162969              0.0934       -0.029196       -0.299808  1.026279   \n",
       "\n",
       "              call_hour     dist Length of call Call type  \n",
       "call_id                                                    \n",
       "199956162969  -0.041472  1.84698           Long    Normal  "
      ]
     },
     "metadata": {},
     "output_type": "display_data"
    },
    {
     "data": {
      "text/html": [
       "<div>\n",
       "<style scoped>\n",
       "    .dataframe tbody tr th:only-of-type {\n",
       "        vertical-align: middle;\n",
       "    }\n",
       "\n",
       "    .dataframe tbody tr th {\n",
       "        vertical-align: top;\n",
       "    }\n",
       "\n",
       "    .dataframe thead th {\n",
       "        text-align: right;\n",
       "    }\n",
       "</style>\n",
       "<table border=\"1\" class=\"dataframe\">\n",
       "  <thead>\n",
       "    <tr style=\"text-align: right;\">\n",
       "      <th></th>\n",
       "      <th>call_len_sec</th>\n",
       "      <th>CREATED_DATE_TIME</th>\n",
       "      <th>IVR_REASON</th>\n",
       "      <th>INCONTACT_SKILL</th>\n",
       "      <th>PRODUCT_NAME</th>\n",
       "      <th>CASE_TIER_1_GLOBAL</th>\n",
       "      <th>CASE_TIER_2_US</th>\n",
       "      <th>CASE_TIER_3_US</th>\n",
       "      <th>SUBJECT</th>\n",
       "      <th>transcript</th>\n",
       "      <th>md_desc</th>\n",
       "      <th>Length of call</th>\n",
       "      <th>Call type</th>\n",
       "    </tr>\n",
       "    <tr>\n",
       "      <th>call_id</th>\n",
       "      <th></th>\n",
       "      <th></th>\n",
       "      <th></th>\n",
       "      <th></th>\n",
       "      <th></th>\n",
       "      <th></th>\n",
       "      <th></th>\n",
       "      <th></th>\n",
       "      <th></th>\n",
       "      <th></th>\n",
       "      <th></th>\n",
       "      <th></th>\n",
       "      <th></th>\n",
       "    </tr>\n",
       "  </thead>\n",
       "  <tbody>\n",
       "    <tr>\n",
       "      <th>199956162969</th>\n",
       "      <td>1200</td>\n",
       "      <td>2022-05-13 16:20:44</td>\n",
       "      <td>Quality Complaint</td>\n",
       "      <td>SK_GRC_Quality_Complaint_Voice</td>\n",
       "      <td>TRELEGY</td>\n",
       "      <td>Product Quality Complaints</td>\n",
       "      <td>PQC completed</td>\n",
       "      <td>Replaced by SC</td>\n",
       "      <td>Trelegy Ellipta PQC w/ Related AE</td>\n",
       "      <td>Thank you for calling the responsibility . My ...</td>\n",
       "      <td>Trelegy Ellipta PQC w/ Related AE. PQC filed. ...</td>\n",
       "      <td>Long</td>\n",
       "      <td>Normal</td>\n",
       "    </tr>\n",
       "  </tbody>\n",
       "</table>\n",
       "</div>"
      ],
      "text/plain": [
       "              call_len_sec   CREATED_DATE_TIME         IVR_REASON  \\\n",
       "call_id                                                             \n",
       "199956162969          1200 2022-05-13 16:20:44  Quality Complaint   \n",
       "\n",
       "                             INCONTACT_SKILL PRODUCT_NAME  \\\n",
       "call_id                                                     \n",
       "199956162969  SK_GRC_Quality_Complaint_Voice      TRELEGY   \n",
       "\n",
       "                      CASE_TIER_1_GLOBAL CASE_TIER_2_US  CASE_TIER_3_US  \\\n",
       "call_id                                                                   \n",
       "199956162969  Product Quality Complaints  PQC completed  Replaced by SC   \n",
       "\n",
       "                                        SUBJECT  \\\n",
       "call_id                                           \n",
       "199956162969  Trelegy Ellipta PQC w/ Related AE   \n",
       "\n",
       "                                                     transcript  \\\n",
       "call_id                                                           \n",
       "199956162969  Thank you for calling the responsibility . My ...   \n",
       "\n",
       "                                                        md_desc  \\\n",
       "call_id                                                           \n",
       "199956162969  Trelegy Ellipta PQC w/ Related AE. PQC filed. ...   \n",
       "\n",
       "             Length of call Call type  \n",
       "call_id                                \n",
       "199956162969           Long    Normal  "
      ]
     },
     "metadata": {},
     "output_type": "display_data"
    },
    {
     "data": {
      "text/plain": [
       "array(['Trelegy Ellipta PQC w/ Related AE. PQC filed. CC#201209576'],\n",
       "      dtype=object)"
      ]
     },
     "metadata": {},
     "output_type": "display_data"
    },
    {
     "data": {
      "text/plain": [
       "array(['Thank you for calling the responsibility . My name is methylmalonal pharmacist . I\\'m going to help you today .. Um-hum .  Uh , yeah , so I\\'m calling , um , my , uh , on behalf of my mom , um , who has a trology prescription that she picked up , and , um , it doesn\\'t appear to be working.  Okay ..  Okay , um , I can help you with that issue today . Um , before we start May I collect your contact information to document our call.  Absolutely . Yes ..  Uh , measured , measured first and last time , please ..  My first name is [##redacted##][##redacted##][##redacted##].  .  Um-hum ..  Last name is [##redacted##] M A G E.  All right . Thank you . And may have your phone number , please . ..  Sure , it\\'s 5\\'16 , 6\\'8 , 0 , 5\\'3 , 09.  All right , it\\'s , uh , 5\\'1\" . 6\\'6 , 6\\'8 , zero , 5\\'3 , 09 ..  Correct ..  Okay . And last , you may have an address , please ..  Um , my , uh , I\\'m , uh , I\\'m calling on behalf of my mom . Should I give you her address or my address ?.  Um , I would like your address first , please ..  Okay . Twelve athlete , AC K , L E Y , Avonex.  .  Um-hum ..  Malarone M A L V E R N E , New York , 1 , 1 , 5 , 6 , 5.  All right . So , I have [##redacted##] , 1 , 5 , 6 , 5.  Correct ..  Um-hum ..  Okay . All right . And I know that you\\'re calling on the , uh , half of your mom , and it seems like the chromosy isn\\'t working . Um , do you mean that there\\'s no powder coming out , or is it counter not working.  Uh , yeah . It\\'s , uh , the counter doesn\\'t appear to be working . She doesn\\'t think that the powder is coming out either . It\\'s the trolley ellipta.  .  Um-hum . Okay . All right ..  But the counter just stays on red and there\\'s nothing , you know  That happens.  Okay , got it , um-hum . All right , do you happen to have that device with you right now ? .  I do , yes , I do.  Um , the.  Okay . I may get the lot number , an expiration date , , please . It should be on their device , um , . Um-hum.  Um , okay ..  I haven\\'t , I think Ellipta inhaler containing 30 doses , 60 blisters total , is that the , wait , oh , no , I got it . I found it . Never mind . I\\'ve got it . It\\'s a lot , three eleisms and least , uh , seven B as in boy , expires , eight , twenty-three.  Um-hum ..  All right , thank you . And I know the counter is currently on red , um , do you know if she received it that way , or was there a different number on there before ?  .  Okay ..  Um-hum ..  Right ..  She did , but I don\\'t think that , you know , she just went to use it . I don\\'t know . Yesterday or the day before , and she didn\\'t feel like anything came in , and when she opens and closes it , she said usually the counter changes and nothing has happened , yeah ..  Okay . Do you happen to know when she picked that device up ?.  It looks like it was the , the date on the prescription is 2 , 222 , or , I mean , on the , the , the , yeah , the label from the pharmacy.  Okay , but . All right , um , did she recently use that or.  Do you know , do you know ?  Just , uh.  Yeah , she , I guess she had one , and she finished that one , and then opened up this one , and just started using it , but it didn\\'t appear to be working.  Okay . All right . So she opened up a brand new one and the counter was red .  .  Okay . All right ..  Correct . Correct ..  Sure . Okay ..  Let , let me just make , make a note of that real quick . All right , um , I do need to , uh , look into this main place or call in a brief fold . I\\'ll be right back with you . All right , thank you , please ..  Do you have a Medco ?.  Um-hum , yeah.  Okay ..  Um-hum ..  Thank you for holding . I , I do have a few questions for you . I know that , um , the counter was red when she received it . Um , do you know if she checked that counter when she first opened the peelable lid in the tray , or did she notice it a little bit later.  Okay . Um-hum ..  I think she , I don\\'t know . I wasn\\'t with her . Um , yeah.  Okay , all right , no problem . And , um ,.  All right . And when did you say she notices this ? Was this the other day , or was it today ? .  Um-hum , the 13th ? .  Okay . Um-hum ..  Um-hum ..  Yeah , just the other day . Um , what\\'s today , Friday , she noticed it , um , the 13th , she noticed that the 11th , I went up to Walgreens yesterday at where she had it filled and they said that we would need to contact you.  ..   .  Okay , all right . And the reason why I was , um , wondering about that was because I didn\\'t know if she had a different device that she was using . Um , or if she was trying to get the dose from the , uh , device that was on red.  Um , only because , um-hum.  She was trying to get the dose from the , uh , device that was on red , because the other one was empty . It was finished.  Uh , right . Right , right , right ..  All right .  Okay . All right . Okay . It seems like , um , yes , the red does indicate that the device is empty , so it , she probably hasn\\'t been getting , uh , a dose in the past couple of days . Um-hum . Which would , yeah , , that\\'s the only reason why I\\'m asking , okay . All right . Um , I do need to get some more information . Uh , may get your mother\\'s , uh , first and last name , please. .  .  Absolutely . It\\'s Purdea . It\\'s P E R D I T A , and her last name is welts , W U E L C H.  All right , thank you . And they have her date of birth as well.  Okay . .  Yes , her birthday is 9:17 , 1941.  All right , thank you . And they have , um , a phone number and address.  Um-hum .. . .  Yes , her phone number is 7/03 , 4/08 , 4/8 , 4 , 4 , and her address is 15/30 . key bullavard , and that\\'s a partner , 3 , 2 , 5.  And do you just need the zip code or the city and state , too ?.  Um , I\\'ll take the city state , ends up good ..  Okay . It\\'s [##redacted##] 10 , A R L I N G T O N , Virginia.  And then it\\'s two , two , two , zero , nine.  No.  All right , thank you . I\\'m just going to repeat her phone number and address real quick . So for her phone number , I have seven , zero , three , four , zero , eight , four , eight , four , four , and the address I have , 15 , 30 , keyboard of our department , 325 , ourlings in Virginia , to , uh , to 09 ,.  .  Yeah .  This is , could you say the zip code again ? You cut out a little bit . Sorry ..  Uh , yeah , sure . Um , it\\'s 2 , 2 , 2.  Zero nine.  Correct . Yes , that\\'s all correct ..  .  .  Okay . All right . Thank you .  All right .  And , um , what\\'s the name of the pharmacy that she uses.  It\\'s Walgreens.  Okay . And , um , do you have their phone number.  I do . It\\'s 7 0.3 , 8 , 4 , 2 , 0 , 2 , 4 , 0.  All right , thank you . And I just wanted to confirm , um , she needs a device as soon as possible , is that right ?.  Correct ..  Okay . All right . Um , I am going to go ahead.  Absolutely . Of course , of course , yeah , I\\'m here . Thanks ..  Call that pharmacy and see if they do have a trial of Geodon that , uh , in stock , um , and while I do that , can you please stay on the line and I\\'ll get back to you once I\\'m done speaking to them . All right , , thank you . Please hold , um-hum , thank you . Hello am I going to go ? .  Hi.  Yes , I\\'m here ..  Um-hum.  . Okay ..  Okay ..  No problem . No problem .  Okay .  Um-hum ..  Thank you for holding . Uh , I just spoke to the pharmacist over at , uh , Walgreens . Um , unfortunately , it doesn\\'t look like they have a device in stock , so they , but they are going to go ahead and order one , uh , for your mother . Um , she said that it\\'s probably going to be , um , Monday is earliest , uh , she would probably be able to get that in , um , but she\\'ll let you know , or your mother , uh , when that\\'s ready for pickup . And , um , one other thing , uh , , um , I did want to ask , would you be able to , um , bring that device to the pharmacy ? .  Absolutely . Absolutely . And leave it with them.  Okay , great . Thank you so much .  Exactly . And.  Okay . Okay , perfect . Thank you so much ..  Sit back to us . All right , thank you . Um-hum . Um , you\\'re very welcome . I did want to ask , would you like a case number for today.  Um , yeah , let me get a pen and write that down.  .  Okay .  .  Sure . Just let me know when you\\'re ready ..  Okay ..  Okay , I\\'m ready ..  All right , um , so that , the case number is going to be 0 , 1 , 3 , 7 , 8 , 5 , 6 , 3.  Zero , one , three , seven , eight , five , six , three.  That\\'s correct . Um-hum ..  Okay . Great ..  All right . Well , if there\\'s nothing else , I did want to call , thank you for calling GSK , and a brief optional surveillance follow-up . Hope you have a good day now .  Thank you .  All right . Bye bye .  .  Um-hum.  Okay . Thank you . You as well . Bye bye .'],\n",
       "      dtype=object)"
      ]
     },
     "metadata": {},
     "output_type": "display_data"
    },
    {
     "name": "stdout",
     "output_type": "stream",
     "text": [
      "('Long', 'Atypical')\n"
     ]
    },
    {
     "data": {
      "text/html": [
       "<div>\n",
       "<style scoped>\n",
       "    .dataframe tbody tr th:only-of-type {\n",
       "        vertical-align: middle;\n",
       "    }\n",
       "\n",
       "    .dataframe tbody tr th {\n",
       "        vertical-align: top;\n",
       "    }\n",
       "\n",
       "    .dataframe thead th {\n",
       "        text-align: right;\n",
       "    }\n",
       "</style>\n",
       "<table border=\"1\" class=\"dataframe\">\n",
       "  <thead>\n",
       "    <tr style=\"text-align: right;\">\n",
       "      <th></th>\n",
       "      <th>call_len_sec</th>\n",
       "      <th>IVR_REASON</th>\n",
       "      <th>INCONTACT_SKILL</th>\n",
       "      <th>PRODUCT_NAME</th>\n",
       "      <th>CASE_TIER_1_GLOBAL</th>\n",
       "      <th>CASE_TIER_2_US</th>\n",
       "      <th>CASE_TIER_3_US</th>\n",
       "      <th>call_day</th>\n",
       "      <th>call_hour</th>\n",
       "      <th>dist</th>\n",
       "      <th>Length of call</th>\n",
       "      <th>Call type</th>\n",
       "    </tr>\n",
       "    <tr>\n",
       "      <th>call_id</th>\n",
       "      <th></th>\n",
       "      <th></th>\n",
       "      <th></th>\n",
       "      <th></th>\n",
       "      <th></th>\n",
       "      <th></th>\n",
       "      <th></th>\n",
       "      <th></th>\n",
       "      <th></th>\n",
       "      <th></th>\n",
       "      <th></th>\n",
       "      <th></th>\n",
       "    </tr>\n",
       "  </thead>\n",
       "  <tbody>\n",
       "    <tr>\n",
       "      <th>200169259326</th>\n",
       "      <td>4.686381</td>\n",
       "      <td>-0.227273</td>\n",
       "      <td>-0.044664</td>\n",
       "      <td>0.013909</td>\n",
       "      <td>0.610812</td>\n",
       "      <td>-0.038409</td>\n",
       "      <td>-0.231317</td>\n",
       "      <td>0.562588</td>\n",
       "      <td>-0.153658</td>\n",
       "      <td>4.77328</td>\n",
       "      <td>Long</td>\n",
       "      <td>Atypical</td>\n",
       "    </tr>\n",
       "  </tbody>\n",
       "</table>\n",
       "</div>"
      ],
      "text/plain": [
       "              call_len_sec  IVR_REASON  INCONTACT_SKILL  PRODUCT_NAME  \\\n",
       "call_id                                                                 \n",
       "200169259326      4.686381   -0.227273        -0.044664      0.013909   \n",
       "\n",
       "              CASE_TIER_1_GLOBAL  CASE_TIER_2_US  CASE_TIER_3_US  call_day  \\\n",
       "call_id                                                                      \n",
       "200169259326            0.610812       -0.038409       -0.231317  0.562588   \n",
       "\n",
       "              call_hour     dist Length of call Call type  \n",
       "call_id                                                    \n",
       "200169259326  -0.153658  4.77328           Long  Atypical  "
      ]
     },
     "metadata": {},
     "output_type": "display_data"
    },
    {
     "data": {
      "text/html": [
       "<div>\n",
       "<style scoped>\n",
       "    .dataframe tbody tr th:only-of-type {\n",
       "        vertical-align: middle;\n",
       "    }\n",
       "\n",
       "    .dataframe tbody tr th {\n",
       "        vertical-align: top;\n",
       "    }\n",
       "\n",
       "    .dataframe thead th {\n",
       "        text-align: right;\n",
       "    }\n",
       "</style>\n",
       "<table border=\"1\" class=\"dataframe\">\n",
       "  <thead>\n",
       "    <tr style=\"text-align: right;\">\n",
       "      <th></th>\n",
       "      <th>call_len_sec</th>\n",
       "      <th>CREATED_DATE_TIME</th>\n",
       "      <th>IVR_REASON</th>\n",
       "      <th>INCONTACT_SKILL</th>\n",
       "      <th>PRODUCT_NAME</th>\n",
       "      <th>CASE_TIER_1_GLOBAL</th>\n",
       "      <th>CASE_TIER_2_US</th>\n",
       "      <th>CASE_TIER_3_US</th>\n",
       "      <th>SUBJECT</th>\n",
       "      <th>transcript</th>\n",
       "      <th>md_desc</th>\n",
       "      <th>Length of call</th>\n",
       "      <th>Call type</th>\n",
       "    </tr>\n",
       "    <tr>\n",
       "      <th>call_id</th>\n",
       "      <th></th>\n",
       "      <th></th>\n",
       "      <th></th>\n",
       "      <th></th>\n",
       "      <th></th>\n",
       "      <th></th>\n",
       "      <th></th>\n",
       "      <th></th>\n",
       "      <th></th>\n",
       "      <th></th>\n",
       "      <th></th>\n",
       "      <th></th>\n",
       "      <th></th>\n",
       "    </tr>\n",
       "  </thead>\n",
       "  <tbody>\n",
       "    <tr>\n",
       "      <th>200169259326</th>\n",
       "      <td>2760</td>\n",
       "      <td>2022-05-19 13:16:09</td>\n",
       "      <td>Nucala Inbound Call</td>\n",
       "      <td>SK_GRC_Hub_Nucala_Voice</td>\n",
       "      <td>NUCALA AI</td>\n",
       "      <td>Adverse Event</td>\n",
       "      <td>AE Initial</td>\n",
       "      <td>Symptomatic</td>\n",
       "      <td>Nucala AE</td>\n",
       "      <td>. Thank you for calling and calling us , borde...</td>\n",
       "      <td>Nucala AE. Filed AE</td>\n",
       "      <td>Long</td>\n",
       "      <td>Atypical</td>\n",
       "    </tr>\n",
       "  </tbody>\n",
       "</table>\n",
       "</div>"
      ],
      "text/plain": [
       "              call_len_sec   CREATED_DATE_TIME           IVR_REASON  \\\n",
       "call_id                                                               \n",
       "200169259326          2760 2022-05-19 13:16:09  Nucala Inbound Call   \n",
       "\n",
       "                      INCONTACT_SKILL PRODUCT_NAME CASE_TIER_1_GLOBAL  \\\n",
       "call_id                                                                 \n",
       "200169259326  SK_GRC_Hub_Nucala_Voice    NUCALA AI      Adverse Event   \n",
       "\n",
       "             CASE_TIER_2_US CASE_TIER_3_US    SUBJECT  \\\n",
       "call_id                                                 \n",
       "200169259326     AE Initial    Symptomatic  Nucala AE   \n",
       "\n",
       "                                                     transcript  \\\n",
       "call_id                                                           \n",
       "200169259326  . Thank you for calling and calling us , borde...   \n",
       "\n",
       "                          md_desc Length of call Call type  \n",
       "call_id                                                     \n",
       "200169259326  Nucala AE. Filed AE           Long  Atypical  "
      ]
     },
     "metadata": {},
     "output_type": "display_data"
    },
    {
     "data": {
      "text/plain": [
       "array(['Nucala AE. Filed AE'], dtype=object)"
      ]
     },
     "metadata": {},
     "output_type": "display_data"
    },
    {
     "data": {
      "text/plain": [
       "array([\". Thank you for calling and calling us , borderline my name is gel pen . I am a pharmacist talking to help you today .. . High dose , and my name is Kia , and , um , I needed to speak to someone regarding the column . I just received . Um , I wanted to wait a week , and it's been a week , and , um , I have some questions . .  Did I lose you ? Oh.  All right . So , I see that she has some questions for medication in color . Is that correct ?.  Um-hum .  Yes ..  .  Okay . I'll be happy to assist you with that . May I just start by getting your first and last name , please ?.  First name is kayaking I AH.  Last name is Namenda , AM , AM , D E. .  Thank you . May I have a zip code and a phone number for you , please ?.  Zithromax 211.7.  Phone number , HIV.  Six , six , six , three , one , one , five , one.  All right , thank you for this information and how can I help you in regards to the medication in color today. .  Um , I got the pneumococcal auto-injector , and I had that injected last Wednesday , so I thought I'd wait a week . Um , it's my second injection , and I'm having a really difficult time breathing , and I don't know if there's a side effect of that , but I've not slept well since that injection.  Crazy . I'm sorry to hear that you're experiencing that . I'll be happy to see what information I have here for you in regards to this , so what you're stating is that you're having difficult time breathing and you have not slept well since getting the auto injector last Wednesday ,. .  Yes , and , um , my pulmonologist has , did say that I should still continue taking my albuterol , which I do 2 puffs in the morning and 2 puffs at night , and my bridge 3 , um , which I do 2 puffs in the morning and 2 puffs at night , and it's not working , and I mean , , I'm , it's working a little bit , but I'm really having a hard time breathing.  Since the injection.  Yes ..  Okay , so you're . I see . All right , I'm sorry to hear that . So , your pulmonologist is suggested that you continue to take the albuterol 2 puffs in the morning and the evening ?  Yes .  , all right , and when you say albuterol , which device , are you using , do you know the name of the product ? .   The bridge three or the albuterol.  The albuterol , do you know which one it is ? .  Um-hum.  Hold on a second .. .  .  Um , it says albuterol sulfate HFA.  .  Okay ..  And he is stated that I need , uh , you're using that 2 puffs in the morning and the evening , and that is not helping , uh , with your breathing.  It's not helping like it was before . I had the injection . And then I also take the Breo.  What are you taking , ma'am ?.  The other inhaler I take 2 puffs in the morning and 2 puffs at night is bread , tree , B R E Z P R I. .  And you take that 2 puffs in the morning and 2 puffs in the evening.  Yeah , it's three , uh , prescriptions in one , which is budesonide.  Okay .  Okay ?.  Glyco. .  I will late and.  I'm sorry , I can barely read it . It's so small . And form a Torol.  Roommate . I'm sorry , I just can't hardly read it so dirty. .  All right , that is fine . So , with that one , you're using 2 puffs in the morning and 2 puffs in the evening as well , and you stayed at that , that is not helping your condition , um , or not helping , like , it was before the injection ? .  Is. .  .  . Okay . And may I ask , uh , what indication are you taking the medication , the California ? . .  Uh , my , my lungs , um , I have a high , uh , eosinophils.  Yes ..  Okay . So is that the eosinophilic asthma , characteristry syndrome , hyper eosinophilic syndrome , or nasal polyps ? Which one are you using it for ? .  .  Okay ..  Asthma , asthma , chronic asthma. .  Okay . Thank you ..  Oh ..  All right . And is it okay to place your , uh , refilled here while I do look into this information for you , ma'am ?.  All right . Yes , ma'am .. . . .  Yes , thank you . Um , before you do that , I just , um , that , like I said , this is my second injection . The first one I don't remember going through any kind of complication , and then my second injection , which was just last Wednesday , um , I just , like I said , I've just been having these difficult time , um , , and , uh , I'm not sleeping well because I have to sit up . I can't lay on my back or my sides . I feel like I'm drowning , and I'm , and at night , I can't breathe . So , I've been sitting up , which is really not the best way to sleep , so I'm not getting good sleep at all. .  All right , so you're stating that since you're having difficulty breathing , you're having to sit up and since due to that , you're not sleeping well , and this has started happening after your second injection of nuclear autoinjector since last Wednesday ? .  If.  Okay . Thank you for this information here , and please , um , is it okay to place your colon number filled here while I do research this information for you , ma'am ? .  Sure.  .  Okay , thank you . In just a moment , please ..  Okay.  Thank you for holding there . I appreciate your patience , ma'am ..  .  Hello ..  Uh , yes .  Can you lie to me. . .  Okay .. .  All right , ma'am , thank you . Uh , sorry , ma'am , I , I didn't hear you there . Um , if you said anything , um , but I do want to first let you know anything we do to discuss here today . It should not be considered medical advice , and we will refer you back to your physician for an information or details . So , according to our prescribing information , ma'am , the nuclear medication can cause a serious side effects , including allergic reactions , including anaphylaxis , and serious allergic reactions can happen after you get your colon injection . An allergic reactions can sometimes happen . Hours or days after you get a dose of Nucala . , therefore , it does mention to tell your doctor or get emergency help right away . If you have any of the following symptoms of an allergic reaction , which includes breathing problems . So , that is something that's listed as one of the symptoms of.  Egypt reaction , ma'am , therefore , we do highly recommend . You do speak to your doctor or get an emergency help right away , ma'am ..  Okay . How come I didn't do that on the first injection , but I'm getting it on the second dose . ..  Okay . Okay ..  ..  .  Right , so then , uh , as I mentioned earlier , allergic reactions can happen sometimes , hours or days after , uh , uh , you get a dose of Nucala , ma'am , so everyone reacts differently , you know , the way you react to medication is different . Um , therefore , you know , we [##redacted##] recommend , um , use it to your doctor or getting emergency help them.  .  Sure , ma'am ..  Sure ..  .. .  Okay . All right . Thank you so much . I appreciate it . I'll , um , can I ask you one other thing ? Um , I also have to take , um , I've been taking 2 , um , ibuprofens and 1 Tylenol , um , 1 for inflammation and 1 for pain , um , I thought maybe the , um , uh , uh , excuse me , the ibuprofen would help . So that , um , I could breathe , and I don't know if I should be doing that or not , but I , I've been doing that as well. . .  All right , so , uh , is there a question about concern of taking ibuprofen and atenolol along with in the car , is what you're concerned is.  Yes , is it okay to do that ?. .  .  Okay . Let me take a look and see if I have any information on that . Just a moment ..  .  Okay . Okay ..  All right , so in regards to that question , ma'am , currently formal drug interaction trials have not been performed within a column . Therefore , that is something we would have to also refer you back to your physician , ma'am ..  Okay . Okay . Well , thank you so much for your help . I appreciate it ..  Uh , sure , ma'am . And we do see . You're due to document this information here for our safety team . Um , this , is it okay to go over if you have questions with you here quickly ? .  Sure .. .  Okay ? And any of the questions I do ask you , if you do not feel comfortable answering , feel free to say no , and that is totally understandable . As far as in the color of injection that you're using , the second injection that you're injected on the last Wednesday , do you inject this medication at home or at the doctor's office ? .  At home ..  At home , okay ..  The , yeah , the second one has been at home , but the first one was at the doctor's office.  Okay ..  And the Nucynta auto injector that you're using by any chance , do you know the strength of the auto-injector that you were using ?.  Um.  Um , oh , it was 100 and , I can't remember . I , I , I've already thrown away the box . I'm sorry , I don't remember it ..  .  . Okay .  .  That's fine . Not a problem . Uh , so since you have thrown over the box , I assume you do not have the medication itself . Has that been discarded , as well.  Oh , you know what ? It's on the , um , hold on one second . It's in one of those , um , boxes that you guys sent me for , um.  Um.  .  Yeah , if it's already been discarded in the sharps container , we do not want you to take it out of that , ma'am , uh , due to safety reasons . So , it's totally understandable if you have already discarded the product ..  , well , hold on a second , because it , just one second , okay ?. . .  Oh.  Uh.   ..  .. . . .  Okay . And , oh , hold on just one second .. . .  Yeah .  .. . .  .  Hum. .  Okay . I have my pre , my approval letter . Are you still there ?.  .  Yes , ma'am . .  Hello ? Oh , I have my approval letter . It's been a call of 100 mg.  Uh.  Thank you . And the second injection that you injected last Wednesday , what injection site did you use to inject this , ma'am ? Where did you inject this ? .   On the , the left arm.  Left arm ..  Yes ..  Okay . And did you inject this to yourself , or did someone else inject it to you , ma'am ? .  My , my husband did.  Her husband did , okay ..  All right . And let's see here ..  Hum.  . Um , that evening.  All right . And the , so after you received that injection on last Wednesday , you stated that you were having difficulty time breathing . Did that begin immediately after you received that second dose or when would you say that started happening ?  .  or you started experiencing that ?  .  That evening , okay ..  That evening. .  And ever since then , since you were having difficulty time breathing , um , you have not slept well since you have to sit up , correct ? .  Yes ..  Okay . And the difficulty , the breathing ? Difficulty breathing is still present then ? .  Yes ..  Okay ..  My immune system must be down because I also got a cold . .. .  All right . So , ma'am , as far as the cold is concerned , when did that begin , ma'am ?.  Um , let's see . Two , two days ago , I started feeling kind of funny , and then yesterday , I was down . I've been in , in bed all day.  So , when you say funny and when you say you have a cold , what exactly are you experiencing now ? . .  Um , like a tickle in my , in my throat , and , um , it just , my head kind of felt foggy , and definitely yesterday , it was really bad. .  .  Remind.  Yeah , it.  And , so you feel like , so you're , you have a cold , , a few days ago , you have a tickle in your throat . Do you have a foggy head and all of this started two days ago ? . . .  Um , it started two days ago , just a little tickling in the throat , so I gargled with salt water and that normally takes care of it within a day , but yesterday , it hit me pretty hard , so I've been taking , um , you know , cold , cold [##redacted##][##redacted##][##redacted##] for night and day . .  And my nose is really stuffy and a lot of mucus. .  .. . .  All right , so , let me just repeat this back . So , two days ago , it started with a tickle in your throat . As far as the other side effect , or other effects that you're experiencing , the foggy head , stuffy nose , and mucus , and , uh , your experiencing cold , when did that start happening , did that start happening yesterday , or that also started two days ago on that evening ? .  Yesterday.  Yesterday ? Okay .. . .  And as , as , as all of the symptoms that you're experiencing is still present , ma'am.  He is.  Okay .. .  And you're taking cold , [##redacted##][##redacted##][##redacted##] for night and day , is that correct ?.  If. . .  Okay . And you mentioned that your pulmonologist suggested to continue taking your albuterol and your breast tree , uh , medications , and , uh , both of those medications . Did you start taking them after you started Nucala , or have you been on them before you started Nucynta ? .  Okay .  So.  .  Okay ..  I've been on them for years now , for the last , um , couple of years , but , um , and my doctor just said just make sure you continue taking it with your Invokana.  Uh.  Okay . Thank you for this information here .. .  Okay .. .  And Humana , and also during the call , that you're taking ibuprofen and Tylenol for inflammation and pain . So , when you mentioned inflammation and pain , is that something you started experiencing after you started medication in Colorado or after you received your second dose of Nucala , or when did you start experiencing that ?  Around.  ..  Oh , no , no , no . I've been doing that for , for quite a while now , because I have , um , uh , knee problems.  .  Okay ..  So you have been taking ibuprofen , Tylenol for inflammation and pain , pain of your knee problems.  Yes ..  Okay . And this has been going on since how long ? .  .  Okay .  .  Okay ..  . This has been going on before I took the collar , so it's been quite a while . I'm , yeah ..  .  Yeah.  Yes ..  So the pain and inflammation as , when the knee has been present , uh , since a long time before nuclear ?  Yes.  Yes ..  Okay ..   Good.  Thank you for this information.  I do appreciate that . And I do understand since you discarded the product , you may not have that a lot , number expiration date , so that is fine . One last thing I do want to ask you here is me I have permission for our safety team to contact your doctor as a follow-up in regards to this and if you say yes or safety team may contact your doctor , if you say no , they do not contact your doctor at the moment.  No , that's fine ..  Okay . And would you be able to provide me with your doctor's name , address and phone number , please ? .  If it starts your groggy.  Grandchildren with an S. .  And you said you needed the address.  Yes , ma'am ..  Five zero one , Washington Street.  Does that sound right ?.  Okay . Sweet , 7.  Two five. .  Um , send the angle to California , 9:00 to 1:03.  All right . So let me repeat this back , . I have five , zero , one , Washington Street . Sweet , seven , two , five , and this is , and the ego , California , nine , two , one , zero three ..  Yes ..  Okay . And the doctor's first name is.  , the last name range is as spelled R A N C H E S ..  Yes ..  Okay . And , uh , may I also go ahead and get a phone number for the doctor if you do have that information , please ..   Telephone number is 6.19.  299.  Two , five , seven , zero.  Thank you so much for this information. .  Um-hum .  Document that here . So , um , I'll submit this here , and , ma'am , we do have some importance . Safety information for medication narcotic . Did you have any additional time to hear that today ? . .  .  . Um , I'm sorry , what , to , uh , first of all , for what ? I'm sorry ..  Okay ..  We have some importance safety information for medication , NuvaRing . Did you have any additional time to hear that today ? .  Uh , yeah , because it doesn't take too long . ..  Sure . So Nucala , ma'am , is an add on prescription maintenance treatment for people's sakes and older with severe eosinophilic asthma , narcotic is not used to treat certain breathing problems . Three years allergic reactions . , including anaphylaxis can happen after you get in a color . Tell your doctor or get an emergency help right away if you experience swelling of your face , mouth and tongue , fainting , dizziness , feeling lightheaded , hives , bruising problems , or rash . Some people who receive Nucala , had herpes zoster infections , which can cause shingles . Did not stop taking your other asthma medicines , including your steroid medicines , unless your doctor tells you to . Tell your doctor if you have a parasitic infection . Our pregnant become pregnant or our breastfeeding . The most common side effects include , uh , injection site reaction , back pain and fatigue . This information is included in our prescribing information and on our website . Would you like us to e-mail this or mail this out to you today ? .  Sure.  Okay.  And what is the best e-mail address for you to e-mail this out to , ma'am ? .  It's K I A HCA , SUN , HMO.  All right . So I have K I AH , C A S U N , and adjuvant ..  Yes ..  Thank you , ma'am , ma'am . And , uh , there's a man that we do also offer a live with your training on how to use the product . Would you be interested in the video of training today.  No , that's okay , thank you . ..  All right . And one more thing here , ma'am ,.  Let's see . All right , yeah , I think I have all the information . Uh , that's needed . Did you have anything else that I can assist you with , ma'am ?.  No , that's it . Thank you ..  All right . Well , thank you for reaching out to the , uh , support line . Today , there will be a brief optional survey , at the end of our call , and I hope you reach out to your doctor , and please , uh , let them know what you're experiencing , and I hope you have a good day , okay ? .  Okay , thank you ..  Thank you , ma'am . Bye bye .\"],\n",
       "      dtype=object)"
      ]
     },
     "metadata": {},
     "output_type": "display_data"
    }
   ],
   "source": [
    "cost_vars = ['Length of call', 'Call type']\n",
    "with pd.option_context(\n",
    "                       'display.max_rows', None, \n",
    "                       'display.max_columns', None, \n",
    "#                        'display.max_colwidth', None\n",
    "                      ):\n",
    "    for category, group in df['ts_md'].groupby(cost_vars):\n",
    "        print(category)\n",
    "        _call_ids = group.sample().index\n",
    "        for _call_id in _call_ids:\n",
    "            _call_id = [_call_id]\n",
    "            display(dist.loc[_call_id])\n",
    "            display(ts_md_pretty.loc[_call_id])\n",
    "            display(ts_md_pretty.loc[_call_id]['md_desc'].values)\n",
    "            display(ts_md_pretty.loc[_call_id]['transcript'].values)"
   ]
  },
  {
   "cell_type": "markdown",
   "id": "aede93ae",
   "metadata": {},
   "source": [
    "# 7/21/2022 — Sentiment"
   ]
  },
  {
   "cell_type": "code",
   "execution_count": 50,
   "id": "1cdc8252",
   "metadata": {},
   "outputs": [],
   "source": [
    "full_df = ts_md_pretty.join(df['rep_sent'].drop(columns = ['sentences']), how = 'inner') \\\n",
    "                      .join(df['cus_sent'].drop(columns = ['sentences']), how = 'inner',  \n",
    "                            lsuffix = '_rep', rsuffix = '_cus')\n",
    "\n",
    "full_df['cus_sent_type'] = get_sent_type(full_df['magnitude_cus'], full_df['score_cus'])\n",
    "full_df['rep_sent_type'] = get_sent_type(full_df['magnitude_rep'], full_df['score_rep'])\n",
    "\n",
    "full_df.to_csv('df/full_df.csv')"
   ]
  },
  {
   "cell_type": "code",
   "execution_count": 159,
   "id": "7eb5f1ef",
   "metadata": {},
   "outputs": [
    {
     "data": {
      "text/html": [
       "<div>\n",
       "<style scoped>\n",
       "    .dataframe tbody tr th:only-of-type {\n",
       "        vertical-align: middle;\n",
       "    }\n",
       "\n",
       "    .dataframe tbody tr th {\n",
       "        vertical-align: top;\n",
       "    }\n",
       "\n",
       "    .dataframe thead th {\n",
       "        text-align: right;\n",
       "    }\n",
       "</style>\n",
       "<table border=\"1\" class=\"dataframe\">\n",
       "  <thead>\n",
       "    <tr style=\"text-align: right;\">\n",
       "      <th>Length of call</th>\n",
       "      <th>Short</th>\n",
       "      <th>Long</th>\n",
       "      <th>Sum</th>\n",
       "    </tr>\n",
       "    <tr>\n",
       "      <th>Call type</th>\n",
       "      <th></th>\n",
       "      <th></th>\n",
       "      <th></th>\n",
       "    </tr>\n",
       "  </thead>\n",
       "  <tbody>\n",
       "    <tr>\n",
       "      <th>Normal</th>\n",
       "      <td>176.033333</td>\n",
       "      <td>182.866667</td>\n",
       "      <td>358.900000</td>\n",
       "    </tr>\n",
       "    <tr>\n",
       "      <th>Atypical</th>\n",
       "      <td>18.841667</td>\n",
       "      <td>207.600000</td>\n",
       "      <td>226.441667</td>\n",
       "    </tr>\n",
       "    <tr>\n",
       "      <th>Sum</th>\n",
       "      <td>194.875000</td>\n",
       "      <td>390.466667</td>\n",
       "      <td>585.341667</td>\n",
       "    </tr>\n",
       "  </tbody>\n",
       "</table>\n",
       "</div>"
      ],
      "text/plain": [
       "Length of call       Short        Long         Sum\n",
       "Call type                                         \n",
       "Normal          176.033333  182.866667  358.900000\n",
       "Atypical         18.841667  207.600000  226.441667\n",
       "Sum             194.875000  390.466667  585.341667"
      ]
     },
     "execution_count": 159,
     "metadata": {},
     "output_type": "execute_result"
    }
   ],
   "source": [
    "pd.crosstab(df['ts_md']['Call type'],\n",
    "            df['ts_md']['Length of call'], \n",
    "            df['ts_md']['call_len_sec'], aggfunc = sum,\n",
    "            margins = True, margins_name = 'Sum') / 60 / 60"
   ]
  },
  {
   "cell_type": "code",
   "execution_count": 10,
   "id": "e3c0248a",
   "metadata": {},
   "outputs": [
    {
     "data": {
      "text/html": [
       "<div>\n",
       "<style scoped>\n",
       "    .dataframe tbody tr th:only-of-type {\n",
       "        vertical-align: middle;\n",
       "    }\n",
       "\n",
       "    .dataframe tbody tr th {\n",
       "        vertical-align: top;\n",
       "    }\n",
       "\n",
       "    .dataframe thead th {\n",
       "        text-align: right;\n",
       "    }\n",
       "</style>\n",
       "<table border=\"1\" class=\"dataframe\">\n",
       "  <thead>\n",
       "    <tr style=\"text-align: right;\">\n",
       "      <th>Length of call</th>\n",
       "      <th>Short</th>\n",
       "      <th>Long</th>\n",
       "      <th>Sum</th>\n",
       "    </tr>\n",
       "    <tr>\n",
       "      <th>Call type</th>\n",
       "      <th></th>\n",
       "      <th></th>\n",
       "      <th></th>\n",
       "    </tr>\n",
       "  </thead>\n",
       "  <tbody>\n",
       "    <tr>\n",
       "      <th>Normal</th>\n",
       "      <td>30.07</td>\n",
       "      <td>31.24</td>\n",
       "      <td>61.31</td>\n",
       "    </tr>\n",
       "    <tr>\n",
       "      <th>Atypical</th>\n",
       "      <td>3.22</td>\n",
       "      <td>35.47</td>\n",
       "      <td>38.69</td>\n",
       "    </tr>\n",
       "    <tr>\n",
       "      <th>Sum</th>\n",
       "      <td>33.29</td>\n",
       "      <td>66.71</td>\n",
       "      <td>100.00</td>\n",
       "    </tr>\n",
       "  </tbody>\n",
       "</table>\n",
       "</div>"
      ],
      "text/plain": [
       "Length of call  Short   Long     Sum\n",
       "Call type                           \n",
       "Normal          30.07  31.24   61.31\n",
       "Atypical         3.22  35.47   38.69\n",
       "Sum             33.29  66.71  100.00"
      ]
     },
     "execution_count": 10,
     "metadata": {},
     "output_type": "execute_result"
    }
   ],
   "source": [
    "pd.crosstab(df['ts_md']['Call type'],\n",
    "            df['ts_md']['Length of call'], \n",
    "            df['ts_md']['call_len_sec'], aggfunc = sum,\n",
    "            margins = True, margins_name = 'Sum', normalize = True).round(4) * 100"
   ]
  },
  {
   "cell_type": "code",
   "execution_count": 99,
   "id": "3615656e",
   "metadata": {},
   "outputs": [
    {
     "data": {
      "text/plain": [
       "Length of call  Call type\n",
       "Short           Normal       0.613219\n",
       "                Atypical     0.061825\n",
       "Long            Normal       0.198040\n",
       "                Atypical     0.123398\n",
       "dtype: float64"
      ]
     },
     "execution_count": 99,
     "metadata": {},
     "output_type": "execute_result"
    }
   ],
   "source": [
    "full_df.groupby(cost_vars).size() / full_df.shape[0]"
   ]
  },
  {
   "cell_type": "code",
   "execution_count": 100,
   "id": "430554a7",
   "metadata": {},
   "outputs": [
    {
     "data": {
      "text/plain": [
       "Length of call  Call type  cus_sent_type \n",
       "Short           Normal     very mixed        0.281148\n",
       "                           mixed             0.252459\n",
       "                           neutral           0.234426\n",
       "                           maybe positive    0.066803\n",
       "                           positive          0.050410\n",
       "                           maybe negative    0.036885\n",
       "                           very positive     0.034016\n",
       "                           very negative     0.022131\n",
       "                           negative          0.021721\n",
       "                Atypical   very mixed        0.296748\n",
       "                           mixed             0.223577\n",
       "                           neutral           0.203252\n",
       "                           positive          0.085366\n",
       "                           maybe positive    0.077236\n",
       "                           maybe negative    0.048780\n",
       "                           very positive     0.040650\n",
       "                           negative          0.024390\n",
       "Long            Normal     mixed             0.262690\n",
       "                           very mixed        0.260152\n",
       "                           neutral           0.257614\n",
       "                           maybe positive    0.064721\n",
       "                           positive          0.046954\n",
       "                           maybe negative    0.044416\n",
       "                           very positive     0.026650\n",
       "                           very negative     0.025381\n",
       "                           negative          0.011421\n",
       "                Atypical   mixed             0.299389\n",
       "                           very mixed        0.287169\n",
       "                           neutral           0.203666\n",
       "                           maybe positive    0.065173\n",
       "                           very positive     0.044807\n",
       "                           maybe negative    0.038697\n",
       "                           positive          0.038697\n",
       "                           very negative     0.014257\n",
       "                           negative          0.008147\n",
       "Name: cus_sent_type, dtype: float64"
      ]
     },
     "execution_count": 100,
     "metadata": {},
     "output_type": "execute_result"
    }
   ],
   "source": [
    "full_df.groupby(cost_vars)['cus_sent_type'].value_counts(normalize = True)"
   ]
  },
  {
   "cell_type": "code",
   "execution_count": 60,
   "id": "b4602edd",
   "metadata": {},
   "outputs": [],
   "source": [
    "full_df['score_diff'] = full_df['score_rep'] - full_df['score_cus']"
   ]
  },
  {
   "cell_type": "code",
   "execution_count": 94,
   "id": "3c261a23",
   "metadata": {},
   "outputs": [
    {
     "data": {
      "text/plain": [
       "<AxesSubplot:>"
      ]
     },
     "execution_count": 94,
     "metadata": {},
     "output_type": "execute_result"
    },
    {
     "data": {
      "image/png": "[encoded data removed]",
      "text/plain": [
       "<Figure size 432x288 with 1 Axes>"
      ]
     },
     "metadata": {
      "needs_background": "light"
     },
     "output_type": "display_data"
    }
   ],
   "source": [
    "full_df['score_diff'].hist(bins = 50)"
   ]
  },
  {
   "cell_type": "code",
   "execution_count": 63,
   "id": "86585bd6",
   "metadata": {},
   "outputs": [
    {
     "data": {
      "text/plain": [
       "Length of call  Call type\n",
       "Short           Normal       0.015820\n",
       "                Atypical     0.008130\n",
       "Long            Normal       0.011802\n",
       "                Atypical     0.015275\n",
       "Name: score_diff, dtype: float64"
      ]
     },
     "execution_count": 63,
     "metadata": {},
     "output_type": "execute_result"
    }
   ],
   "source": [
    "full_df.groupby(cost_vars)['score_diff'].mean()"
   ]
  },
  {
   "cell_type": "code",
   "execution_count": 70,
   "id": "9ee4247c",
   "metadata": {},
   "outputs": [
    {
     "data": {
      "text/plain": [
       "Length of call  Call type\n",
       "Short           Normal       0.050902\n",
       "                Atypical     0.060976\n",
       "Long            Normal       0.050000\n",
       "                Atypical     0.052138\n",
       "Name: score_cus, dtype: float64"
      ]
     },
     "execution_count": 70,
     "metadata": {},
     "output_type": "execute_result"
    }
   ],
   "source": [
    "full_df.groupby(cost_vars)['score_cus'].mean()"
   ]
  },
  {
   "cell_type": "code",
   "execution_count": 52,
   "id": "96264297",
   "metadata": {},
   "outputs": [
    {
     "data": {
      "text/plain": [
       "<AxesSubplot:xlabel='score_rep', ylabel='score_cus'>"
      ]
     },
     "execution_count": 52,
     "metadata": {},
     "output_type": "execute_result"
    },
    {
     "data": {
      "image/png": "[encoded data removed]",
      "text/plain": [
       "<Figure size 432x288 with 1 Axes>"
      ]
     },
     "metadata": {
      "needs_background": "light"
     },
     "output_type": "display_data"
    }
   ],
   "source": [
    "full_df.plot.scatter('score_rep', 'score_cus')"
   ]
  },
  {
   "cell_type": "code",
   "execution_count": 71,
   "id": "b47ef15d",
   "metadata": {},
   "outputs": [
    {
     "data": {
      "text/plain": [
       "Length of call  Call type\n",
       "Short           Normal       AxesSubplot(0.125,0.125;0.775x0.755)\n",
       "                Atypical     AxesSubplot(0.125,0.125;0.775x0.755)\n",
       "Long            Normal       AxesSubplot(0.125,0.125;0.775x0.755)\n",
       "                Atypical     AxesSubplot(0.125,0.125;0.775x0.755)\n",
       "dtype: object"
      ]
     },
     "execution_count": 71,
     "metadata": {},
     "output_type": "execute_result"
    },
    {
     "data": {
      "image/png": "[encoded data removed]",
      "text/plain": [
       "<Figure size 432x288 with 1 Axes>"
      ]
     },
     "metadata": {
      "needs_background": "light"
     },
     "output_type": "display_data"
    },
    {
     "data": {
      "image/png": "[encoded data removed]",
      "text/plain": [
       "<Figure size 432x288 with 1 Axes>"
      ]
     },
     "metadata": {
      "needs_background": "light"
     },
     "output_type": "display_data"
    },
    {
     "data": {
      "image/png": "[encoded data removed]",
      "text/plain": [
       "<Figure size 432x288 with 1 Axes>"
      ]
     },
     "metadata": {
      "needs_background": "light"
     },
     "output_type": "display_data"
    },
    {
     "data": {
      "image/png": "[encoded data removed]",
      "text/plain": [
       "<Figure size 432x288 with 1 Axes>"
      ]
     },
     "metadata": {
      "needs_background": "light"
     },
     "output_type": "display_data"
    }
   ],
   "source": [
    "full_df.groupby(cost_vars).plot.scatter('score_rep', 'score_cus')"
   ]
  },
  {
   "cell_type": "markdown",
   "id": "12616704",
   "metadata": {},
   "source": [
    "# 7/26/2022 — Redo sentiment"
   ]
  },
  {
   "cell_type": "code",
   "execution_count": 12,
   "id": "76b6f0af",
   "metadata": {},
   "outputs": [],
   "source": [
    "# huggingface:\n",
    "# 1. tensorflow: https://developer.apple.com/metal/tensorflow-plugin/\n",
    "# 2. torch: conda install pytorch torchvision torchaudio -c pytorch\n",
    "# 3. transformers: conda install -c huggingface transformers\n",
    "from transformers import pipeline"
   ]
  },
  {
   "cell_type": "code",
   "execution_count": null,
   "id": "c202bbdc-b7ea-4014-8160-1f17983ffbdc",
   "metadata": {},
   "outputs": [
    {
     "name": "stderr",
     "output_type": "stream",
     "text": [
      "No model was supplied, defaulted to distilbert-base-uncased-finetuned-sst-2-english and revision af0f99b (https://huggingface.co/distilbert-base-uncased-finetuned-sst-2-english).\n",
      "Using a pipeline without specifying a model name and revision in production is not recommended.\n",
      "Some layers from the model checkpoint at distilbert-base-uncased-finetuned-sst-2-english were not used when initializing TFDistilBertForSequenceClassification: ['dropout_19']\n",
      "- This IS expected if you are initializing TFDistilBertForSequenceClassification from the checkpoint of a model trained on another task or with another architecture (e.g. initializing a BertForSequenceClassification model from a BertForPreTraining model).\n",
      "- This IS NOT expected if you are initializing TFDistilBertForSequenceClassification from the checkpoint of a model that you expect to be exactly identical (initializing a BertForSequenceClassification model from a BertForSequenceClassification model).\n",
      "Some layers of TFDistilBertForSequenceClassification were not initialized from the model checkpoint at distilbert-base-uncased-finetuned-sst-2-english and are newly initialized: ['dropout_119']\n",
      "You should probably TRAIN this model on a down-stream task to be able to use it for predictions and inference.\n"
     ]
    }
   ],
   "source": [
    "sentiment_pipeline = pipeline(\"sentiment-analysis\")"
   ]
  },
  {
   "cell_type": "code",
   "execution_count": 42,
   "id": "4733bfe1-ec6f-4833-9c29-b7ad5d37f73d",
   "metadata": {},
   "outputs": [],
   "source": [
    "results_cus = sentiment_pipeline(full_df['transcript_cus'][:10].tolist())\n",
    "results_rep = sentiment_pipeline(full_df['transcript_rep'][:10].tolist())"
   ]
  },
  {
   "cell_type": "code",
   "execution_count": 43,
   "id": "2708909f-9fb2-41ef-b38f-0e0785f60102",
   "metadata": {},
   "outputs": [
    {
     "data": {
      "text/plain": [
       "[{'label': 'POSITIVE', 'score': 0.6773339509963989},\n",
       " {'label': 'NEGATIVE', 'score': 0.9667125940322876},\n",
       " {'label': 'NEGATIVE', 'score': 0.9987851977348328},\n",
       " {'label': 'POSITIVE', 'score': 0.9982130527496338},\n",
       " {'label': 'NEGATIVE', 'score': 0.9990536570549011},\n",
       " {'label': 'POSITIVE', 'score': 0.9996293783187866},\n",
       " {'label': 'NEGATIVE', 'score': 0.9938369393348694},\n",
       " {'label': 'POSITIVE', 'score': 0.7951898574829102},\n",
       " {'label': 'NEGATIVE', 'score': 0.9958199262619019},\n",
       " {'label': 'NEGATIVE', 'score': 0.9903406500816345}]"
      ]
     },
     "execution_count": 43,
     "metadata": {},
     "output_type": "execute_result"
    }
   ],
   "source": [
    "results_rep"
   ]
  },
  {
   "cell_type": "code",
   "execution_count": 44,
   "id": "d3071bcf-5d80-4a50-bda5-802a893d60a7",
   "metadata": {},
   "outputs": [
    {
     "data": {
      "text/plain": [
       "[{'label': 'POSITIVE', 'score': 0.6182929277420044},\n",
       " {'label': 'NEGATIVE', 'score': 0.9991592168807983},\n",
       " {'label': 'NEGATIVE', 'score': 0.9994611144065857},\n",
       " {'label': 'POSITIVE', 'score': 0.9979739785194397},\n",
       " {'label': 'NEGATIVE', 'score': 0.9993785619735718},\n",
       " {'label': 'POSITIVE', 'score': 0.9861232042312622},\n",
       " {'label': 'NEGATIVE', 'score': 0.9876309037208557},\n",
       " {'label': 'NEGATIVE', 'score': 0.99339359998703},\n",
       " {'label': 'NEGATIVE', 'score': 0.9988645315170288},\n",
       " {'label': 'NEGATIVE', 'score': 0.9965019226074219}]"
      ]
     },
     "execution_count": 44,
     "metadata": {},
     "output_type": "execute_result"
    }
   ],
   "source": [
    "results_cus"
   ]
  },
  {
   "cell_type": "code",
   "execution_count": 39,
   "id": "f46954a2-6f30-46ba-99ae-822b12a926b8",
   "metadata": {},
   "outputs": [],
   "source": [
    "# !pip install --upgrade gensim spacy nltk"
   ]
  },
  {
   "cell_type": "code",
   "execution_count": 80,
   "id": "f8cc19e0-8fb0-4678-8135-4baed96e3ce1",
   "metadata": {},
   "outputs": [],
   "source": [
    "import matplotlib.pyplot as plt\n",
    "import seaborn as sns\n",
    "import re\n",
    "import gensim\n",
    "import nltk\n",
    "# nltk.download('wordnet')\n",
    "# nltk.download('omw-1.4')\n",
    "\n",
    "'''\n",
    "Preprocess a string.\n",
    ":parameter\n",
    "    :param text: string - name of column containing text\n",
    "    :param lst_stopwords: list - list of stopwords to remove\n",
    "    :param flg_stemm: bool - whether stemming is to be applied\n",
    "    :param flg_lemm: bool - whether lemmitisation is to be applied\n",
    ":return\n",
    "    cleaned text\n",
    "'''\n",
    "def utils_preprocess_text(text, flg_stemm=False, flg_lemm=True, lst_stopwords=None):\n",
    "    import re\n",
    "    import nltk\n",
    "    ## clean (convert to lowercase and remove punctuations and characters and then strip)\n",
    "    text = re.sub(r'[^\\w\\s]', '', str(text).lower().strip())\n",
    "            \n",
    "    ## Tokenize (convert from string to list)\n",
    "    lst_text = text.split()    ## remove Stopwords\n",
    "    if lst_stopwords is not None:\n",
    "        lst_text = [word for word in lst_text if word not in \n",
    "                    lst_stopwords]\n",
    "                \n",
    "    ## Stemming (remove -ing, -ly, ...)\n",
    "    if flg_stemm == True:\n",
    "        ps = nltk.stem.porter.PorterStemmer()\n",
    "        lst_text = [ps.stem(word) for word in lst_text]\n",
    "                \n",
    "    ## Lemmatisation (convert the word into root word)\n",
    "    if flg_lemm == True:\n",
    "        lem = nltk.stem.wordnet.WordNetLemmatizer()\n",
    "        lst_text = [lem.lemmatize(word) for word in lst_text]\n",
    "            \n",
    "    ## back to string from list\n",
    "    text = \" \".join(lst_text)\n",
    "    return text"
   ]
  },
  {
   "cell_type": "code",
   "execution_count": 96,
   "id": "8918c6b5-bec2-44f7-8f14-ee51cbcd9abe",
   "metadata": {},
   "outputs": [
    {
     "data": {
      "text/plain": [
       "251"
      ]
     },
     "execution_count": 96,
     "metadata": {},
     "output_type": "execute_result"
    }
   ],
   "source": []
  },
  {
   "cell_type": "code",
   "execution_count": 116,
   "id": "25c5c5cd-450f-40f1-b6f7-f0602318bfce",
   "metadata": {},
   "outputs": [
    {
     "data": {
      "text/plain": [
       "Index(['call_len_sec', 'CREATED_DATE_TIME', 'IVR_REASON', 'INCONTACT_SKILL',\n",
       "       'PRODUCT_NAME', 'CASE_TIER_1_GLOBAL', 'CASE_TIER_2_US',\n",
       "       'CASE_TIER_3_US', 'SUBJECT', 'transcript', 'md_desc', 'Length of call',\n",
       "       'Call type', 'magnitude_rep', 'score_rep', 'transcript_rep',\n",
       "       'magnitude_cus', 'score_cus', 'transcript_cus', 'cus_sent_type',\n",
       "       'rep_sent_type'],\n",
       "      dtype='object')"
      ]
     },
     "execution_count": 116,
     "metadata": {},
     "output_type": "execute_result"
    }
   ],
   "source": [
    "full_df.columns"
   ]
  },
  {
   "cell_type": "code",
   "execution_count": 108,
   "id": "4b4ba1c6-7eaf-4f04-891f-f99242a4f041",
   "metadata": {},
   "outputs": [],
   "source": [
    "n_gram = 2\n",
    "corpus = full_df['SUBJECT'][~full_df['SUBJECT'].isna()].apply(utils_preprocess_text)\n",
    "## pre-process corpus\n",
    "lst_corpus = []\n",
    "for string in corpus:\n",
    "    lst_words = string.split()\n",
    "    lst_grams = [\" \".join(lst_words[i:i + n_gram]) for i in range(0, \n",
    "                     len(lst_words), n_gram)]\n",
    "    lst_corpus.append(lst_grams)## map words to an id\n",
    "id2word = gensim.corpora.Dictionary(lst_corpus)## create dictionary word:freq\n",
    "dic_corpus = [id2word.doc2bow(word) for word in lst_corpus] ## train LDA"
   ]
  },
  {
   "cell_type": "code",
   "execution_count": 112,
   "id": "221ca455-73a2-46ad-a3a2-a0e975c6cda8",
   "metadata": {},
   "outputs": [
    {
     "data": {
      "image/png": "[encoded data removed]",
      "text/plain": [
       "<Figure size 432x288 with 1 Axes>"
      ]
     },
     "metadata": {
      "needs_background": "light"
     },
     "output_type": "display_data"
    }
   ],
   "source": [
    "num_topics = 2\n",
    "lda_model = gensim.models.ldamodel.LdaModel(corpus=dic_corpus, id2word=id2word, num_topics=num_topics, \n",
    "                                            random_state=123, update_every=1, chunksize=100, passes=10, \n",
    "                                            alpha='auto', per_word_topics=True)   \n",
    "## output\n",
    "lst_dics = []\n",
    "for i in range(0,num_topics):\n",
    "    lst_tuples = lda_model.get_topic_terms(i)\n",
    "    for tupla in lst_tuples:\n",
    "        lst_dics.append({\"topic\":i, \"id\":tupla[0], \n",
    "                         \"word\":id2word[tupla[0]], \n",
    "                         \"weight\":tupla[1]})\n",
    "dtf_topics = pd.DataFrame(lst_dics, \n",
    "                         columns=['topic','id','word','weight'])\n",
    "\n",
    "## plot\n",
    "fig, ax = plt.subplots()\n",
    "sns.barplot(y=\"word\", x=\"weight\", hue=\"topic\", data=dtf_topics, dodge=False, ax=ax).set_title('Main Topics')\n",
    "ax.set(ylabel=\"\", xlabel=\"Word Importance\")\n",
    "plt.show()"
   ]
  }
 ],
 "metadata": {
  "kernelspec": {
   "display_name": "Python 3 (ipykernel)",
   "language": "python",
   "name": "python3"
  },
  "language_info": {
   "codemirror_mode": {
    "name": "ipython",
    "version": 3
   },
   "file_extension": ".py",
   "mimetype": "text/x-python",
   "name": "python",
   "nbconvert_exporter": "python",
   "pygments_lexer": "ipython3",
   "version": "3.9.13"
  },
  "varInspector": {
   "cols": {
    "lenName": 16,
    "lenType": 16,
    "lenVar": 40
   },
   "kernels_config": {
    "python": {
     "delete_cmd_postfix": "",
     "delete_cmd_prefix": "del ",
     "library": "var_list.py",
     "varRefreshCmd": "print(var_dic_list())"
    },
    "r": {
     "delete_cmd_postfix": ") ",
     "delete_cmd_prefix": "rm(",
     "library": "var_list.r",
     "varRefreshCmd": "cat(var_dic_list()) "
    }
   },
   "types_to_exclude": [
    "module",
    "function",
    "builtin_function_or_method",
    "instance",
    "_Feature"
   ],
   "window_display": false
  }
 },
 "nbformat": 4,
 "nbformat_minor": 5
}
